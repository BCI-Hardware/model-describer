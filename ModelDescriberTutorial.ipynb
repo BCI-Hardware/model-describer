{
 "cells": [
  {
   "cell_type": "markdown",
   "metadata": {},
   "source": [
    "### Model Describer Meetup Tutorial\n",
    "\n",
    "In this notebook, we will be doing some brief EDA of the [bicycle trip dataset](https://www.kaggle.com/pronto/cycle-share-dataset/home). This is data from the Pronto Cycle Share system which consists of 500 bikes and 54 stations located in Seattle. \n",
    "\n",
    "The key question for this tutorial will be whether or not there are noticeable differences in trip duration by gender and by user age. We will not be controlling for location information (a known deficit of this tutorial). \n",
    "\n",
    "In this tutorial, we will be covering the following:\n",
    "\n",
    "* [Data prep](#prep)\n",
    "* [Exploratory data analysis](#eda)\n",
    "* [Build neural network model](#neural)\n",
    "* [Model Describer Regression Evaluation](#mdesc_regression)\n",
    "* [Model Describer Classification Evaluation](#mdesc_classification)\n",
    "* [Model Describer Regression Sensitivity](#mdesc_sensitivity_regression)\n",
    "* [Model Describer Classification Sensitivity](mdesc_sensitivity_classification)\n",
    "* [Additional thoughts](#thoughts)"
   ]
  },
  {
   "cell_type": "code",
   "execution_count": 1,
   "metadata": {},
   "outputs": [
    {
     "name": "stderr",
     "output_type": "stream",
     "text": [
      "C:\\Users\\jlewris\\AppData\\Local\\Continuum\\anaconda3\\lib\\site-packages\\h5py\\__init__.py:36: FutureWarning:\n",
      "\n",
      "Conversion of the second argument of issubdtype from `float` to `np.floating` is deprecated. In future, it will be treated as `np.float64 == np.dtype(float).type`.\n",
      "\n",
      "Using TensorFlow backend.\n"
     ]
    }
   ],
   "source": [
    "import os\n",
    "from datetime import datetime\n",
    "\n",
    "from plotly.offline import download_plotlyjs, init_notebook_mode, plot, iplot\n",
    "import plotly.graph_objs as go\n",
    "import keras\n",
    "import pandas as pd\n",
    "\n",
    "from mdesc.models import (Eval, ClassifierEval, Sensitivity, ClassifierSensitivity)"
   ]
  },
  {
   "cell_type": "code",
   "execution_count": 2,
   "metadata": {},
   "outputs": [
    {
     "data": {
      "text/html": [
       "<script>requirejs.config({paths: { 'plotly': ['https://cdn.plot.ly/plotly-latest.min']},});if(!window.Plotly) {{require(['plotly'],function(plotly) {window.Plotly=plotly;});}}</script>"
      ],
      "text/vnd.plotly.v1+html": [
       "<script>requirejs.config({paths: { 'plotly': ['https://cdn.plot.ly/plotly-latest.min']},});if(!window.Plotly) {{require(['plotly'],function(plotly) {window.Plotly=plotly;});}}</script>"
      ]
     },
     "metadata": {},
     "output_type": "display_data"
    }
   ],
   "source": [
    "# initialize plotly notebook_mode\n",
    "init_notebook_mode(connected=True)"
   ]
  },
  {
   "cell_type": "markdown",
   "metadata": {},
   "source": [
    "#### Data Prep <a id='prep' />\n",
    "\n",
    "Read in data and perform basic data manipulations"
   ]
  },
  {
   "cell_type": "code",
   "execution_count": 3,
   "metadata": {},
   "outputs": [
    {
     "name": "stderr",
     "output_type": "stream",
     "text": [
      "b'Skipping line 50794: expected 12 fields, saw 20\\n'\n"
     ]
    }
   ],
   "source": [
    "# read in the trip and weather data. We will not be using the station data, but there are a number of ways we could use\n",
    "# this if we took advantage of the location information. \n",
    "\n",
    "base_path = r'C:\\Users\\jlewris\\Desktop\\BikeData'\n",
    "trip = pd.read_csv(os.path.join(base_path, 'trip.csv'), error_bad_lines=False)\n",
    "weather = pd.read_csv(os.path.join(base_path, 'weather.csv'))"
   ]
  },
  {
   "cell_type": "code",
   "execution_count": 4,
   "metadata": {},
   "outputs": [],
   "source": [
    "def convert_date(dte):\n",
    "    \"\"\"\n",
    "    convert string date into datetime object\n",
    "    \n",
    "    Parameters\n",
    "    ----------\n",
    "    dte - string\n",
    "          datetime string object\n",
    "          \n",
    "    Return \n",
    "    ----------\n",
    "    datetime obj\n",
    "        string input converted to datetime object\n",
    "    \"\"\"\n",
    "    try:\n",
    "        dte = datetime.strptime(dte, '%m/%d/%Y %H:%M')\n",
    "    except ValueError:\n",
    "        dte = datetime.strptime(dte, '%m/%d/%Y')\n",
    "    return dte\n",
    "\n",
    "def return_part_date(dte, part_of_date='month'):\n",
    "    \"\"\"\n",
    "    Pull the part_of_date from input datetime object\n",
    "    \n",
    "    Parameters\n",
    "    ----------\n",
    "    dte - datetime object\n",
    "          input datetime object\n",
    "    \n",
    "    part_of_date - str - ['month', 'day', 'year', 'hour', 'minute']\n",
    "          \n",
    "    Return \n",
    "    ----------\n",
    "    part of date\n",
    "        part of date, i.e. year, hour, etc. \n",
    "    \"\"\"\n",
    "    dte = convert_date(dte)\n",
    "    return getattr(dte, part_of_date)\n",
    "\n",
    "def is_weekday(dte):\n",
    "    \"\"\"\n",
    "    return whether a dte is a weekday or not\n",
    "    \n",
    "    Parameters\n",
    "    ----------\n",
    "    dte - datetime object\n",
    "          input datetime object\n",
    "              \n",
    "    Return \n",
    "    ----------\n",
    "    binary flag\n",
    "        1 if is weekday else 0 \n",
    "    \"\"\"\n",
    "    dte = convert_date(dte)\n",
    "    if dte.weekday() not in [5, 6]:\n",
    "        return 1\n",
    "    else:\n",
    "        return 0\n",
    "    "
   ]
  },
  {
   "cell_type": "code",
   "execution_count": 5,
   "metadata": {},
   "outputs": [],
   "source": [
    "# pull relevant parts of date\n",
    "trip['start_day'] = trip['starttime'].apply(lambda x: return_part_date(x, part_of_date='day'))\n",
    "trip['start_year'] = trip['starttime'].apply(lambda x: return_part_date(x, part_of_date='year'))\n",
    "trip['start_month'] = trip['starttime'].apply(lambda x: return_part_date(x, part_of_date='month'))\n",
    "trip['start_hour'] = trip['starttime'].apply(lambda x: return_part_date(x, part_of_date='hour'))\n",
    "weather['start_day'] = weather['Date'].apply(lambda x: return_part_date(x, part_of_date='day'))\n",
    "weather['start_year'] = weather['Date'].apply(lambda x: return_part_date(x, part_of_date='year'))\n",
    "weather['start_month'] = weather['Date'].apply(lambda x: return_part_date(x, part_of_date='month'))\n",
    "\n",
    "# test if date is weekday or not\n",
    "trip['weekday'] = trip['starttime'].apply(lambda x: is_weekday(x))"
   ]
  },
  {
   "cell_type": "code",
   "execution_count": 6,
   "metadata": {},
   "outputs": [],
   "source": [
    "# pull out just the mean values for weather\n",
    "weather_sub = weather[['Mean_Temperature_F', 'MeanDew_Point_F', 'Mean_Humidity', \n",
    "                      'Mean_Visibility_Miles', 'Mean_Wind_Speed_MPH', 'Precipitation_In', \n",
    "                      'start_day', 'start_year', 'start_month']]"
   ]
  },
  {
   "cell_type": "code",
   "execution_count": 7,
   "metadata": {},
   "outputs": [],
   "source": [
    "trip = pd.merge(trip, weather_sub, on=['start_day', 'start_year', 'start_month'], how='left')"
   ]
  },
  {
   "cell_type": "code",
   "execution_count": 8,
   "metadata": {},
   "outputs": [],
   "source": [
    "# drop end location information\n",
    "trip = trip.drop(['to_station_name', 'to_station_id', 'from_station_name'], axis=1)"
   ]
  },
  {
   "cell_type": "code",
   "execution_count": 9,
   "metadata": {},
   "outputs": [],
   "source": [
    "# get age of rider\n",
    "trip['rider_age'] = trip['start_year'] - trip['birthyear']"
   ]
  },
  {
   "cell_type": "markdown",
   "metadata": {},
   "source": [
    "#### Basic Exploratory Data Analysis <a id='eda' />\n",
    "\n",
    "Perform basic exploratory analysis of the bicycle data"
   ]
  },
  {
   "cell_type": "code",
   "execution_count": 10,
   "metadata": {},
   "outputs": [],
   "source": [
    "numtrips_weekday = trip.groupby(['weekday', 'start_hour'])['trip_id'].nunique().reset_index(name='numTrip')\n",
    "\n",
    "total_weekday_trips = trip.loc[trip['weekday'] == 1]['trip_id'].nunique()\n",
    "total_weekend_trips = trip.loc[trip['weekday'] == 0]['trip_id'].nunique()\n",
    "\n",
    "numtrips_weekday['percentTrips'] = numtrips_weekday.apply(lambda x: x['numTrip']/total_weekday_trips if x['weekday'] == 1 else x['numTrip']/total_weekend_trips, axis=1)"
   ]
  },
  {
   "cell_type": "code",
   "execution_count": 11,
   "metadata": {},
   "outputs": [
    {
     "data": {
      "text/html": [
       "<div>\n",
       "<style scoped>\n",
       "    .dataframe tbody tr th:only-of-type {\n",
       "        vertical-align: middle;\n",
       "    }\n",
       "\n",
       "    .dataframe tbody tr th {\n",
       "        vertical-align: top;\n",
       "    }\n",
       "\n",
       "    .dataframe thead th {\n",
       "        text-align: right;\n",
       "    }\n",
       "</style>\n",
       "<table border=\"1\" class=\"dataframe\">\n",
       "  <thead>\n",
       "    <tr style=\"text-align: right;\">\n",
       "      <th></th>\n",
       "      <th>weekday</th>\n",
       "      <th>start_hour</th>\n",
       "      <th>numTrip</th>\n",
       "      <th>percentTrips</th>\n",
       "    </tr>\n",
       "  </thead>\n",
       "  <tbody>\n",
       "    <tr>\n",
       "      <th>0</th>\n",
       "      <td>0</td>\n",
       "      <td>0</td>\n",
       "      <td>721</td>\n",
       "      <td>0.012195</td>\n",
       "    </tr>\n",
       "    <tr>\n",
       "      <th>1</th>\n",
       "      <td>0</td>\n",
       "      <td>1</td>\n",
       "      <td>494</td>\n",
       "      <td>0.008355</td>\n",
       "    </tr>\n",
       "    <tr>\n",
       "      <th>2</th>\n",
       "      <td>0</td>\n",
       "      <td>2</td>\n",
       "      <td>404</td>\n",
       "      <td>0.006833</td>\n",
       "    </tr>\n",
       "    <tr>\n",
       "      <th>3</th>\n",
       "      <td>0</td>\n",
       "      <td>3</td>\n",
       "      <td>164</td>\n",
       "      <td>0.002774</td>\n",
       "    </tr>\n",
       "    <tr>\n",
       "      <th>4</th>\n",
       "      <td>0</td>\n",
       "      <td>4</td>\n",
       "      <td>71</td>\n",
       "      <td>0.001201</td>\n",
       "    </tr>\n",
       "  </tbody>\n",
       "</table>\n",
       "</div>"
      ],
      "text/plain": [
       "   weekday  start_hour  numTrip  percentTrips\n",
       "0        0           0      721      0.012195\n",
       "1        0           1      494      0.008355\n",
       "2        0           2      404      0.006833\n",
       "3        0           3      164      0.002774\n",
       "4        0           4       71      0.001201"
      ]
     },
     "execution_count": 11,
     "metadata": {},
     "output_type": "execute_result"
    }
   ],
   "source": [
    "numtrips_weekday.head()"
   ]
  },
  {
   "cell_type": "code",
   "execution_count": 12,
   "metadata": {},
   "outputs": [
    {
     "data": {
      "application/vnd.plotly.v1+json": {
       "data": [
        {
         "name": "Weekday Trips",
         "type": "bar",
         "x": [
          0,
          1,
          2,
          3,
          4,
          5,
          6,
          7,
          8,
          9,
          10,
          11,
          12,
          13,
          14,
          15,
          16,
          17,
          18,
          19,
          20,
          21,
          22,
          23
         ],
         "y": [
          0.004628687690742625,
          0.002774951961116763,
          0.0017915677630835312,
          0.0013224821973550356,
          0.0030970950604724766,
          0.007234090652198486,
          0.01610715496778569,
          0.056312874420707586,
          0.10226065332881203,
          0.08363286989940093,
          0.05428958969142082,
          0.05465129422403074,
          0.056137673787724655,
          0.053153611393692776,
          0.05105120379789759,
          0.05748276251836781,
          0.07884028484231943,
          0.1092856335480954,
          0.07589013224821974,
          0.04794845710410309,
          0.031191364304283938,
          0.025064993783203347,
          0.01602803210127727,
          0.009822538713688257
         ]
        },
        {
         "name": "Weekend Trips",
         "type": "bar",
         "x": [
          0,
          1,
          2,
          3,
          4,
          5,
          6,
          7,
          8,
          9,
          10,
          11,
          12,
          13,
          14,
          15,
          16,
          17,
          18,
          19,
          20,
          21,
          22,
          23
         ],
         "y": [
          0.012194503171247357,
          0.008355179704016913,
          0.006832980972515856,
          0.002773784355179704,
          0.001200845665961945,
          0.0025031712473572937,
          0.005682875264270613,
          0.01146723044397463,
          0.024439746300211417,
          0.040625792811839326,
          0.06153065539112051,
          0.07793657505285412,
          0.08732346723044397,
          0.0961522198731501,
          0.0957632135306554,
          0.0985369978858351,
          0.09221141649048625,
          0.07670190274841437,
          0.05780972515856237,
          0.047035940803382664,
          0.03382663847780127,
          0.026012684989429175,
          0.018976744186046512,
          0.01410570824524313
         ]
        }
       ],
       "layout": {
        "barmode": "group",
        "title": "Weekend vs. Weekday Trips by Hour",
        "xaxis": {
         "title": "Hour"
        },
        "yaxis": {
         "title": "Percent of Trips"
        }
       }
      },
      "text/html": [
       "<div id=\"99c3e17d-5703-4ca6-bbc1-c5f937f5d6aa\" style=\"height: 525px; width: 100%;\" class=\"plotly-graph-div\"></div><script type=\"text/javascript\">require([\"plotly\"], function(Plotly) { window.PLOTLYENV=window.PLOTLYENV || {};window.PLOTLYENV.BASE_URL=\"https://plot.ly\";Plotly.newPlot(\"99c3e17d-5703-4ca6-bbc1-c5f937f5d6aa\", [{\"type\": \"bar\", \"x\": [0, 1, 2, 3, 4, 5, 6, 7, 8, 9, 10, 11, 12, 13, 14, 15, 16, 17, 18, 19, 20, 21, 22, 23], \"y\": [0.004628687690742625, 0.002774951961116763, 0.0017915677630835312, 0.0013224821973550356, 0.0030970950604724766, 0.007234090652198486, 0.01610715496778569, 0.056312874420707586, 0.10226065332881203, 0.08363286989940093, 0.05428958969142082, 0.05465129422403074, 0.056137673787724655, 0.053153611393692776, 0.05105120379789759, 0.05748276251836781, 0.07884028484231943, 0.1092856335480954, 0.07589013224821974, 0.04794845710410309, 0.031191364304283938, 0.025064993783203347, 0.01602803210127727, 0.009822538713688257], \"name\": \"Weekday Trips\"}, {\"type\": \"bar\", \"x\": [0, 1, 2, 3, 4, 5, 6, 7, 8, 9, 10, 11, 12, 13, 14, 15, 16, 17, 18, 19, 20, 21, 22, 23], \"y\": [0.012194503171247357, 0.008355179704016913, 0.006832980972515856, 0.002773784355179704, 0.001200845665961945, 0.0025031712473572937, 0.005682875264270613, 0.01146723044397463, 0.024439746300211417, 0.040625792811839326, 0.06153065539112051, 0.07793657505285412, 0.08732346723044397, 0.0961522198731501, 0.0957632135306554, 0.0985369978858351, 0.09221141649048625, 0.07670190274841437, 0.05780972515856237, 0.047035940803382664, 0.03382663847780127, 0.026012684989429175, 0.018976744186046512, 0.01410570824524313], \"name\": \"Weekend Trips\"}], {\"barmode\": \"group\", \"title\": \"Weekend vs. Weekday Trips by Hour\", \"xaxis\": {\"title\": \"Hour\"}, \"yaxis\": {\"title\": \"Percent of Trips\"}}, {\"showLink\": true, \"linkText\": \"Export to plot.ly\"})});</script>"
      ],
      "text/vnd.plotly.v1+html": [
       "<div id=\"99c3e17d-5703-4ca6-bbc1-c5f937f5d6aa\" style=\"height: 525px; width: 100%;\" class=\"plotly-graph-div\"></div><script type=\"text/javascript\">require([\"plotly\"], function(Plotly) { window.PLOTLYENV=window.PLOTLYENV || {};window.PLOTLYENV.BASE_URL=\"https://plot.ly\";Plotly.newPlot(\"99c3e17d-5703-4ca6-bbc1-c5f937f5d6aa\", [{\"type\": \"bar\", \"x\": [0, 1, 2, 3, 4, 5, 6, 7, 8, 9, 10, 11, 12, 13, 14, 15, 16, 17, 18, 19, 20, 21, 22, 23], \"y\": [0.004628687690742625, 0.002774951961116763, 0.0017915677630835312, 0.0013224821973550356, 0.0030970950604724766, 0.007234090652198486, 0.01610715496778569, 0.056312874420707586, 0.10226065332881203, 0.08363286989940093, 0.05428958969142082, 0.05465129422403074, 0.056137673787724655, 0.053153611393692776, 0.05105120379789759, 0.05748276251836781, 0.07884028484231943, 0.1092856335480954, 0.07589013224821974, 0.04794845710410309, 0.031191364304283938, 0.025064993783203347, 0.01602803210127727, 0.009822538713688257], \"name\": \"Weekday Trips\"}, {\"type\": \"bar\", \"x\": [0, 1, 2, 3, 4, 5, 6, 7, 8, 9, 10, 11, 12, 13, 14, 15, 16, 17, 18, 19, 20, 21, 22, 23], \"y\": [0.012194503171247357, 0.008355179704016913, 0.006832980972515856, 0.002773784355179704, 0.001200845665961945, 0.0025031712473572937, 0.005682875264270613, 0.01146723044397463, 0.024439746300211417, 0.040625792811839326, 0.06153065539112051, 0.07793657505285412, 0.08732346723044397, 0.0961522198731501, 0.0957632135306554, 0.0985369978858351, 0.09221141649048625, 0.07670190274841437, 0.05780972515856237, 0.047035940803382664, 0.03382663847780127, 0.026012684989429175, 0.018976744186046512, 0.01410570824524313], \"name\": \"Weekend Trips\"}], {\"barmode\": \"group\", \"title\": \"Weekend vs. Weekday Trips by Hour\", \"xaxis\": {\"title\": \"Hour\"}, \"yaxis\": {\"title\": \"Percent of Trips\"}}, {\"showLink\": true, \"linkText\": \"Export to plot.ly\"})});</script>"
      ]
     },
     "metadata": {},
     "output_type": "display_data"
    }
   ],
   "source": [
    "# get number of trips by hour of day\n",
    "\n",
    "weekday = numtrips_weekday['weekday'] == 1\n",
    "weekend = numtrips_weekday['weekday'] == 0\n",
    "\n",
    "trace1 = go.Bar(\n",
    "    x = numtrips_weekday.loc[weekday, 'start_hour'].tolist(),\n",
    "    y = numtrips_weekday.loc[weekday, 'percentTrips'].tolist(), \n",
    "    name='Weekday Trips'\n",
    ")\n",
    "\n",
    "trace2 = go.Bar(\n",
    "    x = numtrips_weekday.loc[weekend, 'start_hour'].tolist(),\n",
    "    y = numtrips_weekday.loc[weekend, 'percentTrips'].tolist(), \n",
    "    name='Weekend Trips'\n",
    ")\n",
    "\n",
    "data = [trace1, trace2]\n",
    "\n",
    "layout = go.Layout(barmode='group', \n",
    "                  title='Weekend vs. Weekday Trips by Hour',\n",
    "                  xaxis=dict(title='Hour'), \n",
    "                  yaxis=dict(title='Percent of Trips'))\n",
    "\n",
    "fig = go.Figure(data=data, layout=layout)\n",
    "\n",
    "iplot(fig)"
   ]
  },
  {
   "cell_type": "code",
   "execution_count": 13,
   "metadata": {},
   "outputs": [],
   "source": [
    "trip_dist = trip.groupby(['weekday', 'start_hour'])['tripduration'].mean().reset_index(name='tripDist')"
   ]
  },
  {
   "cell_type": "code",
   "execution_count": 14,
   "metadata": {
    "scrolled": false
   },
   "outputs": [
    {
     "data": {
      "application/vnd.plotly.v1+json": {
       "data": [
        {
         "mode": "lines",
         "name": "Weekday Trips",
         "type": "scatter",
         "x": [
          0,
          1,
          2,
          3,
          4,
          5,
          6,
          7,
          8,
          9,
          10,
          11,
          12,
          13,
          14,
          15,
          16,
          17,
          18,
          19,
          20,
          21,
          22,
          23
         ],
         "y": [
          1021.4496322957187,
          1167.0118573854,
          1739.691819277107,
          1077.790737373738,
          933.6650356564024,
          776.1365195312504,
          638.5065711815558,
          638.9952270102933,
          656.343898121483,
          743.9643766873894,
          1055.0187297574294,
          1227.8205407505332,
          1244.123866779495,
          1320.3033788622115,
          1485.151273678469,
          1324.7049589029966,
          1060.5619981761508,
          910.4951676761596,
          899.1106442903631,
          877.5750529463708,
          923.228441966317,
          813.3378254443385,
          899.4590769454109,
          913.0846088785054
         ]
        },
        {
         "mode": "lines",
         "name": "Weekend Trips",
         "type": "scatter",
         "x": [
          0,
          1,
          2,
          3,
          4,
          5,
          6,
          7,
          8,
          9,
          10,
          11,
          12,
          13,
          14,
          15,
          16,
          17,
          18,
          19,
          20,
          21,
          22,
          23
         ],
         "y": [
          1159.3914476614693,
          1125.0238185975606,
          1257.9101515151524,
          1468.1252679425836,
          2215.950826086957,
          1407.9714581005583,
          1287.737138539042,
          1807.511648717948,
          1597.539769721575,
          1750.7814686192442,
          1979.5418982199903,
          2155.1698243580536,
          2114.6329757566064,
          2163.9968364932342,
          2024.7839027090015,
          1912.0890758021537,
          1747.1782012664,
          1513.5439167280729,
          1327.792702789433,
          1296.8080516977648,
          1286.9170120430106,
          1146.4674802168013,
          1013.538740058911,
          1150.7164544564152
         ]
        }
       ],
       "layout": {
        "title": "Weekend vs. Weekday Trip Duration by Hour",
        "xaxis": {
         "title": "Hour"
        },
        "yaxis": {
         "title": "Trip Duration (seconds)"
        }
       }
      },
      "text/html": [
       "<div id=\"fe87f754-1663-42f4-b9c2-778250e417e9\" style=\"height: 525px; width: 100%;\" class=\"plotly-graph-div\"></div><script type=\"text/javascript\">require([\"plotly\"], function(Plotly) { window.PLOTLYENV=window.PLOTLYENV || {};window.PLOTLYENV.BASE_URL=\"https://plot.ly\";Plotly.newPlot(\"fe87f754-1663-42f4-b9c2-778250e417e9\", [{\"type\": \"scatter\", \"x\": [0, 1, 2, 3, 4, 5, 6, 7, 8, 9, 10, 11, 12, 13, 14, 15, 16, 17, 18, 19, 20, 21, 22, 23], \"y\": [1021.4496322957187, 1167.0118573854, 1739.691819277107, 1077.790737373738, 933.6650356564024, 776.1365195312504, 638.5065711815558, 638.9952270102933, 656.343898121483, 743.9643766873894, 1055.0187297574294, 1227.8205407505332, 1244.123866779495, 1320.3033788622115, 1485.151273678469, 1324.7049589029966, 1060.5619981761508, 910.4951676761596, 899.1106442903631, 877.5750529463708, 923.228441966317, 813.3378254443385, 899.4590769454109, 913.0846088785054], \"name\": \"Weekday Trips\", \"mode\": \"lines\"}, {\"type\": \"scatter\", \"x\": [0, 1, 2, 3, 4, 5, 6, 7, 8, 9, 10, 11, 12, 13, 14, 15, 16, 17, 18, 19, 20, 21, 22, 23], \"y\": [1159.3914476614693, 1125.0238185975606, 1257.9101515151524, 1468.1252679425836, 2215.950826086957, 1407.9714581005583, 1287.737138539042, 1807.511648717948, 1597.539769721575, 1750.7814686192442, 1979.5418982199903, 2155.1698243580536, 2114.6329757566064, 2163.9968364932342, 2024.7839027090015, 1912.0890758021537, 1747.1782012664, 1513.5439167280729, 1327.792702789433, 1296.8080516977648, 1286.9170120430106, 1146.4674802168013, 1013.538740058911, 1150.7164544564152], \"name\": \"Weekend Trips\", \"mode\": \"lines\"}], {\"title\": \"Weekend vs. Weekday Trip Duration by Hour\", \"xaxis\": {\"title\": \"Hour\"}, \"yaxis\": {\"title\": \"Trip Duration (seconds)\"}}, {\"showLink\": true, \"linkText\": \"Export to plot.ly\"})});</script>"
      ],
      "text/vnd.plotly.v1+html": [
       "<div id=\"fe87f754-1663-42f4-b9c2-778250e417e9\" style=\"height: 525px; width: 100%;\" class=\"plotly-graph-div\"></div><script type=\"text/javascript\">require([\"plotly\"], function(Plotly) { window.PLOTLYENV=window.PLOTLYENV || {};window.PLOTLYENV.BASE_URL=\"https://plot.ly\";Plotly.newPlot(\"fe87f754-1663-42f4-b9c2-778250e417e9\", [{\"type\": \"scatter\", \"x\": [0, 1, 2, 3, 4, 5, 6, 7, 8, 9, 10, 11, 12, 13, 14, 15, 16, 17, 18, 19, 20, 21, 22, 23], \"y\": [1021.4496322957187, 1167.0118573854, 1739.691819277107, 1077.790737373738, 933.6650356564024, 776.1365195312504, 638.5065711815558, 638.9952270102933, 656.343898121483, 743.9643766873894, 1055.0187297574294, 1227.8205407505332, 1244.123866779495, 1320.3033788622115, 1485.151273678469, 1324.7049589029966, 1060.5619981761508, 910.4951676761596, 899.1106442903631, 877.5750529463708, 923.228441966317, 813.3378254443385, 899.4590769454109, 913.0846088785054], \"name\": \"Weekday Trips\", \"mode\": \"lines\"}, {\"type\": \"scatter\", \"x\": [0, 1, 2, 3, 4, 5, 6, 7, 8, 9, 10, 11, 12, 13, 14, 15, 16, 17, 18, 19, 20, 21, 22, 23], \"y\": [1159.3914476614693, 1125.0238185975606, 1257.9101515151524, 1468.1252679425836, 2215.950826086957, 1407.9714581005583, 1287.737138539042, 1807.511648717948, 1597.539769721575, 1750.7814686192442, 1979.5418982199903, 2155.1698243580536, 2114.6329757566064, 2163.9968364932342, 2024.7839027090015, 1912.0890758021537, 1747.1782012664, 1513.5439167280729, 1327.792702789433, 1296.8080516977648, 1286.9170120430106, 1146.4674802168013, 1013.538740058911, 1150.7164544564152], \"name\": \"Weekend Trips\", \"mode\": \"lines\"}], {\"title\": \"Weekend vs. Weekday Trip Duration by Hour\", \"xaxis\": {\"title\": \"Hour\"}, \"yaxis\": {\"title\": \"Trip Duration (seconds)\"}}, {\"showLink\": true, \"linkText\": \"Export to plot.ly\"})});</script>"
      ]
     },
     "metadata": {},
     "output_type": "display_data"
    }
   ],
   "source": [
    "trace1 = go.Scatter(\n",
    "    x = trip_dist.loc[weekday, 'start_hour'].tolist(),\n",
    "    y = trip_dist.loc[weekday, 'tripDist'].tolist(), \n",
    "    name='Weekday Trips', \n",
    "    mode='lines'\n",
    ")\n",
    "\n",
    "trace2 = go.Scatter(\n",
    "    x = trip_dist.loc[weekend, 'start_hour'].tolist(),\n",
    "    y = trip_dist.loc[weekend, 'tripDist'].tolist(), \n",
    "    name='Weekend Trips', \n",
    "    mode='lines'\n",
    ")\n",
    "\n",
    "data = [trace1, trace2]\n",
    "\n",
    "layout = go.Layout(\n",
    "                  title='Weekend vs. Weekday Trip Duration by Hour',\n",
    "                  xaxis=dict(title='Hour'), \n",
    "                  yaxis=dict(title='Trip Duration (seconds)'))\n",
    "\n",
    "fig = go.Figure(data=data, layout=layout)\n",
    "\n",
    "iplot(fig)"
   ]
  },
  {
   "cell_type": "code",
   "execution_count": 15,
   "metadata": {},
   "outputs": [
    {
     "data": {
      "application/vnd.plotly.v1+json": {
       "data": [
        {
         "type": "bar",
         "x": [
          "Female",
          "Male",
          "Other"
         ],
         "y": [
          706.7232394441183,
          564.880833385513,
          613.3475628096764
         ]
        }
       ],
       "layout": {
        "title": "Average Trip Duration (seconds) by Gender",
        "xaxis": {
         "title": "Gender"
        },
        "yaxis": {
         "title": "Trip Duration (seconds)"
        }
       }
      },
      "text/html": [
       "<div id=\"391885a1-2eff-4175-9546-768015737b0d\" style=\"height: 525px; width: 100%;\" class=\"plotly-graph-div\"></div><script type=\"text/javascript\">require([\"plotly\"], function(Plotly) { window.PLOTLYENV=window.PLOTLYENV || {};window.PLOTLYENV.BASE_URL=\"https://plot.ly\";Plotly.newPlot(\"391885a1-2eff-4175-9546-768015737b0d\", [{\"type\": \"bar\", \"x\": [\"Female\", \"Male\", \"Other\"], \"y\": [706.7232394441183, 564.880833385513, 613.3475628096764]}], {\"title\": \"Average Trip Duration (seconds) by Gender\", \"xaxis\": {\"title\": \"Gender\"}, \"yaxis\": {\"title\": \"Trip Duration (seconds)\"}}, {\"showLink\": true, \"linkText\": \"Export to plot.ly\"})});</script>"
      ],
      "text/vnd.plotly.v1+html": [
       "<div id=\"391885a1-2eff-4175-9546-768015737b0d\" style=\"height: 525px; width: 100%;\" class=\"plotly-graph-div\"></div><script type=\"text/javascript\">require([\"plotly\"], function(Plotly) { window.PLOTLYENV=window.PLOTLYENV || {};window.PLOTLYENV.BASE_URL=\"https://plot.ly\";Plotly.newPlot(\"391885a1-2eff-4175-9546-768015737b0d\", [{\"type\": \"bar\", \"x\": [\"Female\", \"Male\", \"Other\"], \"y\": [706.7232394441183, 564.880833385513, 613.3475628096764]}], {\"title\": \"Average Trip Duration (seconds) by Gender\", \"xaxis\": {\"title\": \"Gender\"}, \"yaxis\": {\"title\": \"Trip Duration (seconds)\"}}, {\"showLink\": true, \"linkText\": \"Export to plot.ly\"})});</script>"
      ]
     },
     "metadata": {},
     "output_type": "display_data"
    }
   ],
   "source": [
    "tripgender = trip.groupby('gender')['tripduration'].mean().reset_index(name='tripDist')\n",
    "\n",
    "data = [go.Bar(\n",
    "    x=tripgender['gender'].tolist(),\n",
    "    y=tripgender['tripDist'].tolist()\n",
    ")]\n",
    "\n",
    "layout = go.Layout(\n",
    "                  title='Average Trip Duration (seconds) by Gender',\n",
    "                  xaxis=dict(title='Gender'), \n",
    "                  yaxis=dict(title='Trip Duration (seconds)'))\n",
    "\n",
    "fig = go.Figure(data=data, layout=layout)\n",
    "\n",
    "iplot(fig)"
   ]
  },
  {
   "cell_type": "code",
   "execution_count": 16,
   "metadata": {},
   "outputs": [
    {
     "data": {
      "application/vnd.plotly.v1+json": {
       "data": [
        {
         "type": "heatmap",
         "x": [
          "rider_age",
          "Mean_Temperature_F",
          "Mean_Humidity",
          "tripduration",
          "weekday"
         ],
         "y": [
          "rider_age",
          "Mean_Temperature_F",
          "Mean_Humidity",
          "tripduration",
          "weekday"
         ],
         "z": [
          [
           1,
           -0.0026983224113511783,
           0.002873660742652328,
           0.056062970800388905,
           0.03554643307103196
          ],
          [
           -0.0026983224113511783,
           1,
           -0.5645327556893133,
           0.07149747963418503,
           -0.03420846362984087
          ],
          [
           0.002873660742652328,
           -0.5645327556893133,
           1,
           -0.07664700152088565,
           0.055570959217946615
          ],
          [
           0.056062970800388905,
           0.07149747963418503,
           -0.07664700152088565,
           1,
           -0.1678625974740123
          ],
          [
           0.03554643307103196,
           -0.03420846362984087,
           0.055570959217946615,
           -0.1678625974740123,
           1
          ]
         ]
        }
       ],
       "layout": {
        "title": "Correlation Heatmap"
       }
      },
      "text/html": [
       "<div id=\"0417a9b6-a8f8-41ae-bc7e-d5c8ae36b4b8\" style=\"height: 525px; width: 100%;\" class=\"plotly-graph-div\"></div><script type=\"text/javascript\">require([\"plotly\"], function(Plotly) { window.PLOTLYENV=window.PLOTLYENV || {};window.PLOTLYENV.BASE_URL=\"https://plot.ly\";Plotly.newPlot(\"0417a9b6-a8f8-41ae-bc7e-d5c8ae36b4b8\", [{\"type\": \"heatmap\", \"z\": [[1.0, -0.0026983224113511783, 0.002873660742652328, 0.056062970800388905, 0.03554643307103196], [-0.0026983224113511783, 1.0, -0.5645327556893133, 0.07149747963418503, -0.03420846362984087], [0.002873660742652328, -0.5645327556893133, 1.0, -0.07664700152088565, 0.055570959217946615], [0.056062970800388905, 0.07149747963418503, -0.07664700152088565, 1.0, -0.1678625974740123], [0.03554643307103196, -0.03420846362984087, 0.055570959217946615, -0.1678625974740123, 1.0]], \"x\": [\"rider_age\", \"Mean_Temperature_F\", \"Mean_Humidity\", \"tripduration\", \"weekday\"], \"y\": [\"rider_age\", \"Mean_Temperature_F\", \"Mean_Humidity\", \"tripduration\", \"weekday\"]}], {\"title\": \"Correlation Heatmap\"}, {\"showLink\": true, \"linkText\": \"Export to plot.ly\"})});</script>"
      ],
      "text/vnd.plotly.v1+html": [
       "<div id=\"0417a9b6-a8f8-41ae-bc7e-d5c8ae36b4b8\" style=\"height: 525px; width: 100%;\" class=\"plotly-graph-div\"></div><script type=\"text/javascript\">require([\"plotly\"], function(Plotly) { window.PLOTLYENV=window.PLOTLYENV || {};window.PLOTLYENV.BASE_URL=\"https://plot.ly\";Plotly.newPlot(\"0417a9b6-a8f8-41ae-bc7e-d5c8ae36b4b8\", [{\"type\": \"heatmap\", \"z\": [[1.0, -0.0026983224113511783, 0.002873660742652328, 0.056062970800388905, 0.03554643307103196], [-0.0026983224113511783, 1.0, -0.5645327556893133, 0.07149747963418503, -0.03420846362984087], [0.002873660742652328, -0.5645327556893133, 1.0, -0.07664700152088565, 0.055570959217946615], [0.056062970800388905, 0.07149747963418503, -0.07664700152088565, 1.0, -0.1678625974740123], [0.03554643307103196, -0.03420846362984087, 0.055570959217946615, -0.1678625974740123, 1.0]], \"x\": [\"rider_age\", \"Mean_Temperature_F\", \"Mean_Humidity\", \"tripduration\", \"weekday\"], \"y\": [\"rider_age\", \"Mean_Temperature_F\", \"Mean_Humidity\", \"tripduration\", \"weekday\"]}], {\"title\": \"Correlation Heatmap\"}, {\"showLink\": true, \"linkText\": \"Export to plot.ly\"})});</script>"
      ]
     },
     "metadata": {},
     "output_type": "display_data"
    }
   ],
   "source": [
    "corr = trip[['rider_age', 'Mean_Temperature_F', 'Mean_Humidity', \n",
    "             'tripduration', 'weekday']].corr()\n",
    "\n",
    "trace = go.Heatmap(z=corr.values.tolist(), \n",
    "                   x=corr.index.tolist(),\n",
    "                   y=corr.columns.tolist())\n",
    "\n",
    "layout = go.Layout(\n",
    "                  title='Correlation Heatmap',\n",
    "    )\n",
    "\n",
    "data = [trace]\n",
    "\n",
    "fig = go.Figure(data=data, layout=layout)\n",
    "\n",
    "iplot(fig)"
   ]
  },
  {
   "cell_type": "markdown",
   "metadata": {},
   "source": [
    "### Build Neural Network Model <a id='neural' /a>\n",
    "\n",
    "Build out example neural network in keras to predict trip duration"
   ]
  },
  {
   "cell_type": "code",
   "execution_count": 17,
   "metadata": {},
   "outputs": [],
   "source": [
    "from keras.models import Sequential\n",
    "from keras.layers import Dense, Dropout\n",
    "from keras.optimizers import SGD, Adam\n",
    "from sklearn.datasets import make_regression\n",
    "from sklearn.preprocessing import StandardScaler\n",
    "from sklearn.model_selection import train_test_split\n",
    "import numpy as np\n",
    "#from sklearn.preprocessing import train_test_split"
   ]
  },
  {
   "cell_type": "code",
   "execution_count": 18,
   "metadata": {},
   "outputs": [],
   "source": [
    "trip_model = trip.drop(['stoptime', 'bikeid', 'trip_id', \n",
    "                       'starttime', 'birthyear'], axis=1)\n",
    "X = trip_model.loc[:, trip_model.columns != 'tripduration']\n",
    "y = trip_model.loc[:, 'tripduration'].values.reshape((286857, 1))"
   ]
  },
  {
   "cell_type": "code",
   "execution_count": 19,
   "metadata": {},
   "outputs": [
    {
     "name": "stderr",
     "output_type": "stream",
     "text": [
      "C:\\Users\\jlewris\\AppData\\Local\\Continuum\\anaconda3\\lib\\site-packages\\pandas\\core\\frame.py:3035: SettingWithCopyWarning:\n",
      "\n",
      "\n",
      "A value is trying to be set on a copy of a slice from a DataFrame\n",
      "\n",
      "See the caveats in the documentation: http://pandas.pydata.org/pandas-docs/stable/indexing.html#indexing-view-versus-copy\n",
      "\n"
     ]
    }
   ],
   "source": [
    "X.fillna(method='pad', inplace=True)"
   ]
  },
  {
   "cell_type": "code",
   "execution_count": 20,
   "metadata": {},
   "outputs": [],
   "source": [
    "categories = ['from_station_id', 'usertype', \n",
    "              'gender', 'start_day', 'start_year', \n",
    "              'start_month', 'start_hour', 'weekday']\n",
    "\n",
    "continuous = [col for col in X.columns.tolist() if col not in categories]"
   ]
  },
  {
   "cell_type": "code",
   "execution_count": 21,
   "metadata": {},
   "outputs": [
    {
     "data": {
      "text/plain": [
       "['from_station_id',\n",
       " 'usertype',\n",
       " 'gender',\n",
       " 'start_day',\n",
       " 'start_year',\n",
       " 'start_month',\n",
       " 'start_hour',\n",
       " 'weekday']"
      ]
     },
     "execution_count": 21,
     "metadata": {},
     "output_type": "execute_result"
    }
   ],
   "source": [
    "categories"
   ]
  },
  {
   "cell_type": "code",
   "execution_count": 22,
   "metadata": {},
   "outputs": [],
   "source": [
    "\n",
    "X_cat = pd.get_dummies(X[categories]).values"
   ]
  },
  {
   "cell_type": "code",
   "execution_count": 23,
   "metadata": {},
   "outputs": [],
   "source": [
    "sc = StandardScaler()\n",
    "\n",
    "X_cont = sc.fit_transform(X[continuous])\n",
    "\n"
   ]
  },
  {
   "cell_type": "code",
   "execution_count": 24,
   "metadata": {},
   "outputs": [],
   "source": [
    "X = np.hstack((X_cat, X_cont))"
   ]
  },
  {
   "cell_type": "code",
   "execution_count": 25,
   "metadata": {},
   "outputs": [],
   "source": [
    "X_train, X_test, y_train, y_test = train_test_split(X, y, \n",
    "                                                   test_size=0.33, \n",
    "                                                   random_state=42)"
   ]
  },
  {
   "cell_type": "code",
   "execution_count": 26,
   "metadata": {
    "scrolled": true
   },
   "outputs": [
    {
     "name": "stdout",
     "output_type": "stream",
     "text": [
      "Train on 153755 samples, validate on 38439 samples\n",
      "Epoch 1/10\n",
      "153755/153755 [==============================] - 2s 14us/step - loss: 798.5008 - val_loss: 775.4156\n",
      "Epoch 2/10\n",
      "153755/153755 [==============================] - 2s 12us/step - loss: 773.0733 - val_loss: 738.6181\n",
      "Epoch 3/10\n",
      "153755/153755 [==============================] - 2s 12us/step - loss: 720.7018 - val_loss: 687.4307\n",
      "Epoch 4/10\n",
      "153755/153755 [==============================] - 2s 12us/step - loss: 698.1697 - val_loss: 682.8466\n",
      "Epoch 5/10\n",
      "153755/153755 [==============================] - 2s 12us/step - loss: 695.8023 - val_loss: 681.8212\n",
      "Epoch 6/10\n",
      "153755/153755 [==============================] - 2s 12us/step - loss: 695.4639 - val_loss: 681.8239\n",
      "Epoch 7/10\n",
      "153755/153755 [==============================] - 2s 12us/step - loss: 695.1505 - val_loss: 681.3961\n",
      "Epoch 8/10\n",
      "153755/153755 [==============================] - 2s 12us/step - loss: 694.3067 - val_loss: 681.0395\n",
      "Epoch 9/10\n",
      "153755/153755 [==============================] - 2s 12us/step - loss: 693.5046 - val_loss: 680.0481\n",
      "Epoch 10/10\n",
      "153755/153755 [==============================] - 2s 12us/step - loss: 693.6472 - val_loss: 682.9590\n"
     ]
    },
    {
     "data": {
      "text/plain": [
       "<keras.callbacks.History at 0x17a0d7b0390>"
      ]
     },
     "execution_count": 26,
     "metadata": {},
     "output_type": "execute_result"
    }
   ],
   "source": [
    "model = Sequential()\n",
    "model.add(Dense(128, input_dim=X_train.shape[1], activation='relu', \n",
    "               kernel_initializer='normal'))\n",
    "model.add(Dropout(0.1))\n",
    "\n",
    "model.add(Dense(64, activation='relu'))\n",
    "model.add(Dropout(0.1))\n",
    "\n",
    "#model.add(Dense(128, activation='relu'))\n",
    "#model.add(Dropout(0.1))\n",
    "model.add(Dense(1, activation='linear'))\n",
    "\n",
    "#keras.optimizers.SGD(lr=0.001, momentum=0.0, decay=0.0, nesterov=False)\n",
    "adam = Adam(lr=0.001)\n",
    "\n",
    "model.compile(loss='mae', optimizer='adam')\n",
    "model.fit(X_train, y_train, epochs=10, verbose=1, batch_size=256, \n",
    "         validation_split=0.2)"
   ]
  },
  {
   "cell_type": "code",
   "execution_count": 27,
   "metadata": {},
   "outputs": [],
   "source": [
    "groupby_df = trip[['gender']]"
   ]
  },
  {
   "cell_type": "code",
   "execution_count": 28,
   "metadata": {},
   "outputs": [
    {
     "data": {
      "text/plain": [
       "(100,)"
      ]
     },
     "execution_count": 28,
     "metadata": {},
     "output_type": "execute_result"
    }
   ],
   "source": [
    "model.predict(X[0:100]).flatten().shape"
   ]
  },
  {
   "cell_type": "code",
   "execution_count": 29,
   "metadata": {},
   "outputs": [
    {
     "ename": "MemoryError",
     "evalue": "",
     "output_type": "error",
     "traceback": [
      "\u001b[1;31m---------------------------------------------------------------------------\u001b[0m",
      "\u001b[1;31mMemoryError\u001b[0m                               Traceback (most recent call last)",
      "\u001b[1;32m<ipython-input-29-0734a9be22f2>\u001b[0m in \u001b[0;36m<module>\u001b[1;34m()\u001b[0m\n\u001b[0;32m      1\u001b[0m \u001b[0mRE\u001b[0m \u001b[1;33m=\u001b[0m \u001b[0mEval\u001b[0m\u001b[1;33m(\u001b[0m\u001b[0mprediction_fn\u001b[0m\u001b[1;33m=\u001b[0m\u001b[0mmodel\u001b[0m\u001b[1;33m.\u001b[0m\u001b[0mpredict\u001b[0m\u001b[1;33m)\u001b[0m\u001b[1;33m\u001b[0m\u001b[0m\n\u001b[1;32m----> 2\u001b[1;33m \u001b[0mres\u001b[0m \u001b[1;33m=\u001b[0m \u001b[0mRE\u001b[0m\u001b[1;33m.\u001b[0m\u001b[0mfit_transform\u001b[0m\u001b[1;33m(\u001b[0m\u001b[0mX\u001b[0m\u001b[1;33m=\u001b[0m\u001b[0mX_test\u001b[0m\u001b[1;33m,\u001b[0m \u001b[0my\u001b[0m\u001b[1;33m=\u001b[0m\u001b[0my_test\u001b[0m\u001b[1;33m,\u001b[0m \u001b[0mgroupby_df\u001b[0m\u001b[1;33m=\u001b[0m\u001b[1;32mNone\u001b[0m\u001b[1;33m)\u001b[0m\u001b[1;33m\u001b[0m\u001b[0m\n\u001b[0m",
      "\u001b[1;32mC:\\Git\\model-describer\\mdesc\\models.py\u001b[0m in \u001b[0;36mfit_transform\u001b[1;34m(self, X, y, groupby_df, **params)\u001b[0m\n\u001b[0;32m    116\u001b[0m \u001b[1;33m\u001b[0m\u001b[0m\n\u001b[0;32m    117\u001b[0m         self.fit(X=X, y=y, groupby_df=groupby_df,\n\u001b[1;32m--> 118\u001b[1;33m                  **params).transform()\n\u001b[0m\u001b[0;32m    119\u001b[0m \u001b[1;33m\u001b[0m\u001b[0m\n\u001b[0;32m    120\u001b[0m \u001b[1;33m\u001b[0m\u001b[0m\n",
      "\u001b[1;32mC:\\Git\\model-describer\\mdesc\\models.py\u001b[0m in \u001b[0;36mfit\u001b[1;34m(self, X, y, groupby_df, errors)\u001b[0m\n\u001b[0;32m    161\u001b[0m \u001b[1;33m\u001b[0m\u001b[0m\n\u001b[0;32m    162\u001b[0m         \u001b[1;32mif\u001b[0m \u001b[0merrors\u001b[0m \u001b[1;32mis\u001b[0m \u001b[1;32mNone\u001b[0m\u001b[1;33m:\u001b[0m\u001b[1;33m\u001b[0m\u001b[0m\n\u001b[1;32m--> 163\u001b[1;33m             \u001b[0merrors\u001b[0m \u001b[1;33m=\u001b[0m \u001b[0mself\u001b[0m\u001b[1;33m.\u001b[0m\u001b[0m_create_errors\u001b[0m\u001b[1;33m(\u001b[0m\u001b[0mX\u001b[0m\u001b[1;33m,\u001b[0m \u001b[0my\u001b[0m\u001b[1;33m)\u001b[0m\u001b[1;33m\u001b[0m\u001b[0m\n\u001b[0m\u001b[0;32m    164\u001b[0m \u001b[1;33m\u001b[0m\u001b[0m\n\u001b[0;32m    165\u001b[0m         \u001b[0mgroups\u001b[0m \u001b[1;33m=\u001b[0m \u001b[0mself\u001b[0m\u001b[1;33m.\u001b[0m\u001b[0m_make_data\u001b[0m\u001b[1;33m(\u001b[0m\u001b[0merrors\u001b[0m\u001b[1;33m=\u001b[0m\u001b[0merrors\u001b[0m\u001b[1;33m)\u001b[0m\u001b[1;33m\u001b[0m\u001b[0m\n",
      "\u001b[1;32mC:\\Git\\model-describer\\mdesc\\models.py\u001b[0m in \u001b[0;36m_create_errors\u001b[1;34m(self, X, y, original_preds)\u001b[0m\n\u001b[0;32m    216\u001b[0m             \u001b[0merrors\u001b[0m \u001b[1;33m=\u001b[0m \u001b[0moriginal_preds\u001b[0m \u001b[1;33m-\u001b[0m \u001b[0my_pred\u001b[0m\u001b[1;33m\u001b[0m\u001b[0m\n\u001b[0;32m    217\u001b[0m         \u001b[1;32melse\u001b[0m\u001b[1;33m:\u001b[0m\u001b[1;33m\u001b[0m\u001b[0m\n\u001b[1;32m--> 218\u001b[1;33m             \u001b[0merrors\u001b[0m \u001b[1;33m=\u001b[0m \u001b[0my\u001b[0m \u001b[1;33m-\u001b[0m \u001b[0my_pred\u001b[0m\u001b[1;33m\u001b[0m\u001b[0m\n\u001b[0m\u001b[0;32m    219\u001b[0m \u001b[1;33m\u001b[0m\u001b[0m\n\u001b[0;32m    220\u001b[0m         \u001b[1;32mreturn\u001b[0m \u001b[0merrors\u001b[0m\u001b[1;33m\u001b[0m\u001b[0m\n",
      "\u001b[1;31mMemoryError\u001b[0m: "
     ]
    }
   ],
   "source": [
    "RE = Eval(prediction_fn=model.predict)\n",
    "res = RE.fit_transform(X=X_test, y=y_test, groupby_df=None)"
   ]
  },
  {
   "cell_type": "code",
   "execution_count": null,
   "metadata": {},
   "outputs": [],
   "source": [
    "X.shape"
   ]
  },
  {
   "cell_type": "code",
   "execution_count": null,
   "metadata": {},
   "outputs": [],
   "source": []
  }
 ],
 "metadata": {
  "kernelspec": {
   "display_name": "Python 3",
   "language": "python",
   "name": "python3"
  },
  "language_info": {
   "codemirror_mode": {
    "name": "ipython",
    "version": 3
   },
   "file_extension": ".py",
   "mimetype": "text/x-python",
   "name": "python",
   "nbconvert_exporter": "python",
   "pygments_lexer": "ipython3",
   "version": "3.6.4"
  }
 },
 "nbformat": 4,
 "nbformat_minor": 2
}
