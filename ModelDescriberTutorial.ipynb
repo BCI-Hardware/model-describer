{
 "cells": [
  {
   "cell_type": "markdown",
   "metadata": {},
   "source": [
    "### Model Describer Meetup Tutorial\n",
    "\n",
    "In this notebook, we will be doing some brief EDA of the [bicycle trip dataset](https://www.kaggle.com/pronto/cycle-share-dataset/home). This is data from the Pronto Cycle Share system which consists of 500 bikes and 54 stations located in Seattle. \n",
    "\n",
    "The key question for this tutorial will be whether or not there are noticeable differences in trip duration by gender and by user age. We will not be controlling for location information (a known deficit of this tutorial). \n",
    "\n",
    "In this tutorial, we will be covering the following:\n",
    "\n",
    "* [Data prep](#prep)\n",
    "* [Exploratory data analysis](#eda)\n",
    "* [Model Describer Regression Evaluation](#mdesc_regression)\n",
    "* [Model Describer Classification Evaluation](#mdesc_classification)\n",
    "* [Model Describer Regression Sensitivity](#mdesc_sensitivity_regression)\n",
    "* [Model Describer Classification Sensitivity](mdesc_sensitivity_classification)\n",
    "* [Additional thoughts](#thoughts)"
   ]
  },
  {
   "cell_type": "code",
   "execution_count": 315,
   "metadata": {},
   "outputs": [],
   "source": [
    "import os\n",
    "from datetime import datetime\n",
    "\n",
    "from plotly.offline import download_plotlyjs, init_notebook_mode, plot, iplot\n",
    "import plotly.graph_objs as go\n",
    "import keras\n",
    "import pandas as pd"
   ]
  },
  {
   "cell_type": "code",
   "execution_count": 316,
   "metadata": {},
   "outputs": [
    {
     "data": {
      "text/html": [
       "<script>requirejs.config({paths: { 'plotly': ['https://cdn.plot.ly/plotly-latest.min']},});if(!window.Plotly) {{require(['plotly'],function(plotly) {window.Plotly=plotly;});}}</script>"
      ],
      "text/vnd.plotly.v1+html": [
       "<script>requirejs.config({paths: { 'plotly': ['https://cdn.plot.ly/plotly-latest.min']},});if(!window.Plotly) {{require(['plotly'],function(plotly) {window.Plotly=plotly;});}}</script>"
      ]
     },
     "metadata": {},
     "output_type": "display_data"
    }
   ],
   "source": [
    "# initialize plotly notebook_mode\n",
    "init_notebook_mode(connected=True)"
   ]
  },
  {
   "cell_type": "markdown",
   "metadata": {},
   "source": [
    "#### Data Prep <a id='prep' />\n",
    "\n",
    "Read in data and perform basic data manipulations"
   ]
  },
  {
   "cell_type": "code",
   "execution_count": 305,
   "metadata": {},
   "outputs": [
    {
     "name": "stderr",
     "output_type": "stream",
     "text": [
      "b'Skipping line 50794: expected 12 fields, saw 20\\n'\n"
     ]
    }
   ],
   "source": [
    "# read in the trip and weather data. We will not be using the station data, but there are a number of ways we could use\n",
    "# this if we took advantage of the location information. \n",
    "\n",
    "base_path = r'C:\\Users\\jlewris\\Desktop\\BikeData'\n",
    "trip = pd.read_csv(os.path.join(base_path, 'trip.csv'), error_bad_lines=False)\n",
    "weather = pd.read_csv(os.path.join(base_path, 'weather.csv'))"
   ]
  },
  {
   "cell_type": "code",
   "execution_count": 306,
   "metadata": {},
   "outputs": [],
   "source": [
    "def convert_date(dte):\n",
    "    \"\"\"\n",
    "    convert string date into datetime object\n",
    "    \n",
    "    Parameters\n",
    "    ----------\n",
    "    dte - string\n",
    "          datetime string object\n",
    "          \n",
    "    Return \n",
    "    ----------\n",
    "    datetime obj\n",
    "        string input converted to datetime object\n",
    "    \"\"\"\n",
    "    try:\n",
    "        dte = datetime.strptime(dte, '%m/%d/%Y %H:%M')\n",
    "    except ValueError:\n",
    "        dte = datetime.strptime(dte, '%m/%d/%Y')\n",
    "    return dte\n",
    "\n",
    "def return_part_date(dte, part_of_date='month'):\n",
    "    \"\"\"\n",
    "    Pull the part_of_date from input datetime object\n",
    "    \n",
    "    Parameters\n",
    "    ----------\n",
    "    dte - datetime object\n",
    "          input datetime object\n",
    "    \n",
    "    part_of_date - str - ['month', 'day', 'year', 'hour', 'minute']\n",
    "          \n",
    "    Return \n",
    "    ----------\n",
    "    part of date\n",
    "        part of date, i.e. year, hour, etc. \n",
    "    \"\"\"\n",
    "    dte = convert_date(dte)\n",
    "    return getattr(dte, part_of_date)\n",
    "\n",
    "def is_weekday(dte):\n",
    "    \"\"\"\n",
    "    return whether a dte is a weekday or not\n",
    "    \n",
    "    Parameters\n",
    "    ----------\n",
    "    dte - datetime object\n",
    "          input datetime object\n",
    "              \n",
    "    Return \n",
    "    ----------\n",
    "    binary flag\n",
    "        1 if is weekday else 0 \n",
    "    \"\"\"\n",
    "    dte = convert_date(dte)\n",
    "    if dte.weekday() not in [5, 6]:\n",
    "        return 1\n",
    "    else:\n",
    "        return 0\n",
    "    "
   ]
  },
  {
   "cell_type": "code",
   "execution_count": 307,
   "metadata": {},
   "outputs": [],
   "source": [
    "# pull relevant parts of date\n",
    "trip['start_day'] = trip['starttime'].apply(lambda x: return_part_date(x, part_of_date='day'))\n",
    "trip['start_year'] = trip['starttime'].apply(lambda x: return_part_date(x, part_of_date='year'))\n",
    "trip['start_month'] = trip['starttime'].apply(lambda x: return_part_date(x, part_of_date='month'))\n",
    "trip['start_hour'] = trip['starttime'].apply(lambda x: return_part_date(x, part_of_date='hour'))\n",
    "weather['start_day'] = weather['Date'].apply(lambda x: return_part_date(x, part_of_date='day'))\n",
    "weather['start_year'] = weather['Date'].apply(lambda x: return_part_date(x, part_of_date='year'))\n",
    "weather['start_month'] = weather['Date'].apply(lambda x: return_part_date(x, part_of_date='month'))\n",
    "\n",
    "# test if date is weekday or not\n",
    "trip['weekday'] = trip['starttime'].apply(lambda x: is_weekday(x))"
   ]
  },
  {
   "cell_type": "code",
   "execution_count": 308,
   "metadata": {},
   "outputs": [],
   "source": [
    "# pull out just the mean values for weather\n",
    "weather_sub = weather[['Mean_Temperature_F', 'MeanDew_Point_F', 'Mean_Humidity', \n",
    "                      'Mean_Visibility_Miles', 'Mean_Wind_Speed_MPH', 'Precipitation_In', \n",
    "                      'start_day', 'start_year', 'start_month']]"
   ]
  },
  {
   "cell_type": "code",
   "execution_count": 309,
   "metadata": {},
   "outputs": [],
   "source": [
    "trip = pd.merge(trip, weather_sub, on=['start_day', 'start_year', 'start_month'], how='left')"
   ]
  },
  {
   "cell_type": "code",
   "execution_count": 310,
   "metadata": {},
   "outputs": [],
   "source": [
    "# drop end location information\n",
    "trip = trip.drop(['to_station_name', 'to_station_id', 'from_station_name'], axis=1)"
   ]
  },
  {
   "cell_type": "code",
   "execution_count": 313,
   "metadata": {},
   "outputs": [],
   "source": [
    "# get age of rider\n",
    "trip['rider_age'] = trip['start_year'] - trip['birthyear']"
   ]
  },
  {
   "cell_type": "markdown",
   "metadata": {},
   "source": [
    "#### Basic Exploratory Data Analysis <a id='eda' />\n",
    "\n",
    "Perform basic exploratory analysis of the bicycle data"
   ]
  },
  {
   "cell_type": "code",
   "execution_count": 321,
   "metadata": {},
   "outputs": [],
   "source": [
    "numtrips_weekday = trip.groupby(['weekday', 'start_hour'])['trip_id'].nunique().reset_index(name='numTrip')\n",
    "\n",
    "total_weekday_trips = trip.loc[trip['weekday'] == 1]['trip_id'].nunique()\n",
    "total_weekend_trips = trip.loc[trip['weekday'] == 0]['trip_id'].nunique()\n",
    "\n",
    "numtrips_weekday['percentTrips'] = numtrips_weekday.apply(lambda x: x['numTrip']/total_weekday_trips if x['weekday'] == 1 else x['numTrip']/total_weekend_trips, axis=1)"
   ]
  },
  {
   "cell_type": "code",
   "execution_count": 318,
   "metadata": {},
   "outputs": [
    {
     "data": {
      "application/vnd.plotly.v1+json": {
       "data": [
        {
         "type": "bar",
         "x": [
          0,
          1,
          2,
          3,
          4,
          5,
          6,
          7,
          8,
          9,
          10,
          11,
          12,
          13,
          14,
          15,
          16,
          17,
          18,
          19,
          20,
          21,
          22,
          23
         ],
         "y": [
          1540,
          985,
          721,
          398,
          619,
          1428,
          3186,
          10642,
          19539,
          17200,
          13244,
          14278,
          15096,
          15090,
          14695,
          15997,
          19402,
          23872,
          16846,
          11265,
          7519,
          5973,
          3958,
          2572
         ]
        }
       ],
       "layout": {}
      },
      "text/html": [
       "<div id=\"cb910176-bbb0-4293-bc26-472e7d543729\" style=\"height: 525px; width: 100%;\" class=\"plotly-graph-div\"></div><script type=\"text/javascript\">require([\"plotly\"], function(Plotly) { window.PLOTLYENV=window.PLOTLYENV || {};window.PLOTLYENV.BASE_URL=\"https://plot.ly\";Plotly.newPlot(\"cb910176-bbb0-4293-bc26-472e7d543729\", [{\"type\": \"bar\", \"x\": [0, 1, 2, 3, 4, 5, 6, 7, 8, 9, 10, 11, 12, 13, 14, 15, 16, 17, 18, 19, 20, 21, 22, 23], \"y\": [1540, 985, 721, 398, 619, 1428, 3186, 10642, 19539, 17200, 13244, 14278, 15096, 15090, 14695, 15997, 19402, 23872, 16846, 11265, 7519, 5973, 3958, 2572]}], {}, {\"showLink\": true, \"linkText\": \"Export to plot.ly\"})});</script>"
      ],
      "text/vnd.plotly.v1+html": [
       "<div id=\"cb910176-bbb0-4293-bc26-472e7d543729\" style=\"height: 525px; width: 100%;\" class=\"plotly-graph-div\"></div><script type=\"text/javascript\">require([\"plotly\"], function(Plotly) { window.PLOTLYENV=window.PLOTLYENV || {};window.PLOTLYENV.BASE_URL=\"https://plot.ly\";Plotly.newPlot(\"cb910176-bbb0-4293-bc26-472e7d543729\", [{\"type\": \"bar\", \"x\": [0, 1, 2, 3, 4, 5, 6, 7, 8, 9, 10, 11, 12, 13, 14, 15, 16, 17, 18, 19, 20, 21, 22, 23], \"y\": [1540, 985, 721, 398, 619, 1428, 3186, 10642, 19539, 17200, 13244, 14278, 15096, 15090, 14695, 15997, 19402, 23872, 16846, 11265, 7519, 5973, 3958, 2572]}], {}, {\"showLink\": true, \"linkText\": \"Export to plot.ly\"})});</script>"
      ]
     },
     "metadata": {},
     "output_type": "display_data"
    }
   ],
   "source": [
    "# get number of trips by hour of day\n",
    "\n",
    "numTrips = trip.groupby('start_hour')['trip_id'].nunique().reset_index(name='numTrip')\n",
    "\n",
    "data = [go.Bar(\n",
    "    x = numTrips['start_hour'].tolist(),\n",
    "    y = numTrips['numTrip'].tolist()\n",
    ")]\n",
    "\n",
    "iplot(data)"
   ]
  },
  {
   "cell_type": "code",
   "execution_count": 301,
   "metadata": {},
   "outputs": [
    {
     "data": {
      "text/plain": [
       "6"
      ]
     },
     "execution_count": 301,
     "metadata": {},
     "output_type": "execute_result"
    }
   ],
   "source": [
    "datetime.strptime('8/12/2018 10:54', '%m/%d/%Y %H:%M').weekday()"
   ]
  },
  {
   "cell_type": "code",
   "execution_count": 216,
   "metadata": {},
   "outputs": [],
   "source": [
    "bike_station_start = (bike_station[['station_id', 'install_dockcount', 'current_dockcount', 'install_date']]\n",
    "                      .rename(columns={\"station_id\": 'from_station_id', \n",
    "                                      'install_dockcount': 'from_install_dockcount', \n",
    "                                      'current_dockcount': 'from_current_dockcount', 'install_date': 'from_install_date'})\n",
    "                     )\n",
    "\n",
    "bike_trip = pd.merge(bike_trip, bike_station_start, on='from_station_id', how='left')"
   ]
  },
  {
   "cell_type": "code",
   "execution_count": 217,
   "metadata": {},
   "outputs": [
    {
     "data": {
      "text/html": [
       "<div>\n",
       "<style scoped>\n",
       "    .dataframe tbody tr th:only-of-type {\n",
       "        vertical-align: middle;\n",
       "    }\n",
       "\n",
       "    .dataframe tbody tr th {\n",
       "        vertical-align: top;\n",
       "    }\n",
       "\n",
       "    .dataframe thead th {\n",
       "        text-align: right;\n",
       "    }\n",
       "</style>\n",
       "<table border=\"1\" class=\"dataframe\">\n",
       "  <thead>\n",
       "    <tr style=\"text-align: right;\">\n",
       "      <th></th>\n",
       "      <th>trip_id</th>\n",
       "      <th>starttime</th>\n",
       "      <th>stoptime</th>\n",
       "      <th>bikeid</th>\n",
       "      <th>tripduration</th>\n",
       "      <th>from_station_name</th>\n",
       "      <th>to_station_name</th>\n",
       "      <th>from_station_id</th>\n",
       "      <th>to_station_id</th>\n",
       "      <th>usertype</th>\n",
       "      <th>gender</th>\n",
       "      <th>birthyear</th>\n",
       "      <th>from_install_dockcount</th>\n",
       "      <th>from_current_dockcount</th>\n",
       "      <th>from_install_date</th>\n",
       "    </tr>\n",
       "  </thead>\n",
       "  <tbody>\n",
       "    <tr>\n",
       "      <th>0</th>\n",
       "      <td>431</td>\n",
       "      <td>2014-10-13 10:31:00</td>\n",
       "      <td>2014-10-13 10:48:00</td>\n",
       "      <td>SEA00298</td>\n",
       "      <td>985.935</td>\n",
       "      <td>2nd Ave &amp; Spring St</td>\n",
       "      <td>Occidental Park / Occidental Ave S &amp; S Washing...</td>\n",
       "      <td>CBD-06</td>\n",
       "      <td>PS-04</td>\n",
       "      <td>Member</td>\n",
       "      <td>Male</td>\n",
       "      <td>1960.0</td>\n",
       "      <td>20.0</td>\n",
       "      <td>18.0</td>\n",
       "      <td>2014-10-13</td>\n",
       "    </tr>\n",
       "  </tbody>\n",
       "</table>\n",
       "</div>"
      ],
      "text/plain": [
       "   trip_id           starttime            stoptime    bikeid  tripduration  \\\n",
       "0      431 2014-10-13 10:31:00 2014-10-13 10:48:00  SEA00298       985.935   \n",
       "\n",
       "     from_station_name                                    to_station_name  \\\n",
       "0  2nd Ave & Spring St  Occidental Park / Occidental Ave S & S Washing...   \n",
       "\n",
       "  from_station_id to_station_id usertype gender  birthyear  \\\n",
       "0          CBD-06         PS-04   Member   Male     1960.0   \n",
       "\n",
       "   from_install_dockcount  from_current_dockcount from_install_date  \n",
       "0                    20.0                    18.0        2014-10-13  "
      ]
     },
     "execution_count": 217,
     "metadata": {},
     "output_type": "execute_result"
    }
   ],
   "source": [
    "bike_trip.head(1)"
   ]
  },
  {
   "cell_type": "code",
   "execution_count": 221,
   "metadata": {},
   "outputs": [
    {
     "data": {
      "text/plain": [
       "numpy.datetime64('2014-10-13T10:31:00.000000000')"
      ]
     },
     "execution_count": 221,
     "metadata": {},
     "output_type": "execute_result"
    }
   ],
   "source": [
    "pd.Datetime(bike_trip['starttime'])"
   ]
  },
  {
   "cell_type": "code",
   "execution_count": null,
   "metadata": {},
   "outputs": [],
   "source": []
  }
 ],
 "metadata": {
  "kernelspec": {
   "display_name": "Python 3",
   "language": "python",
   "name": "python3"
  },
  "language_info": {
   "codemirror_mode": {
    "name": "ipython",
    "version": 3
   },
   "file_extension": ".py",
   "mimetype": "text/x-python",
   "name": "python",
   "nbconvert_exporter": "python",
   "pygments_lexer": "ipython3",
   "version": "3.6.4"
  }
 },
 "nbformat": 4,
 "nbformat_minor": 2
}
