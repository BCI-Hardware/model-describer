{
 "cells": [
  {
   "cell_type": "markdown",
   "metadata": {},
   "source": [
    "### Model Describer Meetup Tutorial\n",
    "\n",
    "In this notebook, we will be doing some brief EDA of the [bicycle trip dataset](https://www.kaggle.com/pronto/cycle-share-dataset/home). This is data from the Pronto Cycle Share system which consists of 500 bikes and 54 stations located in Seattle. \n",
    "\n",
    "The key question for this tutorial will be whether or not there are noticeable differences in trip duration by gender and by user age. We will not be controlling for location information (a known deficit of this tutorial). \n",
    "\n",
    "In this tutorial, we will be covering the following:\n",
    "\n",
    "* [Data prep](#prep)\n",
    "* [Exploratory data analysis](#eda)\n",
    "* [Build neural network model](#neural)\n",
    "* [Model Describer Evaluation](#mdesc_regression)\n",
    "* [Model Describer Sensitivity](#mdesc_sensitivity_regression)\n",
    "* [Additional thoughts](#thoughts)"
   ]
  },
  {
   "cell_type": "code",
   "execution_count": null,
   "metadata": {},
   "outputs": [],
   "source": [
    "import os\n",
    "from datetime import datetime\n",
    "import warnings\n",
    "\n",
    "from plotly.offline import download_plotlyjs, init_notebook_mode, plot, iplot\n",
    "import plotly.graph_objs as go\n",
    "import keras\n",
    "import pandas as pd\n",
    "\n",
    "from mdesc.models import (Eval, ClassifierEval, Sensitivity, ClassifierSensitivity)"
   ]
  },
  {
   "cell_type": "code",
   "execution_count": null,
   "metadata": {},
   "outputs": [],
   "source": [
    "# initialize plotly notebook_mode\n",
    "init_notebook_mode(connected=True)\n",
    "\n",
    "# filter out warning messages\n",
    "warnings.filterwarnings('ignore')"
   ]
  },
  {
   "cell_type": "markdown",
   "metadata": {},
   "source": [
    "#### Data Prep <a id='prep' />\n",
    "\n",
    "Read in data and perform basic data manipulations"
   ]
  },
  {
   "cell_type": "code",
   "execution_count": null,
   "metadata": {},
   "outputs": [],
   "source": [
    "# read in the trip and weather data. We will not be using the station data, but there are a number of ways we could use\n",
    "# this if we took advantage of the location information. \n",
    "base_path = '/Users/jasonlewris/Desktop/cycle-share-dataset/'\n",
    "# base_path = r'C:\\Users\\jlewris\\Desktop\\BikeData'\n",
    "trip = pd.read_csv(os.path.join(base_path, 'trip.csv'), error_bad_lines=False)\n",
    "weather = pd.read_csv(os.path.join(base_path, 'weather.csv'))"
   ]
  },
  {
   "cell_type": "code",
   "execution_count": null,
   "metadata": {
    "collapsed": true
   },
   "outputs": [],
   "source": [
    "def convert_date(dte):\n",
    "    \"\"\"\n",
    "    convert string date into datetime object\n",
    "    \n",
    "    Parameters\n",
    "    ----------\n",
    "    dte - string\n",
    "          datetime string object\n",
    "          \n",
    "    Return \n",
    "    ----------\n",
    "    datetime obj\n",
    "        string input converted to datetime object\n",
    "    \"\"\"\n",
    "    try:\n",
    "        dte = datetime.strptime(dte, '%m/%d/%Y %H:%M')\n",
    "    except ValueError:\n",
    "        dte = datetime.strptime(dte, '%m/%d/%Y')\n",
    "    return dte\n",
    "\n",
    "def return_part_date(dte, part_of_date='month'):\n",
    "    \"\"\"\n",
    "    Pull the part_of_date from input datetime object\n",
    "    \n",
    "    Parameters\n",
    "    ----------\n",
    "    dte - datetime object\n",
    "          input datetime object\n",
    "    \n",
    "    part_of_date - str - ['month', 'day', 'year', 'hour', 'minute']\n",
    "          \n",
    "    Return \n",
    "    ----------\n",
    "    part of date\n",
    "        part of date, i.e. year, hour, etc. \n",
    "    \"\"\"\n",
    "    dte = convert_date(dte)\n",
    "    return getattr(dte, part_of_date)\n",
    "\n",
    "def is_weekday(dte):\n",
    "    \"\"\"\n",
    "    return whether a dte is a weekday or not\n",
    "    \n",
    "    Parameters\n",
    "    ----------\n",
    "    dte - datetime object\n",
    "          input datetime object\n",
    "              \n",
    "    Return \n",
    "    ----------\n",
    "    binary flag\n",
    "        1 if is weekday else 0 \n",
    "    \"\"\"\n",
    "    dte = convert_date(dte)\n",
    "    if dte.weekday() not in [5, 6]:\n",
    "        return 1\n",
    "    else:\n",
    "        return 0\n",
    "    "
   ]
  },
  {
   "cell_type": "code",
   "execution_count": null,
   "metadata": {
    "collapsed": true
   },
   "outputs": [],
   "source": [
    "# pull relevant parts of date\n",
    "trip['start_day'] = trip['starttime'].apply(lambda x: return_part_date(x, part_of_date='day'))\n",
    "trip['start_year'] = trip['starttime'].apply(lambda x: return_part_date(x, part_of_date='year'))\n",
    "trip['start_month'] = trip['starttime'].apply(lambda x: return_part_date(x, part_of_date='month'))\n",
    "trip['start_hour'] = trip['starttime'].apply(lambda x: return_part_date(x, part_of_date='hour'))\n",
    "weather['start_day'] = weather['Date'].apply(lambda x: return_part_date(x, part_of_date='day'))\n",
    "weather['start_year'] = weather['Date'].apply(lambda x: return_part_date(x, part_of_date='year'))\n",
    "weather['start_month'] = weather['Date'].apply(lambda x: return_part_date(x, part_of_date='month'))\n",
    "\n",
    "# test if date is weekday or not\n",
    "trip['weekday'] = trip['starttime'].apply(lambda x: is_weekday(x))"
   ]
  },
  {
   "cell_type": "code",
   "execution_count": null,
   "metadata": {
    "collapsed": true
   },
   "outputs": [],
   "source": [
    "# pull out just the mean values for weather\n",
    "weather_sub = weather[['Mean_Temperature_F', 'MeanDew_Point_F', 'Mean_Humidity', \n",
    "                      'Mean_Visibility_Miles', 'Mean_Wind_Speed_MPH', 'Precipitation_In', \n",
    "                      'start_day', 'start_year', 'start_month']]"
   ]
  },
  {
   "cell_type": "code",
   "execution_count": null,
   "metadata": {
    "collapsed": true
   },
   "outputs": [],
   "source": [
    "trip = pd.merge(trip, weather_sub, on=['start_day', 'start_year', 'start_month'], how='left')"
   ]
  },
  {
   "cell_type": "code",
   "execution_count": null,
   "metadata": {
    "collapsed": true
   },
   "outputs": [],
   "source": [
    "# drop end location information\n",
    "trip = trip.drop(['to_station_name', 'to_station_id', 'from_station_name'], axis=1)"
   ]
  },
  {
   "cell_type": "code",
   "execution_count": null,
   "metadata": {
    "collapsed": true
   },
   "outputs": [],
   "source": [
    "# get age of rider\n",
    "trip['rider_age'] = trip['start_year'] - trip['birthyear']"
   ]
  },
  {
   "cell_type": "markdown",
   "metadata": {},
   "source": [
    "#### Basic Exploratory Data Analysis <a id='eda' />\n",
    "\n",
    "Perform basic exploratory analysis of the bicycle data"
   ]
  },
  {
   "cell_type": "code",
   "execution_count": null,
   "metadata": {
    "collapsed": true
   },
   "outputs": [],
   "source": [
    "numtrips_weekday = trip.groupby(['weekday', 'start_hour'])['trip_id'].nunique().reset_index(name='numTrip')\n",
    "\n",
    "total_weekday_trips = trip.loc[trip['weekday'] == 1]['trip_id'].nunique()\n",
    "total_weekend_trips = trip.loc[trip['weekday'] == 0]['trip_id'].nunique()\n",
    "\n",
    "numtrips_weekday['percentTrips'] = numtrips_weekday.apply(lambda x: x['numTrip']/total_weekday_trips if x['weekday'] == 1 else x['numTrip']/total_weekend_trips, axis=1)"
   ]
  },
  {
   "cell_type": "code",
   "execution_count": null,
   "metadata": {},
   "outputs": [],
   "source": [
    "numtrips_weekday.head()"
   ]
  },
  {
   "cell_type": "code",
   "execution_count": null,
   "metadata": {},
   "outputs": [],
   "source": [
    "# get number of trips by hour of day\n",
    "\n",
    "weekday = numtrips_weekday['weekday'] == 1\n",
    "weekend = numtrips_weekday['weekday'] == 0\n",
    "\n",
    "trace1 = go.Bar(\n",
    "    x = numtrips_weekday.loc[weekday, 'start_hour'].tolist(),\n",
    "    y = numtrips_weekday.loc[weekday, 'percentTrips'].tolist(), \n",
    "    name='Weekday Trips'\n",
    ")\n",
    "\n",
    "trace2 = go.Bar(\n",
    "    x = numtrips_weekday.loc[weekend, 'start_hour'].tolist(),\n",
    "    y = numtrips_weekday.loc[weekend, 'percentTrips'].tolist(), \n",
    "    name='Weekend Trips'\n",
    ")\n",
    "\n",
    "data = [trace1, trace2]\n",
    "\n",
    "layout = go.Layout(barmode='group', \n",
    "                  title='Weekend vs. Weekday Trips by Hour',\n",
    "                  xaxis=dict(title='Hour'), \n",
    "                  yaxis=dict(title='Percent of Trips'))\n",
    "\n",
    "fig = go.Figure(data=data, layout=layout)\n",
    "\n",
    "iplot(fig)"
   ]
  },
  {
   "cell_type": "code",
   "execution_count": null,
   "metadata": {
    "collapsed": true
   },
   "outputs": [],
   "source": [
    "trip_dist = trip.groupby(['weekday', 'start_hour'])['tripduration'].mean().reset_index(name='tripDist')"
   ]
  },
  {
   "cell_type": "code",
   "execution_count": null,
   "metadata": {
    "scrolled": false
   },
   "outputs": [],
   "source": [
    "trace1 = go.Scatter(\n",
    "    x = trip_dist.loc[weekday, 'start_hour'].tolist(),\n",
    "    y = trip_dist.loc[weekday, 'tripDist'].tolist(), \n",
    "    name='Weekday Trips', \n",
    "    mode='lines'\n",
    ")\n",
    "\n",
    "trace2 = go.Scatter(\n",
    "    x = trip_dist.loc[weekend, 'start_hour'].tolist(),\n",
    "    y = trip_dist.loc[weekend, 'tripDist'].tolist(), \n",
    "    name='Weekend Trips', \n",
    "    mode='lines'\n",
    ")\n",
    "\n",
    "data = [trace1, trace2]\n",
    "\n",
    "layout = go.Layout(\n",
    "                  title='Weekend vs. Weekday Trip Duration by Hour',\n",
    "                  xaxis=dict(title='Hour'), \n",
    "                  yaxis=dict(title='Trip Duration (seconds)'))\n",
    "\n",
    "fig = go.Figure(data=data, layout=layout)\n",
    "\n",
    "iplot(fig)"
   ]
  },
  {
   "cell_type": "code",
   "execution_count": null,
   "metadata": {},
   "outputs": [],
   "source": [
    "tripgender = trip.groupby('gender')['tripduration'].mean().reset_index(name='tripDist')\n",
    "\n",
    "data = [go.Bar(\n",
    "    x=tripgender['gender'].tolist(),\n",
    "    y=tripgender['tripDist'].tolist()\n",
    ")]\n",
    "\n",
    "layout = go.Layout(\n",
    "                  title='Average Trip Duration (seconds) by Gender',\n",
    "                  xaxis=dict(title='Gender'), \n",
    "                  yaxis=dict(title='Trip Duration (seconds)'))\n",
    "\n",
    "fig = go.Figure(data=data, layout=layout)\n",
    "\n",
    "iplot(fig)"
   ]
  },
  {
   "cell_type": "code",
   "execution_count": null,
   "metadata": {},
   "outputs": [],
   "source": [
    "corr = trip[['rider_age', 'Mean_Temperature_F', 'Mean_Humidity', \n",
    "             'tripduration', 'weekday']].corr()\n",
    "\n",
    "trace = go.Heatmap(z=corr.values.tolist(), \n",
    "                   x=corr.index.tolist(),\n",
    "                   y=corr.columns.tolist())\n",
    "\n",
    "layout = go.Layout(\n",
    "                  title='Correlation Heatmap',\n",
    "    )\n",
    "\n",
    "data = [trace]\n",
    "\n",
    "fig = go.Figure(data=data, layout=layout)\n",
    "\n",
    "iplot(fig)"
   ]
  },
  {
   "cell_type": "markdown",
   "metadata": {},
   "source": [
    "### Build Neural Network Model <a id='neural' /a>\n",
    "\n",
    "Build out example neural network in keras to predict trip duration"
   ]
  },
  {
   "cell_type": "code",
   "execution_count": null,
   "metadata": {
    "collapsed": true
   },
   "outputs": [],
   "source": [
    "from keras.models import Sequential\n",
    "from keras.layers import Dense, Dropout\n",
    "from keras.optimizers import SGD, Adam\n",
    "from sklearn.datasets import make_regression\n",
    "from sklearn.preprocessing import StandardScaler\n",
    "from sklearn.model_selection import train_test_split\n",
    "import numpy as np\n",
    "#from sklearn.preprocessing import train_test_split"
   ]
  },
  {
   "cell_type": "code",
   "execution_count": null,
   "metadata": {
    "collapsed": true
   },
   "outputs": [],
   "source": [
    "trip_model = trip.drop(['stoptime', 'bikeid', 'trip_id', \n",
    "                       'starttime', 'birthyear'], axis=1)\n",
    "X = trip_model.loc[:, trip_model.columns != 'tripduration']\n",
    "y = trip_model.loc[:, 'tripduration'].values.reshape((286857, 1))"
   ]
  },
  {
   "cell_type": "code",
   "execution_count": null,
   "metadata": {},
   "outputs": [],
   "source": [
    "X.fillna(method='pad', inplace=True)"
   ]
  },
  {
   "cell_type": "code",
   "execution_count": null,
   "metadata": {},
   "outputs": [],
   "source": [
    "def map_hours(hr):\n",
    "    if hr < 6:\n",
    "        return 'early_morning'\n",
    "    elif hr >= 6 and hr < 10:\n",
    "        return 'morning_rush'\n",
    "    elif hr >= 10 and hr < 15:\n",
    "        return 'mid_day'\n",
    "    elif hr >= 15 and hr < 19:\n",
    "        return 'evening_rush'\n",
    "    else:\n",
    "        return 'evening'\n",
    "    \n",
    "X['start_hour'] = X['start_hour'].apply(lambda x: map_hours(x))\n",
    "X['weekday'] = X['weekday'].replace({0: 'weekend',\n",
    "                                    1: 'weekday'})"
   ]
  },
  {
   "cell_type": "code",
   "execution_count": null,
   "metadata": {},
   "outputs": [],
   "source": [
    "X = X.drop('from_station_id', axis=1)\n",
    "\n",
    "categories = [ 'usertype', \n",
    "              'gender', 'start_year', \n",
    "              'start_month', 'start_hour', 'weekday']\n",
    "\n",
    "continuous = [col for col in X.columns.tolist() if col not in categories]"
   ]
  },
  {
   "cell_type": "code",
   "execution_count": null,
   "metadata": {
    "collapsed": true
   },
   "outputs": [],
   "source": [
    "\n",
    "X_cat = pd.get_dummies(X[categories], columns=categories)\n",
    "\n",
    "X_cat_cols = X_cat.columns.tolist()\n",
    "#X_cat = X_cat.values"
   ]
  },
  {
   "cell_type": "code",
   "execution_count": null,
   "metadata": {},
   "outputs": [],
   "source": [
    "X_cat.head(1)"
   ]
  },
  {
   "cell_type": "code",
   "execution_count": null,
   "metadata": {
    "collapsed": true
   },
   "outputs": [],
   "source": [
    "sc = StandardScaler()\n",
    "\n",
    "X_cont = sc.fit_transform(X[continuous])\n",
    "\n"
   ]
  },
  {
   "cell_type": "code",
   "execution_count": null,
   "metadata": {
    "collapsed": true
   },
   "outputs": [],
   "source": [
    "X = np.hstack((X_cat, X_cont))\n",
    "\n",
    "feature_names = X_cat_cols + continuous"
   ]
  },
  {
   "cell_type": "code",
   "execution_count": null,
   "metadata": {
    "collapsed": true
   },
   "outputs": [],
   "source": [
    "X_train, X_test, y_train, y_test, group_train, group_test = train_test_split(X, y,trip, \n",
    "                                                   test_size=0.1, \n",
    "                                                   random_state=42)"
   ]
  },
  {
   "cell_type": "code",
   "execution_count": null,
   "metadata": {},
   "outputs": [],
   "source": [
    "X_train"
   ]
  },
  {
   "cell_type": "code",
   "execution_count": null,
   "metadata": {
    "scrolled": true
   },
   "outputs": [],
   "source": [
    "model = Sequential()\n",
    "model.add(Dense(256, input_dim=X_train.shape[1], activation='relu', \n",
    "               kernel_initializer='normal'))\n",
    "model.add(Dropout(0.1))\n",
    "\n",
    "model.add(Dense(128, activation='relu'))\n",
    "model.add(Dropout(0.1))\n",
    "\n",
    "model.add(Dense(64, activation='relu'))\n",
    "model.add(Dropout(0.1))\n",
    "model.add(Dense(1, activation='linear'))\n",
    "\n",
    "#keras.optimizers.SGD(lr=0.001, momentum=0.0, decay=0.0, nesterov=False)\n",
    "adam = Adam(lr=0.0005)\n",
    "\n",
    "model.compile(loss='mae', optimizer=adam)\n",
    "model.fit(X_train, y_train, epochs=300, verbose=1, batch_size=512, \n",
    "         validation_split=0.2)"
   ]
  },
  {
   "cell_type": "code",
   "execution_count": null,
   "metadata": {},
   "outputs": [],
   "source": [
    "group_test['start_hour'] = group_test['start_hour'].apply(lambda x: map_hours(x))"
   ]
  },
  {
   "cell_type": "code",
   "execution_count": null,
   "metadata": {
    "collapsed": true
   },
   "outputs": [],
   "source": [
    "groupby_df = group_test[['gender',  'usertype', 'start_hour']]"
   ]
  },
  {
   "cell_type": "code",
   "execution_count": null,
   "metadata": {},
   "outputs": [],
   "source": [
    "groupby_df['gender'].fillna('Other', inplace=True)"
   ]
  },
  {
   "cell_type": "markdown",
   "metadata": {},
   "source": [
    "### Model Describer Evaluation <a id='mdesc_regression' />"
   ]
  },
  {
   "cell_type": "code",
   "execution_count": null,
   "metadata": {},
   "outputs": [],
   "source": [
    "RE = Eval(prediction_fn=model.predict, target_names='transit_time', \n",
    "                feature_names=feature_names)\n",
    "res = RE.fit_transform(X=X_test, y=y_test.flatten(), \n",
    "                       groupby_df=groupby_df)"
   ]
  },
  {
   "cell_type": "code",
   "execution_count": null,
   "metadata": {},
   "outputs": [],
   "source": [
    "# reminder of what the groupby_names to choose from are\n",
    "res = RE.data_set.results"
   ]
  },
  {
   "cell_type": "code",
   "execution_count": null,
   "metadata": {},
   "outputs": [],
   "source": [
    "res.loc[(res['x_name']=='Mean_Humidity')&(res['groupByValue'] == 'Short-Term Pass Holder')]"
   ]
  },
  {
   "cell_type": "code",
   "execution_count": null,
   "metadata": {},
   "outputs": [],
   "source": [
    "RE.data_set.results.loc[RE.data_set.results['x_name'] == 'Short-Term Pass Holder']"
   ]
  },
  {
   "cell_type": "code",
   "execution_count": null,
   "metadata": {},
   "outputs": [],
   "source": [
    "RE.data_set.viz_now(groupby_name='usertype')"
   ]
  },
  {
   "cell_type": "code",
   "execution_count": null,
   "metadata": {},
   "outputs": [],
   "source": [
    "X[:, 71]"
   ]
  },
  {
   "cell_type": "code",
   "execution_count": null,
   "metadata": {
    "collapsed": true
   },
   "outputs": [],
   "source": []
  }
 ],
 "metadata": {
  "kernelspec": {
   "display_name": "Python 3",
   "language": "python",
   "name": "python3"
  },
  "language_info": {
   "codemirror_mode": {
    "name": "ipython",
    "version": 3
   },
   "file_extension": ".py",
   "mimetype": "text/x-python",
   "name": "python",
   "nbconvert_exporter": "python",
   "pygments_lexer": "ipython3",
   "version": "3.6.3"
  }
 },
 "nbformat": 4,
 "nbformat_minor": 2
}
