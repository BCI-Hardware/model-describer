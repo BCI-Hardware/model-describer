{
 "cells": [
  {
   "cell_type": "markdown",
   "metadata": {},
   "source": [
    "## WhiteBox Error and Sensitivity Analysis on Wine Quality Data\n",
    "\n",
    "Goals of tutorial include:\n",
    "* [Importing wine quality dataset](#wine_quality)\n",
    "* [Handling categorical features inherent within data by using dummy variables and pandas categorical datatype](#categorical)\n",
    "* [Build model](#model)\n",
    "* [Deploying WhiteBoxError graphics](#wbox_error)\n",
    "* [Deploying WhiteBoxSensitivity graphics](#wbox_sensitivity)"
   ]
  },
  {
   "cell_type": "code",
   "execution_count": 1,
   "metadata": {},
   "outputs": [],
   "source": [
    "# remove when actual package\n",
    "%load_ext autoreload\n",
    "\n",
    "%autoreload 2\n",
    "\n",
    "import os\n",
    "import sys\n",
    "import numpy as np\n",
    "import pandas as pd\n",
    "from sklearn.ensemble import RandomForestRegressor\n",
    "\n",
    "module_path = os.path.abspath('/projects/us_eminence/WhiteBox_Production')\n",
    "if module_path not in sys.path:\n",
    "    sys.path.append(module_path)"
   ]
  },
  {
   "cell_type": "code",
   "execution_count": 2,
   "metadata": {},
   "outputs": [],
   "source": [
    "from whitebox import utils\n",
    "from whitebox.WhiteBox import WhiteBoxError, WhiteBoxSensitivity"
   ]
  },
  {
   "cell_type": "markdown",
   "metadata": {},
   "source": [
    "### Import wine quality dataset <a id=wine_quality><a>\n",
    "Perform basic exploratory data analysis to better understand what types of columns are available"
   ]
  },
  {
   "cell_type": "code",
   "execution_count": 3,
   "metadata": {},
   "outputs": [],
   "source": [
    "df = pd.read_csv('./datasets/winequality.csv')"
   ]
  },
  {
   "cell_type": "code",
   "execution_count": 4,
   "metadata": {},
   "outputs": [
    {
     "data": {
      "text/html": [
       "<div>\n",
       "<table border=\"1\" class=\"dataframe\">\n",
       "  <thead>\n",
       "    <tr style=\"text-align: right;\">\n",
       "      <th></th>\n",
       "      <th>fixed.acidity</th>\n",
       "      <th>volatile.acidity</th>\n",
       "      <th>citric.acid</th>\n",
       "      <th>residual.sugar</th>\n",
       "      <th>chlorides</th>\n",
       "      <th>free.sulfur.dioxide</th>\n",
       "      <th>total.sulfur.dioxide</th>\n",
       "      <th>density</th>\n",
       "      <th>pH</th>\n",
       "      <th>sulphates</th>\n",
       "      <th>quality</th>\n",
       "      <th>Type</th>\n",
       "      <th>AlcoholContent</th>\n",
       "    </tr>\n",
       "  </thead>\n",
       "  <tbody>\n",
       "    <tr>\n",
       "      <th>0</th>\n",
       "      <td>7.4</td>\n",
       "      <td>0.70</td>\n",
       "      <td>0.00</td>\n",
       "      <td>1.9</td>\n",
       "      <td>0.076</td>\n",
       "      <td>11.0</td>\n",
       "      <td>34.0</td>\n",
       "      <td>0.9978</td>\n",
       "      <td>3.51</td>\n",
       "      <td>0.56</td>\n",
       "      <td>5</td>\n",
       "      <td>Red</td>\n",
       "      <td>Low</td>\n",
       "    </tr>\n",
       "    <tr>\n",
       "      <th>1</th>\n",
       "      <td>7.8</td>\n",
       "      <td>0.88</td>\n",
       "      <td>0.00</td>\n",
       "      <td>2.6</td>\n",
       "      <td>0.098</td>\n",
       "      <td>25.0</td>\n",
       "      <td>67.0</td>\n",
       "      <td>0.9968</td>\n",
       "      <td>3.20</td>\n",
       "      <td>0.68</td>\n",
       "      <td>5</td>\n",
       "      <td>Red</td>\n",
       "      <td>Low</td>\n",
       "    </tr>\n",
       "    <tr>\n",
       "      <th>2</th>\n",
       "      <td>7.8</td>\n",
       "      <td>0.76</td>\n",
       "      <td>0.04</td>\n",
       "      <td>2.3</td>\n",
       "      <td>0.092</td>\n",
       "      <td>15.0</td>\n",
       "      <td>54.0</td>\n",
       "      <td>0.9970</td>\n",
       "      <td>3.26</td>\n",
       "      <td>0.65</td>\n",
       "      <td>5</td>\n",
       "      <td>Red</td>\n",
       "      <td>Low</td>\n",
       "    </tr>\n",
       "    <tr>\n",
       "      <th>3</th>\n",
       "      <td>11.2</td>\n",
       "      <td>0.28</td>\n",
       "      <td>0.56</td>\n",
       "      <td>1.9</td>\n",
       "      <td>0.075</td>\n",
       "      <td>17.0</td>\n",
       "      <td>60.0</td>\n",
       "      <td>0.9980</td>\n",
       "      <td>3.16</td>\n",
       "      <td>0.58</td>\n",
       "      <td>6</td>\n",
       "      <td>Red</td>\n",
       "      <td>Low</td>\n",
       "    </tr>\n",
       "    <tr>\n",
       "      <th>4</th>\n",
       "      <td>7.4</td>\n",
       "      <td>0.70</td>\n",
       "      <td>0.00</td>\n",
       "      <td>1.9</td>\n",
       "      <td>0.076</td>\n",
       "      <td>11.0</td>\n",
       "      <td>34.0</td>\n",
       "      <td>0.9978</td>\n",
       "      <td>3.51</td>\n",
       "      <td>0.56</td>\n",
       "      <td>5</td>\n",
       "      <td>Red</td>\n",
       "      <td>Low</td>\n",
       "    </tr>\n",
       "  </tbody>\n",
       "</table>\n",
       "</div>"
      ],
      "text/plain": [
       "   fixed.acidity  volatile.acidity  citric.acid  residual.sugar  chlorides  \\\n",
       "0            7.4              0.70         0.00             1.9      0.076   \n",
       "1            7.8              0.88         0.00             2.6      0.098   \n",
       "2            7.8              0.76         0.04             2.3      0.092   \n",
       "3           11.2              0.28         0.56             1.9      0.075   \n",
       "4            7.4              0.70         0.00             1.9      0.076   \n",
       "\n",
       "   free.sulfur.dioxide  total.sulfur.dioxide  density    pH  sulphates  \\\n",
       "0                 11.0                  34.0   0.9978  3.51       0.56   \n",
       "1                 25.0                  67.0   0.9968  3.20       0.68   \n",
       "2                 15.0                  54.0   0.9970  3.26       0.65   \n",
       "3                 17.0                  60.0   0.9980  3.16       0.58   \n",
       "4                 11.0                  34.0   0.9978  3.51       0.56   \n",
       "\n",
       "   quality Type AlcoholContent  \n",
       "0        5  Red            Low  \n",
       "1        5  Red            Low  \n",
       "2        5  Red            Low  \n",
       "3        6  Red            Low  \n",
       "4        5  Red            Low  "
      ]
     },
     "execution_count": 4,
     "metadata": {},
     "output_type": "execute_result"
    }
   ],
   "source": [
    "df.head()"
   ]
  },
  {
   "cell_type": "code",
   "execution_count": 5,
   "metadata": {},
   "outputs": [
    {
     "data": {
      "text/plain": [
       "fixed.acidity           float64\n",
       "volatile.acidity        float64\n",
       "citric.acid             float64\n",
       "residual.sugar          float64\n",
       "chlorides               float64\n",
       "free.sulfur.dioxide     float64\n",
       "total.sulfur.dioxide    float64\n",
       "density                 float64\n",
       "pH                      float64\n",
       "sulphates               float64\n",
       "quality                   int64\n",
       "Type                     object\n",
       "AlcoholContent           object\n",
       "dtype: object"
      ]
     },
     "execution_count": 5,
     "metadata": {},
     "output_type": "execute_result"
    }
   ],
   "source": [
    "df.dtypes # it looks like most of our columns are numeric, with the exception of Type and AlcoholContent"
   ]
  },
  {
   "cell_type": "code",
   "execution_count": 6,
   "metadata": {},
   "outputs": [
    {
     "data": {
      "text/plain": [
       "AlcoholContent\n",
       "High       852\n",
       "Low       2832\n",
       "Medium    2813\n",
       "Name: fixed.acidity, dtype: int64"
      ]
     },
     "execution_count": 6,
     "metadata": {},
     "output_type": "execute_result"
    }
   ],
   "source": [
    "df.groupby('AlcoholContent')['fixed.acidity'].count() # most of our data resides in low/medium alcohol content"
   ]
  },
  {
   "cell_type": "code",
   "execution_count": 7,
   "metadata": {},
   "outputs": [
    {
     "data": {
      "text/plain": [
       "Type\n",
       "Red      1599\n",
       "White    4898\n",
       "Name: fixed.acidity, dtype: int64"
      ]
     },
     "execution_count": 7,
     "metadata": {},
     "output_type": "execute_result"
    }
   ],
   "source": [
    "df.groupby('Type')['fixed.acidity'].count() # and most of our data is white wine"
   ]
  },
  {
   "cell_type": "markdown",
   "metadata": {},
   "source": [
    "### Handling categorical data <a id=categorical><a>"
   ]
  },
  {
   "cell_type": "code",
   "execution_count": 8,
   "metadata": {},
   "outputs": [],
   "source": [
    "# we need to convert the categorical columns to the special pandas categorical datatype\n",
    "\n",
    "# first need to identify these string columns from before\n",
    "string_cols = df.select_dtypes(include = ['O'])\n",
    "\n",
    "# convert these into categorical datatype\n",
    "for cat in string_cols:\n",
    "    df[cat] = pd.Categorical(df[cat])"
   ]
  },
  {
   "cell_type": "code",
   "execution_count": 9,
   "metadata": {},
   "outputs": [
    {
     "data": {
      "text/plain": [
       "fixed.acidity            float64\n",
       "volatile.acidity         float64\n",
       "citric.acid              float64\n",
       "residual.sugar           float64\n",
       "chlorides                float64\n",
       "free.sulfur.dioxide      float64\n",
       "total.sulfur.dioxide     float64\n",
       "density                  float64\n",
       "pH                       float64\n",
       "sulphates                float64\n",
       "quality                    int64\n",
       "Type                    category\n",
       "AlcoholContent          category\n",
       "dtype: object"
      ]
     },
     "execution_count": 9,
     "metadata": {},
     "output_type": "execute_result"
    }
   ],
   "source": [
    "df.dtypes # great - now they are categorical datatypes"
   ]
  },
  {
   "cell_type": "markdown",
   "metadata": {},
   "source": [
    "### Build model <a id=model><a>"
   ]
  },
  {
   "cell_type": "code",
   "execution_count": 10,
   "metadata": {
    "collapsed": true
   },
   "outputs": [],
   "source": [
    "# we need to define what our dependent variable is\n",
    "ydepend = 'quality' # we are going to treat quality as a continuous variable for the purposes of the tutorial\n",
    "\n",
    "# subset the training data\n",
    "x_train = df.loc[:, df.columns != ydepend].copy(deep = True)\n",
    "\n",
    "# convert these into their categorical codes using utility function convert_categorical_indpendent\n",
    "x_train = utils.convert_categorical_independent(x_train)\n",
    "\n",
    "# pull out the dependent variable column\n",
    "y_train = df.loc[:, ydepend]"
   ]
  },
  {
   "cell_type": "code",
   "execution_count": 11,
   "metadata": {},
   "outputs": [
    {
     "data": {
      "text/plain": [
       "RandomForestRegressor(bootstrap=True, criterion='mse', max_depth=None,\n",
       "           max_features='auto', max_leaf_nodes=None,\n",
       "           min_impurity_split=1e-07, min_samples_leaf=1,\n",
       "           min_samples_split=2, min_weight_fraction_leaf=0.0,\n",
       "           n_estimators=10, n_jobs=1, oob_score=False, random_state=None,\n",
       "           verbose=0, warm_start=False)"
      ]
     },
     "execution_count": 11,
     "metadata": {},
     "output_type": "execute_result"
    }
   ],
   "source": [
    "# build the model\n",
    "modelobj = RandomForestRegressor()\n",
    "\n",
    "modelobj.fit(x_train, y_train)"
   ]
  },
  {
   "cell_type": "code",
   "execution_count": 12,
   "metadata": {},
   "outputs": [
    {
     "data": {
      "text/html": [
       "<div>\n",
       "<table border=\"1\" class=\"dataframe\">\n",
       "  <thead>\n",
       "    <tr style=\"text-align: right;\">\n",
       "      <th></th>\n",
       "      <th>fixed.acidity</th>\n",
       "      <th>volatile.acidity</th>\n",
       "      <th>citric.acid</th>\n",
       "      <th>residual.sugar</th>\n",
       "      <th>chlorides</th>\n",
       "      <th>free.sulfur.dioxide</th>\n",
       "      <th>total.sulfur.dioxide</th>\n",
       "      <th>density</th>\n",
       "      <th>pH</th>\n",
       "      <th>sulphates</th>\n",
       "      <th>quality</th>\n",
       "      <th>Type</th>\n",
       "      <th>AlcoholContent</th>\n",
       "    </tr>\n",
       "  </thead>\n",
       "  <tbody>\n",
       "    <tr>\n",
       "      <th>0</th>\n",
       "      <td>7.4</td>\n",
       "      <td>0.7</td>\n",
       "      <td>0.0</td>\n",
       "      <td>1.9</td>\n",
       "      <td>0.076</td>\n",
       "      <td>11.0</td>\n",
       "      <td>34.0</td>\n",
       "      <td>0.9978</td>\n",
       "      <td>3.51</td>\n",
       "      <td>0.56</td>\n",
       "      <td>5</td>\n",
       "      <td>Red</td>\n",
       "      <td>Low</td>\n",
       "    </tr>\n",
       "  </tbody>\n",
       "</table>\n",
       "</div>"
      ],
      "text/plain": [
       "   fixed.acidity  volatile.acidity  citric.acid  residual.sugar  chlorides  \\\n",
       "0            7.4               0.7          0.0             1.9      0.076   \n",
       "\n",
       "   free.sulfur.dioxide  total.sulfur.dioxide  density    pH  sulphates  \\\n",
       "0                 11.0                  34.0   0.9978  3.51       0.56   \n",
       "\n",
       "   quality Type AlcoholContent  \n",
       "0        5  Red            Low  "
      ]
     },
     "execution_count": 12,
     "metadata": {},
     "output_type": "execute_result"
    }
   ],
   "source": [
    "df.head(1)"
   ]
  },
  {
   "cell_type": "markdown",
   "metadata": {},
   "source": [
    "### Create WhiteBoxError <a id=wbox_error><a>"
   ]
  },
  {
   "cell_type": "code",
   "execution_count": 29,
   "metadata": {},
   "outputs": [],
   "source": [
    "# specify featuredict as a subset of columns we want to focus on\n",
    "featuredict = {'fixed.acidity': 'FIXED ACIDITY',\n",
    "               'quality': 'SUPERQUALITY',\n",
    "               'ALL DATA' : \"ALL DATA\",\n",
    "               'AlcoholContent': 'AC',\n",
    "               'sulphates': 'SULPHATES',\n",
    "              'volatile.acidity': 'VOLATILE ACIDITY',\n",
    "              'residual.sugar': 'RESIDUAL SUGAR',\n",
    "              'free.sulfur.dioxide': 'FREE SULFUR DIOXIDE'}\n",
    "\n",
    "# hack it for one groupby variable\n",
    "df['ALL DATA'] = 'ALL DATA'\n",
    "\n",
    "# specify the groupby variables\n",
    "groupbyvars = ['ALL DATA']\n",
    "\n",
    "# instantiate wbox error\n",
    "WB = WhiteBoxError(modelobj = modelobj,\n",
    "                   model_df = x_train,\n",
    "                   ydepend= ydepend,\n",
    "                   cat_df = df,\n",
    "                   groupbyvars = groupbyvars,\n",
    "                   featuredict = featuredict,\n",
    "                   verbose=None)"
   ]
  },
  {
   "cell_type": "code",
   "execution_count": 30,
   "metadata": {},
   "outputs": [
    {
     "name": "stdout",
     "output_type": "stream",
     "text": [
      "[{'Type': 'Continuous', 'Data': [{'groupByValue': 'ALL DATA', 'errNeg': -0.31111111111111106, 'errPos': 0.28064516129032246, 'FIXED ACIDITY': 5.1, 'predictedYSmooth': 6.1255555555555565, 'groupByVarName': 'ALL DATA'}, {'groupByValue': 'ALL DATA', 'errNeg': -0.2826086956521739, 'errPos': 0.24642857142857136, 'FIXED ACIDITY': 5.3, 'predictedYSmooth': 6.206153846153847, 'groupByVarName': 'ALL DATA'}, {'groupByValue': 'ALL DATA', 'errNeg': -0.2374999999999999, 'errPos': 0.2999999999999999, 'FIXED ACIDITY': 5.5, 'predictedYSmooth': 6.2046153846153835, 'groupByVarName': 'ALL DATA'}, {'groupByValue': 'ALL DATA', 'errNeg': -0.2085714285714285, 'errPos': 0.32592592592592584, 'FIXED ACIDITY': 5.6, 'predictedYSmooth': 6.06470588235294, 'groupByVarName': 'ALL DATA'}, {'groupByValue': 'ALL DATA', 'errNeg': -0.22857142857142848, 'errPos': 0.22962962962962963, 'FIXED ACIDITY': 5.7, 'predictedYSmooth': 5.908888888888888, 'groupByVarName': 'ALL DATA'}, {'groupByValue': 'ALL DATA', 'errNeg': -0.257142857142857, 'errPos': 0.30196078431372536, 'FIXED ACIDITY': 5.8, 'predictedYSmooth': 6.030399999999999, 'groupByVarName': 'ALL DATA'}, {'groupByValue': 'ALL DATA', 'errNeg': -0.2432432432432432, 'errPos': 0.27857142857142847, 'FIXED ACIDITY': 5.9, 'predictedYSmooth': 5.925892857142857, 'groupByVarName': 'ALL DATA'}, {'groupByValue': 'ALL DATA', 'errNeg': -0.22031249999999977, 'errPos': 0.2441176470588235, 'FIXED ACIDITY': 6.0, 'predictedYSmooth': 5.895939086294412, 'groupByVarName': 'ALL DATA'}, {'groupByValue': 'ALL DATA', 'errNeg': -0.26499999999999985, 'errPos': 0.2666666666666666, 'FIXED ACIDITY': 6.1, 'predictedYSmooth': 5.792397660818714, 'groupByVarName': 'ALL DATA'}, {'groupByValue': 'ALL DATA', 'errNeg': -0.2584615384615384, 'errPos': 0.23623188405797096, 'FIXED ACIDITY': 6.2, 'predictedYSmooth': 5.834112149532712, 'groupByVarName': 'ALL DATA'}, {'groupByValue': 'ALL DATA', 'errNeg': -0.23770491803278687, 'errPos': 0.24558823529411763, 'FIXED ACIDITY': 6.3, 'predictedYSmooth': 5.897029702970296, 'groupByVarName': 'ALL DATA'}, {'groupByValue': 'ALL DATA', 'errNeg': -0.25360824742268034, 'errPos': 0.2394230769230769, 'FIXED ACIDITY': 6.4, 'predictedYSmooth': 5.7518032786885245, 'groupByVarName': 'ALL DATA'}, {'groupByValue': 'ALL DATA', 'errNeg': -0.2597701149425288, 'errPos': 0.27499999999999997, 'FIXED ACIDITY': 6.5, 'predictedYSmooth': 5.96008230452675, 'groupByVarName': 'ALL DATA'}, {'groupByValue': 'ALL DATA', 'errNeg': -0.23124999999999993, 'errPos': 0.24095238095238095, 'FIXED ACIDITY': 6.6, 'predictedYSmooth': 5.829969418960248, 'groupByVarName': 'ALL DATA'}, {'groupByValue': 'ALL DATA', 'errNeg': -0.2615384615384614, 'errPos': 0.24146341463414614, 'FIXED ACIDITY': 6.7, 'predictedYSmooth': 5.90681818181818, 'groupByVarName': 'ALL DATA'}, {'groupByValue': 'ALL DATA', 'errNeg': -0.24629629629629632, 'errPos': 0.2529411764705883, 'FIXED ACIDITY': 6.8, 'predictedYSmooth': 5.820621468926554, 'groupByVarName': 'ALL DATA'}, {'groupByValue': 'ALL DATA', 'errNeg': -0.2778947368421053, 'errPos': 0.26792452830188673, 'FIXED ACIDITY': 6.9, 'predictedYSmooth': 5.81720430107527, 'groupByVarName': 'ALL DATA'}, {'groupByValue': 'ALL DATA', 'errNeg': -0.2561224489795918, 'errPos': 0.23374999999999976, 'FIXED ACIDITY': 7.0, 'predictedYSmooth': 5.959574468085105, 'groupByVarName': 'ALL DATA'}, {'groupByValue': 'ALL DATA', 'errNeg': -0.25176470588235295, 'errPos': 0.2666666666666668, 'FIXED ACIDITY': 7.1, 'predictedYSmooth': 5.812451361867699, 'groupByVarName': 'ALL DATA'}, {'groupByValue': 'ALL DATA', 'errNeg': 'null', 'errPos': 'null', 'FIXED ACIDITY': 7.15, 'predictedYSmooth': 6.0, 'groupByVarName': 'ALL DATA'}, {'groupByValue': 'ALL DATA', 'errNeg': -0.24683544303797472, 'errPos': 0.26708860759493663, 'FIXED ACIDITY': 7.2, 'predictedYSmooth': 5.760439560439564, 'groupByVarName': 'ALL DATA'}, {'groupByValue': 'ALL DATA', 'errNeg': -0.23625, 'errPos': 0.2535714285714283, 'FIXED ACIDITY': 7.3, 'predictedYSmooth': 5.978828828828831, 'groupByVarName': 'ALL DATA'}, {'groupByValue': 'ALL DATA', 'errNeg': -0.34126984126984145, 'errPos': 0.23146067415730331, 'FIXED ACIDITY': 7.4, 'predictedYSmooth': 5.840756302521009, 'groupByVarName': 'ALL DATA'}, {'groupByValue': 'ALL DATA', 'errNeg': -0.23877551020408158, 'errPos': 0.2564516129032257, 'FIXED ACIDITY': 7.5, 'predictedYSmooth': 5.618285714285712, 'groupByVarName': 'ALL DATA'}, {'groupByValue': 'ALL DATA', 'errNeg': -0.19777777777777766, 'errPos': 0.23376623376623376, 'FIXED ACIDITY': 7.6, 'predictedYSmooth': 5.618592964824118, 'groupByVarName': 'ALL DATA'}, {'groupByValue': 'ALL DATA', 'errNeg': -0.22391304347826066, 'errPos': 0.19791666666666652, 'FIXED ACIDITY': 7.7, 'predictedYSmooth': 5.740845070422535, 'groupByVarName': 'ALL DATA'}, {'groupByValue': 'ALL DATA', 'errNeg': -0.24237288135593213, 'errPos': 0.21702127659574455, 'FIXED ACIDITY': 7.8, 'predictedYSmooth': 5.7527397260273965, 'groupByVarName': 'ALL DATA'}, {'groupByValue': 'ALL DATA', 'errNeg': -0.23513513513513518, 'errPos': 0.2666666666666667, 'FIXED ACIDITY': 7.9, 'predictedYSmooth': 5.781896551724138, 'groupByVarName': 'ALL DATA'}, {'groupByValue': 'ALL DATA', 'errNeg': -0.24130434782608684, 'errPos': 0.24883720930232545, 'FIXED ACIDITY': 8.0, 'predictedYSmooth': 5.791803278688523, 'groupByVarName': 'ALL DATA'}, {'groupByValue': 'ALL DATA', 'errNeg': -0.2724137931034482, 'errPos': 0.24583333333333313, 'FIXED ACIDITY': 8.1, 'predictedYSmooth': 5.743902439024391, 'groupByVarName': 'ALL DATA'}, {'groupByValue': 'ALL DATA', 'errNeg': -0.22432432432432425, 'errPos': 0.2064516129032256, 'FIXED ACIDITY': 8.2, 'predictedYSmooth': 5.743564356435643, 'groupByVarName': 'ALL DATA'}, {'groupByValue': 'ALL DATA', 'errNeg': -0.23928571428571413, 'errPos': 0.3799999999999999, 'FIXED ACIDITY': 8.3, 'predictedYSmooth': 5.594565217391303, 'groupByVarName': 'ALL DATA'}, {'groupByValue': 'ALL DATA', 'errNeg': -0.24666666666666667, 'errPos': 0.2499999999999999, 'FIXED ACIDITY': 8.4, 'predictedYSmooth': 5.586885245901642, 'groupByVarName': 'ALL DATA'}, {'groupByValue': 'ALL DATA', 'errNeg': -0.18888888888888872, 'errPos': 0.3999999999999998, 'FIXED ACIDITY': 8.5, 'predictedYSmooth': 5.701960784313726, 'groupByVarName': 'ALL DATA'}, {'groupByValue': 'ALL DATA', 'errNeg': -0.2649999999999999, 'errPos': 0.3047619047619047, 'FIXED ACIDITY': 8.6, 'predictedYSmooth': 5.482692307692305, 'groupByVarName': 'ALL DATA'}, {'groupByValue': 'ALL DATA', 'errNeg': -0.22424242424242408, 'errPos': 0.24333333333333318, 'FIXED ACIDITY': 8.8, 'predictedYSmooth': 5.625274725274725, 'groupByVarName': 'ALL DATA'}, {'groupByValue': 'ALL DATA', 'errNeg': -0.21818181818181814, 'errPos': 0.19999999999999984, 'FIXED ACIDITY': 8.9, 'predictedYSmooth': 5.751020408163265, 'groupByVarName': 'ALL DATA'}, {'groupByValue': 'ALL DATA', 'errNeg': -0.23636363636363625, 'errPos': 0.2642857142857141, 'FIXED ACIDITY': 9.0, 'predictedYSmooth': 5.490697674418605, 'groupByVarName': 'ALL DATA'}, {'groupByValue': 'ALL DATA', 'errNeg': -0.31904761904761897, 'errPos': 0.2964285714285712, 'FIXED ACIDITY': 9.2, 'predictedYSmooth': 5.675, 'groupByVarName': 'ALL DATA'}, {'groupByValue': 'ALL DATA', 'errNeg': -0.2999999999999998, 'errPos': 0.35769230769230764, 'FIXED ACIDITY': 9.4, 'predictedYSmooth': 5.647169811320754, 'groupByVarName': 'ALL DATA'}, {'groupByValue': 'ALL DATA', 'errNeg': -0.21199999999999997, 'errPos': 0.2269230769230768, 'FIXED ACIDITY': 9.8, 'predictedYSmooth': 5.575675675675677, 'groupByVarName': 'ALL DATA'}, {'groupByValue': 'ALL DATA', 'errNeg': -0.32499999999999996, 'errPos': 0.20952380952380942, 'FIXED ACIDITY': 10.0, 'predictedYSmooth': 5.54074074074074, 'groupByVarName': 'ALL DATA'}, {'groupByValue': 'ALL DATA', 'errNeg': -0.20571428571428557, 'errPos': 0.32666666666666644, 'FIXED ACIDITY': 10.5, 'predictedYSmooth': 5.981578947368422, 'groupByVarName': 'ALL DATA'}, {'groupByValue': 'ALL DATA', 'errNeg': -0.22857142857142843, 'errPos': 0.26842105263157884, 'FIXED ACIDITY': 11.1, 'predictedYSmooth': 5.8339285714285705, 'groupByVarName': 'ALL DATA'}, {'groupByValue': 'ALL DATA', 'errNeg': -0.25333333333333324, 'errPos': 0.26874999999999993, 'FIXED ACIDITY': 12.0, 'predictedYSmooth': 5.911764705882353, 'groupByVarName': 'ALL DATA'}, {'groupByValue': 'ALL DATA', 'errNeg': -0.34999999999999987, 'errPos': 0.232142857142857, 'FIXED ACIDITY': 15.9, 'predictedYSmooth': 5.803333333333333, 'groupByVarName': 'ALL DATA'}]}]\n",
      "[{'Type': 'Categorical', 'Data': [{'groupByValue': 'ALL DATA', 'AC': 'High', 'predictedYSmooth': 6.567488262910802, 'errPos': 0.2693750000000001, 'errNeg': -0.27523809523809517, 'groupByVarName': 'ALL DATA'}, {'groupByValue': 'ALL DATA', 'AC': 'Low', 'predictedYSmooth': 5.464124293785317, 'errPos': 0.2333333333333316, 'errNeg': -0.2337772397094413, 'groupByVarName': 'ALL DATA'}, {'groupByValue': 'ALL DATA', 'AC': 'Medium', 'predictedYSmooth': 5.961642374688939, 'errPos': 0.27505070993914704, 'errNeg': -0.2551411290322562, 'groupByVarName': 'ALL DATA'}]}]\n"
     ]
    },
    {
     "name": "stdout",
     "output_type": "stream",
     "text": [
      "[{'Type': 'Continuous', 'Data': [{'groupByValue': 'ALL DATA', 'errNeg': -0.29999999999999993, 'errPos': 0.271875, 'predictedYSmooth': 6.00722891566265, 'SULPHATES': 0.3, 'groupByVarName': 'ALL DATA'}, {'groupByValue': 'ALL DATA', 'errNeg': -0.23333333333333325, 'errPos': 0.31142857142857144, 'predictedYSmooth': 6.050561797752809, 'SULPHATES': 0.32, 'groupByVarName': 'ALL DATA'}, {'groupByValue': 'ALL DATA', 'errNeg': -0.2863636363636363, 'errPos': 0.2937499999999999, 'predictedYSmooth': 6.173333333333334, 'SULPHATES': 0.33, 'groupByVarName': 'ALL DATA'}, {'groupByValue': 'ALL DATA', 'errNeg': -0.25862068965517243, 'errPos': 0.35294117647058826, 'predictedYSmooth': 5.875000000000001, 'SULPHATES': 0.34, 'groupByVarName': 'ALL DATA'}, {'groupByValue': 'ALL DATA', 'errNeg': -0.20999999999999988, 'errPos': 0.33999999999999997, 'predictedYSmooth': 5.7341176470588255, 'SULPHATES': 0.35, 'groupByVarName': 'ALL DATA'}, {'groupByValue': 'ALL DATA', 'errNeg': -0.291111111111111, 'errPos': 0.29615384615384605, 'predictedYSmooth': 5.879999999999999, 'SULPHATES': 0.36, 'groupByVarName': 'ALL DATA'}, {'groupByValue': 'ALL DATA', 'errNeg': -0.2942857142857144, 'errPos': 0.31956521739130433, 'predictedYSmooth': 5.880916030534353, 'SULPHATES': 0.37, 'groupByVarName': 'ALL DATA'}, {'groupByValue': 'ALL DATA', 'errNeg': -0.25076923076923063, 'errPos': 0.24626865671641782, 'predictedYSmooth': 5.940186915887854, 'SULPHATES': 0.38, 'groupByVarName': 'ALL DATA'}, {'groupByValue': 'ALL DATA', 'errNeg': -0.2579999999999999, 'errPos': 0.2943396226415094, 'predictedYSmooth': 5.94076433121019, 'SULPHATES': 0.39, 'groupByVarName': 'ALL DATA'}, {'groupByValue': 'ALL DATA', 'errNeg': -0.2421874999999998, 'errPos': 0.2855072463768115, 'predictedYSmooth': 5.890697674418606, 'SULPHATES': 0.4, 'groupByVarName': 'ALL DATA'}, {'groupByValue': 'ALL DATA', 'errNeg': -0.20285714285714274, 'errPos': 0.23269230769230762, 'predictedYSmooth': 6.014388489208635, 'SULPHATES': 0.41, 'groupByVarName': 'ALL DATA'}, {'groupByValue': 'ALL DATA', 'errNeg': -0.2411764705882351, 'errPos': 0.25588235294117634, 'predictedYSmooth': 5.844623655913981, 'SULPHATES': 0.42, 'groupByVarName': 'ALL DATA'}, {'groupByValue': 'ALL DATA', 'errNeg': -0.1852459016393441, 'errPos': 0.2854545454545453, 'predictedYSmooth': 5.842603550295857, 'SULPHATES': 0.43, 'groupByVarName': 'ALL DATA'}, {'groupByValue': 'ALL DATA', 'errNeg': -0.26666666666666644, 'errPos': 0.22891566265060237, 'predictedYSmooth': 5.827586206896549, 'SULPHATES': 0.44, 'groupByVarName': 'ALL DATA'}, {'groupByValue': 'ALL DATA', 'errNeg': -0.18970588235294103, 'errPos': 0.2391304347826086, 'predictedYSmooth': 5.661052631578947, 'SULPHATES': 0.45, 'groupByVarName': 'ALL DATA'}, {'groupByValue': 'ALL DATA', 'errNeg': -0.2625, 'errPos': 0.2472972972972971, 'predictedYSmooth': 5.734156378600823, 'SULPHATES': 0.46, 'groupByVarName': 'ALL DATA'}, {'groupByValue': 'ALL DATA', 'errNeg': -0.23859649122806995, 'errPos': 0.2173333333333332, 'predictedYSmooth': 5.616230366492144, 'SULPHATES': 0.47, 'groupByVarName': 'ALL DATA'}, {'groupByValue': 'ALL DATA', 'errNeg': -0.25737704918032767, 'errPos': 0.23199999999999987, 'predictedYSmooth': 5.695673076923076, 'SULPHATES': 0.48, 'groupByVarName': 'ALL DATA'}, {'groupByValue': 'ALL DATA', 'errNeg': -0.2836363636363637, 'errPos': 0.2214285714285712, 'predictedYSmooth': 5.735532994923858, 'SULPHATES': 0.49, 'groupByVarName': 'ALL DATA'}, {'groupByValue': 'ALL DATA', 'errNeg': -0.27023809523809517, 'errPos': 0.2632911392405064, 'predictedYSmooth': 5.667028985507244, 'SULPHATES': 0.5, 'groupByVarName': 'ALL DATA'}, {'groupByValue': 'ALL DATA', 'errNeg': -0.26607142857142857, 'errPos': 0.2576271186440676, 'predictedYSmooth': 5.706626506024097, 'SULPHATES': 0.51, 'groupByVarName': 'ALL DATA'}, {'groupByValue': 'ALL DATA', 'errNeg': -0.20317460317460304, 'errPos': 0.2538461538461537, 'predictedYSmooth': 5.599507389162565, 'SULPHATES': 0.52, 'groupByVarName': 'ALL DATA'}, {'groupByValue': 'ALL DATA', 'errNeg': -0.23137254901960774, 'errPos': 0.2345454545454544, 'predictedYSmooth': 5.7424731182795705, 'SULPHATES': 0.53, 'groupByVarName': 'ALL DATA'}, {'groupByValue': 'ALL DATA', 'errNeg': -0.24177215189873402, 'errPos': 0.2317073170731707, 'predictedYSmooth': 5.710212765957446, 'SULPHATES': 0.54, 'groupByVarName': 'ALL DATA'}, {'groupByValue': 'ALL DATA', 'errNeg': -0.24107142857142852, 'errPos': 0.2724137931034482, 'predictedYSmooth': 5.712499999999998, 'SULPHATES': 0.55, 'groupByVarName': 'ALL DATA'}, {'groupByValue': 'ALL DATA', 'errNeg': -0.19137931034482739, 'errPos': 0.22096774193548369, 'predictedYSmooth': 5.76547619047619, 'SULPHATES': 0.56, 'groupByVarName': 'ALL DATA'}, {'groupByValue': 'ALL DATA', 'errNeg': -0.27391304347826084, 'errPos': 0.29019607843137235, 'predictedYSmooth': 5.631884057971016, 'SULPHATES': 0.57, 'groupByVarName': 'ALL DATA'}, {'groupByValue': 'ALL DATA', 'errNeg': -0.2245901639344261, 'errPos': 0.2375, 'predictedYSmooth': 5.823952095808383, 'SULPHATES': 0.58, 'groupByVarName': 'ALL DATA'}, {'groupByValue': 'ALL DATA', 'errNeg': -0.2475409836065572, 'errPos': 0.2228571428571427, 'predictedYSmooth': 5.991216216216215, 'SULPHATES': 0.59, 'groupByVarName': 'ALL DATA'}, {'groupByValue': 'ALL DATA', 'errNeg': -0.25616438356164367, 'errPos': 0.23913043478260862, 'predictedYSmooth': 5.810828025477706, 'SULPHATES': 0.6, 'groupByVarName': 'ALL DATA'}, {'groupByValue': 'ALL DATA', 'errNeg': -0.19354838709677402, 'errPos': 0.2281249999999999, 'predictedYSmooth': 5.681111111111108, 'SULPHATES': 0.61, 'groupByVarName': 'ALL DATA'}, {'groupByValue': 'ALL DATA', 'errNeg': -0.2604651162790697, 'errPos': 0.27999999999999986, 'predictedYSmooth': 5.6806201550387625, 'SULPHATES': 0.62, 'groupByVarName': 'ALL DATA'}, {'groupByValue': 'ALL DATA', 'errNeg': -0.3559999999999999, 'errPos': 0.3888888888888887, 'predictedYSmooth': 5.761458333333334, 'SULPHATES': 0.63, 'groupByVarName': 'ALL DATA'}, {'groupByValue': 'ALL DATA', 'errNeg': -0.3047619047619047, 'errPos': 0.22894736842105248, 'predictedYSmooth': 5.830973451327435, 'SULPHATES': 0.64, 'groupByVarName': 'ALL DATA'}, {'groupByValue': 'ALL DATA', 'errNeg': -0.19999999999999987, 'errPos': 0.2559999999999999, 'predictedYSmooth': 5.9739130434782615, 'SULPHATES': 0.65, 'groupByVarName': 'ALL DATA'}, {'groupByValue': 'ALL DATA', 'errNeg': -0.2454545454545454, 'errPos': 0.229032258064516, 'predictedYSmooth': 5.842307692307691, 'SULPHATES': 0.66, 'groupByVarName': 'ALL DATA'}, {'groupByValue': 'ALL DATA', 'errNeg': -0.16818181818181802, 'errPos': 0.21739130434782597, 'predictedYSmooth': 5.708450704225353, 'SULPHATES': 0.67, 'groupByVarName': 'ALL DATA'}, {'groupByValue': 'ALL DATA', 'errNeg': -0.32285714285714273, 'errPos': 0.2761904761904762, 'predictedYSmooth': 5.791139240506328, 'SULPHATES': 0.68, 'groupByVarName': 'ALL DATA'}, {'groupByValue': 'ALL DATA', 'errNeg': -0.1999999999999999, 'errPos': 0.23333333333333314, 'predictedYSmooth': 6.2264150943396235, 'SULPHATES': 0.69, 'groupByVarName': 'ALL DATA'}, {'groupByValue': 'ALL DATA', 'errNeg': -0.2749999999999998, 'errPos': 0.2666666666666666, 'predictedYSmooth': 5.808333333333334, 'SULPHATES': 0.7, 'groupByVarName': 'ALL DATA'}, {'groupByValue': 'ALL DATA', 'errNeg': -0.26333333333333325, 'errPos': 0.3233333333333333, 'predictedYSmooth': 6.0076190476190465, 'SULPHATES': 0.72, 'groupByVarName': 'ALL DATA'}, {'groupByValue': 'ALL DATA', 'errNeg': -0.30000000000000004, 'errPos': 0.2928571428571428, 'predictedYSmooth': 6.063157894736841, 'SULPHATES': 0.73, 'groupByVarName': 'ALL DATA'}, {'groupByValue': 'ALL DATA', 'errNeg': -0.28378378378378366, 'errPos': 0.27096774193548373, 'predictedYSmooth': 6.090804597701149, 'SULPHATES': 0.75, 'groupByVarName': 'ALL DATA'}, {'groupByValue': 'ALL DATA', 'errNeg': -0.2736842105263157, 'errPos': 0.18823529411764703, 'predictedYSmooth': 6.159090909090907, 'SULPHATES': 0.76, 'groupByVarName': 'ALL DATA'}, {'groupByValue': 'ALL DATA', 'errNeg': -0.21666666666666648, 'errPos': 0.2416666666666665, 'predictedYSmooth': 6.066666666666666, 'SULPHATES': 0.78, 'groupByVarName': 'ALL DATA'}, {'groupByValue': 'ALL DATA', 'errNeg': -0.34999999999999976, 'errPos': 0.2857142857142856, 'predictedYSmooth': 6.094117647058824, 'SULPHATES': 0.79, 'groupByVarName': 'ALL DATA'}, {'groupByValue': 'ALL DATA', 'errNeg': -0.325, 'errPos': 0.19999999999999987, 'predictedYSmooth': 6.151898734177216, 'SULPHATES': 0.82, 'groupByVarName': 'ALL DATA'}, {'groupByValue': 'ALL DATA', 'errNeg': -0.2249999999999998, 'errPos': 0.23846153846153845, 'predictedYSmooth': 6.401960784313724, 'SULPHATES': 0.85, 'groupByVarName': 'ALL DATA'}, {'groupByValue': 'ALL DATA', 'errNeg': -0.18421052631578938, 'errPos': 0.31481481481481466, 'predictedYSmooth': 6.2307692307692335, 'SULPHATES': 0.9, 'groupByVarName': 'ALL DATA'}, {'groupByValue': 'ALL DATA', 'errNeg': -0.2590909090909091, 'errPos': 0.18181818181818166, 'predictedYSmooth': 6.068253968253971, 'SULPHATES': 0.99, 'groupByVarName': 'ALL DATA'}, {'groupByValue': 'ALL DATA', 'errNeg': -0.35454545454545444, 'errPos': 0.19583333333333322, 'predictedYSmooth': 5.585714285714285, 'SULPHATES': 2.0, 'groupByVarName': 'ALL DATA'}]}]\n"
     ]
    },
    {
     "name": "stdout",
     "output_type": "stream",
     "text": [
      "[{'Type': 'Continuous', 'Data': [{'groupByValue': 'ALL DATA', 'errNeg': -0.21999999999999986, 'errPos': 0.2562499999999998, 'predictedYSmooth': 6.374647887323944, 'VOLATILE ACIDITY': 0.12, 'groupByVarName': 'ALL DATA'}, {'groupByValue': 'ALL DATA', 'errNeg': -0.26499999999999985, 'errPos': 0.26578947368421035, 'predictedYSmooth': 6.091346153846155, 'VOLATILE ACIDITY': 0.14, 'groupByVarName': 'ALL DATA'}, {'groupByValue': 'ALL DATA', 'errNeg': -0.276470588235294, 'errPos': 0.27419354838709675, 'predictedYSmooth': 6.26195652173913, 'VOLATILE ACIDITY': 0.15, 'groupByVarName': 'ALL DATA'}, {'groupByValue': 'ALL DATA', 'errNeg': -0.2288888888888887, 'errPos': 0.2794871794871794, 'predictedYSmooth': 6.145945945945945, 'VOLATILE ACIDITY': 0.16, 'groupByVarName': 'ALL DATA'}, {'groupByValue': 'ALL DATA', 'errNeg': -0.24791666666666648, 'errPos': 0.27441860465116275, 'predictedYSmooth': 6.097887323943662, 'VOLATILE ACIDITY': 0.17, 'groupByVarName': 'ALL DATA'}, {'groupByValue': 'ALL DATA', 'errNeg': -0.25441176470588234, 'errPos': 0.2561403508771929, 'predictedYSmooth': 6.118617021276595, 'VOLATILE ACIDITY': 0.18, 'groupByVarName': 'ALL DATA'}, {'groupByValue': 'ALL DATA', 'errNeg': -0.2449999999999998, 'errPos': 0.23461538461538448, 'predictedYSmooth': 6.17231638418079, 'VOLATILE ACIDITY': 0.19, 'groupByVarName': 'ALL DATA'}, {'groupByValue': 'ALL DATA', 'errNeg': -0.23142857142857137, 'errPos': 0.30374999999999985, 'predictedYSmooth': 6.037327188940091, 'VOLATILE ACIDITY': 0.2, 'groupByVarName': 'ALL DATA'}, {'groupByValue': 'ALL DATA', 'errNeg': -0.2716216216216216, 'errPos': 0.22205882352941161, 'predictedYSmooth': 5.930348258706469, 'VOLATILE ACIDITY': 0.21, 'groupByVarName': 'ALL DATA'}, {'groupByValue': 'ALL DATA', 'errNeg': -0.23249999999999985, 'errPos': 0.26410256410256416, 'predictedYSmooth': 6.042372881355928, 'VOLATILE ACIDITY': 0.22, 'groupByVarName': 'ALL DATA'}, {'groupByValue': 'ALL DATA', 'errNeg': -0.22674418604651156, 'errPos': 0.28395061728395077, 'predictedYSmooth': 5.908888888888887, 'VOLATILE ACIDITY': 0.23, 'groupByVarName': 'ALL DATA'}, {'groupByValue': 'ALL DATA', 'errNeg': -0.2695652173913043, 'errPos': 0.25319148936170205, 'predictedYSmooth': 5.9037037037037035, 'VOLATILE ACIDITY': 0.24, 'groupByVarName': 'ALL DATA'}, {'groupByValue': 'ALL DATA', 'errNeg': -0.22222222222222213, 'errPos': 0.20759493670886064, 'predictedYSmooth': 5.865289256198349, 'VOLATILE ACIDITY': 0.25, 'groupByVarName': 'ALL DATA'}, {'groupByValue': 'ALL DATA', 'errNeg': -0.27263157894736834, 'errPos': 0.24646464646464641, 'predictedYSmooth': 5.821428571428571, 'VOLATILE ACIDITY': 0.26, 'groupByVarName': 'ALL DATA'}, {'groupByValue': 'ALL DATA', 'errNeg': -0.2768115942028986, 'errPos': 0.20439560439560425, 'predictedYSmooth': 5.736286919831219, 'VOLATILE ACIDITY': 0.27, 'groupByVarName': 'ALL DATA'}, {'groupByValue': 'ALL DATA', 'errNeg': -0.2562499999999999, 'errPos': 0.2968421052631577, 'predictedYSmooth': 5.874048442906577, 'VOLATILE ACIDITY': 0.28, 'groupByVarName': 'ALL DATA'}, {'groupByValue': 'ALL DATA', 'errNeg': -0.24883720930232553, 'errPos': 0.2420289855072463, 'predictedYSmooth': 5.839779005524863, 'VOLATILE ACIDITY': 0.29, 'groupByVarName': 'ALL DATA'}, {'groupByValue': 'ALL DATA', 'errNeg': -0.26417910447761195, 'errPos': 0.2410958904109587, 'predictedYSmooth': 5.930733944954126, 'VOLATILE ACIDITY': 0.3, 'groupByVarName': 'ALL DATA'}, {'groupByValue': 'ALL DATA', 'errNeg': -0.16666666666666666, 'errPos': 0.1499999999999999, 'predictedYSmooth': 5.633333333333333, 'VOLATILE ACIDITY': 0.305, 'groupByVarName': 'ALL DATA'}, {'groupByValue': 'ALL DATA', 'errNeg': -0.27999999999999997, 'errPos': 0.25571428571428567, 'predictedYSmooth': 5.761235955056183, 'VOLATILE ACIDITY': 0.31, 'groupByVarName': 'ALL DATA'}, {'groupByValue': 'ALL DATA', 'errNeg': -0.21805555555555545, 'errPos': 0.295890410958904, 'predictedYSmooth': 5.838388625592415, 'VOLATILE ACIDITY': 0.32, 'groupByVarName': 'ALL DATA'}, {'groupByValue': 'ALL DATA', 'errNeg': -0.33589743589743587, 'errPos': 0.2770833333333332, 'predictedYSmooth': 5.885897435897438, 'VOLATILE ACIDITY': 0.33, 'groupByVarName': 'ALL DATA'}, {'groupByValue': 'ALL DATA', 'errNeg': -0.22592592592592584, 'errPos': 0.22037037037037027, 'predictedYSmooth': 5.742441860465118, 'VOLATILE ACIDITY': 0.34, 'groupByVarName': 'ALL DATA'}, {'groupByValue': 'ALL DATA', 'errNeg': -0.22826086956521738, 'errPos': 0.23809523809523792, 'predictedYSmooth': 5.764957264957268, 'VOLATILE ACIDITY': 0.35, 'groupByVarName': 'ALL DATA'}, {'groupByValue': 'ALL DATA', 'errNeg': -0.3045454545454545, 'errPos': 0.22222222222222202, 'predictedYSmooth': 5.990209790209793, 'VOLATILE ACIDITY': 0.36, 'groupByVarName': 'ALL DATA'}, {'groupByValue': 'ALL DATA', 'errNeg': -0.24285714285714274, 'errPos': 0.2472222222222221, 'predictedYSmooth': 5.929032258064517, 'VOLATILE ACIDITY': 0.37, 'groupByVarName': 'ALL DATA'}, {'groupByValue': 'ALL DATA', 'errNeg': -0.2571428571428571, 'errPos': 0.23888888888888882, 'predictedYSmooth': 5.714000000000002, 'VOLATILE ACIDITY': 0.38, 'groupByVarName': 'ALL DATA'}, {'groupByValue': 'ALL DATA', 'errNeg': -0.21142857142857122, 'errPos': 0.3175, 'predictedYSmooth': 5.737755102040814, 'VOLATILE ACIDITY': 0.39, 'groupByVarName': 'ALL DATA'}, {'groupByValue': 'ALL DATA', 'errNeg': -0.23157894736842097, 'errPos': 0.26799999999999996, 'predictedYSmooth': 5.8089999999999975, 'VOLATILE ACIDITY': 0.4, 'groupByVarName': 'ALL DATA'}, {'groupByValue': 'ALL DATA', 'errNeg': -0.2849999999999999, 'errPos': 0.26799999999999985, 'predictedYSmooth': 5.749999999999999, 'VOLATILE ACIDITY': 0.41, 'groupByVarName': 'ALL DATA'}, {'groupByValue': 'ALL DATA', 'errNeg': -0.24827586206896538, 'errPos': 0.21599999999999986, 'predictedYSmooth': 5.854054054054055, 'VOLATILE ACIDITY': 0.42, 'groupByVarName': 'ALL DATA'}, {'groupByValue': 'ALL DATA', 'errNeg': -0.2111111111111109, 'errPos': 0.24374999999999986, 'predictedYSmooth': 5.588749999999998, 'VOLATILE ACIDITY': 0.43, 'groupByVarName': 'ALL DATA'}, {'groupByValue': 'ALL DATA', 'errNeg': -0.2533333333333333, 'errPos': 0.268181818181818, 'predictedYSmooth': 5.97605633802817, 'VOLATILE ACIDITY': 0.44, 'groupByVarName': 'ALL DATA'}, {'groupByValue': 'ALL DATA', 'errNeg': -0.27999999999999997, 'errPos': 0.25238095238095226, 'predictedYSmooth': 5.668627450980393, 'VOLATILE ACIDITY': 0.45, 'groupByVarName': 'ALL DATA'}, {'groupByValue': 'ALL DATA', 'errNeg': -0.24999999999999986, 'errPos': 0.2708333333333333, 'predictedYSmooth': 5.761904761904759, 'VOLATILE ACIDITY': 0.46, 'groupByVarName': 'ALL DATA'}, {'groupByValue': 'ALL DATA', 'errNeg': -0.17499999999999993, 'errPos': 0.2699999999999999, 'predictedYSmooth': 5.591666666666668, 'VOLATILE ACIDITY': 0.47, 'groupByVarName': 'ALL DATA'}, {'groupByValue': 'ALL DATA', 'errNeg': -0.25151515151515136, 'errPos': 0.2777777777777777, 'predictedYSmooth': 5.670408163265308, 'VOLATILE ACIDITY': 0.49, 'groupByVarName': 'ALL DATA'}, {'groupByValue': 'ALL DATA', 'errNeg': -0.27368421052631564, 'errPos': 0.17916666666666647, 'predictedYSmooth': 5.533870967741936, 'VOLATILE ACIDITY': 0.5, 'groupByVarName': 'ALL DATA'}, {'groupByValue': 'ALL DATA', 'errNeg': -0.1874999999999999, 'errPos': 0.19999999999999996, 'predictedYSmooth': 5.802941176470589, 'VOLATILE ACIDITY': 0.51, 'groupByVarName': 'ALL DATA'}, {'groupByValue': 'ALL DATA', 'errNeg': -0.25757575757575746, 'errPos': 0.2521739130434782, 'predictedYSmooth': 5.753750000000001, 'VOLATILE ACIDITY': 0.53, 'groupByVarName': 'ALL DATA'}, {'groupByValue': 'ALL DATA', 'errNeg': -0.19230769230769204, 'errPos': 0.2333333333333332, 'predictedYSmooth': 5.5024390243902435, 'VOLATILE ACIDITY': 0.54, 'groupByVarName': 'ALL DATA'}, {'groupByValue': 'ALL DATA', 'errNeg': -0.22399999999999992, 'errPos': 0.277142857142857, 'predictedYSmooth': 5.46, 'VOLATILE ACIDITY': 0.56, 'groupByVarName': 'ALL DATA'}, {'groupByValue': 'ALL DATA', 'errNeg': -0.24444444444444433, 'errPos': 0.28275862068965507, 'predictedYSmooth': 5.600000000000001, 'VOLATILE ACIDITY': 0.58, 'groupByVarName': 'ALL DATA'}, {'groupByValue': 'ALL DATA', 'errNeg': -0.24444444444444446, 'errPos': 0.24166666666666667, 'predictedYSmooth': 5.406250000000001, 'VOLATILE ACIDITY': 0.59, 'groupByVarName': 'ALL DATA'}, {'groupByValue': 'ALL DATA', 'errNeg': -0.29999999999999993, 'errPos': 0.22499999999999984, 'predictedYSmooth': 5.271929824561403, 'VOLATILE ACIDITY': 0.6, 'groupByVarName': 'ALL DATA'}, {'groupByValue': 'ALL DATA', 'errNeg': -0.24736842105263154, 'errPos': 0.3307692307692307, 'predictedYSmooth': 5.327631578947367, 'VOLATILE ACIDITY': 0.62, 'groupByVarName': 'ALL DATA'}, {'groupByValue': 'ALL DATA', 'errNeg': -0.22307692307692298, 'errPos': 0.18666666666666654, 'predictedYSmooth': 5.369767441860465, 'VOLATILE ACIDITY': 0.635, 'groupByVarName': 'ALL DATA'}, {'groupByValue': 'ALL DATA', 'errNeg': -0.2842105263157894, 'errPos': 0.2624999999999999, 'predictedYSmooth': 5.3578125, 'VOLATILE ACIDITY': 0.65, 'groupByVarName': 'ALL DATA'}, {'groupByValue': 'ALL DATA', 'errNeg': -0.24, 'errPos': 0.23870967741935473, 'predictedYSmooth': 5.445070422535211, 'VOLATILE ACIDITY': 0.67, 'groupByVarName': 'ALL DATA'}, {'groupByValue': 'ALL DATA', 'errNeg': -0.19999999999999982, 'errPos': 0.24210526315789468, 'predictedYSmooth': 5.286153846153846, 'VOLATILE ACIDITY': 0.695, 'groupByVarName': 'ALL DATA'}, {'groupByValue': 'ALL DATA', 'errNeg': -0.209090909090909, 'errPos': 0.21578947368421036, 'predictedYSmooth': 5.261904761904763, 'VOLATILE ACIDITY': 0.735, 'groupByVarName': 'ALL DATA'}, {'groupByValue': 'ALL DATA', 'errNeg': -0.26315789473684204, 'errPos': 0.24210526315789452, 'predictedYSmooth': 5.3100000000000005, 'VOLATILE ACIDITY': 0.78, 'groupByVarName': 'ALL DATA'}, {'groupByValue': 'ALL DATA', 'errNeg': -0.18571428571428558, 'errPos': 0.4272727272727273, 'predictedYSmooth': 5.381818181818182, 'VOLATILE ACIDITY': 0.88, 'groupByVarName': 'ALL DATA'}, {'groupByValue': 'ALL DATA', 'errNeg': -0.3631578947368421, 'errPos': 0.3142857142857142, 'predictedYSmooth': 4.853225806451611, 'VOLATILE ACIDITY': 1.58, 'groupByVarName': 'ALL DATA'}]}]\n"
     ]
    },
    {
     "name": "stdout",
     "output_type": "stream",
     "text": [
      "[{'Type': 'Continuous', 'Data': [{'groupByValue': 'ALL DATA', 'errNeg': -0.27599999999999997, 'errPos': 0.2828571428571427, 'predictedYSmooth': 5.453333333333333, 'RESIDUAL SUGAR': 0.9, 'groupByVarName': 'ALL DATA'}, {'groupByValue': 'ALL DATA', 'errNeg': -0.2806451612903226, 'errPos': 0.24791666666666648, 'predictedYSmooth': 5.71340206185567, 'RESIDUAL SUGAR': 1.0, 'groupByVarName': 'ALL DATA'}, {'groupByValue': 'ALL DATA', 'errNeg': -0.2785714285714284, 'errPos': 0.26111111111111107, 'predictedYSmooth': 5.901360544217685, 'RESIDUAL SUGAR': 1.1, 'groupByVarName': 'ALL DATA'}, {'groupByValue': 'ALL DATA', 'errNeg': -0.2904761904761904, 'errPos': 0.30506329113924063, 'predictedYSmooth': 5.807070707070704, 'RESIDUAL SUGAR': 1.2, 'groupByVarName': 'ALL DATA'}, {'groupByValue': 'ALL DATA', 'errNeg': -0.09999999999999964, 'errPos': 0.20000000000000018, 'predictedYSmooth': 6.0, 'RESIDUAL SUGAR': 1.25, 'groupByVarName': 'ALL DATA'}, {'groupByValue': 'ALL DATA', 'errNeg': -0.2439999999999999, 'errPos': 0.24827586206896543, 'predictedYSmooth': 5.738157894736841, 'RESIDUAL SUGAR': 1.3, 'groupByVarName': 'ALL DATA'}, {'groupByValue': 'ALL DATA', 'errNeg': -0.240449438202247, 'errPos': 0.2629629629629628, 'predictedYSmooth': 5.854751131221721, 'RESIDUAL SUGAR': 1.4, 'groupByVarName': 'ALL DATA'}, {'groupByValue': 'ALL DATA', 'errNeg': -0.24153846153846137, 'errPos': 0.2951612903225805, 'predictedYSmooth': 5.861363636363637, 'RESIDUAL SUGAR': 1.5, 'groupByVarName': 'ALL DATA'}, {'groupByValue': 'ALL DATA', 'errNeg': -0.26410256410256405, 'errPos': 0.2636363636363637, 'predictedYSmooth': 5.806666666666666, 'RESIDUAL SUGAR': 1.6, 'groupByVarName': 'ALL DATA'}, {'groupByValue': 'ALL DATA', 'errNeg': -0.2918032786885244, 'errPos': 0.2524590163934425, 'predictedYSmooth': 5.858100558659217, 'RESIDUAL SUGAR': 1.7, 'groupByVarName': 'ALL DATA'}, {'groupByValue': 'ALL DATA', 'errNeg': -0.23678160919540214, 'errPos': 0.23218390804597683, 'predictedYSmooth': 5.8337662337662355, 'RESIDUAL SUGAR': 1.8, 'groupByVarName': 'ALL DATA'}, {'groupByValue': 'ALL DATA', 'errNeg': -0.22419354838709665, 'errPos': 0.2532258064516128, 'predictedYSmooth': 5.758659217877095, 'RESIDUAL SUGAR': 1.9, 'groupByVarName': 'ALL DATA'}, {'groupByValue': 'ALL DATA', 'errNeg': 'null', 'errPos': 0.1499999999999999, 'predictedYSmooth': 7.15, 'RESIDUAL SUGAR': 1.95, 'groupByVarName': 'ALL DATA'}, {'groupByValue': 'ALL DATA', 'errNeg': -0.25135135135135134, 'errPos': 0.25652173913043474, 'predictedYSmooth': 5.719148936170207, 'RESIDUAL SUGAR': 2.0, 'groupByVarName': 'ALL DATA'}, {'groupByValue': 'ALL DATA', 'errNeg': -0.22586206896551703, 'errPos': 0.2788732394366196, 'predictedYSmooth': 5.877472527472531, 'RESIDUAL SUGAR': 2.1, 'groupByVarName': 'ALL DATA'}, {'groupByValue': 'ALL DATA', 'errNeg': -0.3216666666666665, 'errPos': 0.252112676056338, 'predictedYSmooth': 5.80740740740741, 'RESIDUAL SUGAR': 2.2, 'groupByVarName': 'ALL DATA'}, {'groupByValue': 'ALL DATA', 'errNeg': -0.23269230769230764, 'errPos': 0.23409090909090893, 'predictedYSmooth': 5.767532467532468, 'RESIDUAL SUGAR': 2.3, 'groupByVarName': 'ALL DATA'}, {'groupByValue': 'ALL DATA', 'errNeg': -0.2807017543859649, 'errPos': 0.20555555555555538, 'predictedYSmooth': 5.95658914728682, 'RESIDUAL SUGAR': 2.4, 'groupByVarName': 'ALL DATA'}, {'groupByValue': 'ALL DATA', 'errNeg': -0.23124999999999987, 'errPos': 0.22820512820512812, 'predictedYSmooth': 5.748387096774195, 'RESIDUAL SUGAR': 2.5, 'groupByVarName': 'ALL DATA'}, {'groupByValue': 'ALL DATA', 'errNeg': -0.2212121212121211, 'errPos': 0.2682926829268292, 'predictedYSmooth': 5.776106194690266, 'RESIDUAL SUGAR': 2.6, 'groupByVarName': 'ALL DATA'}, {'groupByValue': 'ALL DATA', 'errNeg': -0.23214285714285712, 'errPos': 0.2279999999999999, 'predictedYSmooth': 6.053164556962026, 'RESIDUAL SUGAR': 2.7, 'groupByVarName': 'ALL DATA'}, {'groupByValue': 'ALL DATA', 'errNeg': -0.26206896551724124, 'errPos': 0.1833333333333332, 'predictedYSmooth': 5.892941176470588, 'RESIDUAL SUGAR': 2.8, 'groupByVarName': 'ALL DATA'}, {'groupByValue': 'ALL DATA', 'errNeg': -0.29374999999999984, 'errPos': 0.2549999999999999, 'predictedYSmooth': 5.890196078431373, 'RESIDUAL SUGAR': 2.9, 'groupByVarName': 'ALL DATA'}, {'groupByValue': 'ALL DATA', 'errNeg': -0.22142857142857147, 'errPos': 0.23749999999999988, 'predictedYSmooth': 5.760465116279072, 'RESIDUAL SUGAR': 3.0, 'groupByVarName': 'ALL DATA'}, {'groupByValue': 'ALL DATA', 'errNeg': -0.20384615384615382, 'errPos': 0.29615384615384605, 'predictedYSmooth': 6.064705882352941, 'RESIDUAL SUGAR': 3.2, 'groupByVarName': 'ALL DATA'}, {'groupByValue': 'ALL DATA', 'errNeg': -0.20769230769230765, 'errPos': 0.2499999999999999, 'predictedYSmooth': 5.722580645161289, 'RESIDUAL SUGAR': 3.4, 'groupByVarName': 'ALL DATA'}, {'groupByValue': 'ALL DATA', 'errNeg': -0.2307692307692306, 'errPos': 0.30588235294117644, 'predictedYSmooth': 6.003125, 'RESIDUAL SUGAR': 3.6, 'groupByVarName': 'ALL DATA'}, {'groupByValue': 'ALL DATA', 'errNeg': -0.2611111111111111, 'errPos': 0.23076923076923064, 'predictedYSmooth': 6.12857142857143, 'RESIDUAL SUGAR': 3.8, 'groupByVarName': 'ALL DATA'}, {'groupByValue': 'ALL DATA', 'errNeg': -0.226470588235294, 'errPos': 0.32068965517241377, 'predictedYSmooth': 6.104878048780488, 'RESIDUAL SUGAR': 4.1, 'groupByVarName': 'ALL DATA'}, {'groupByValue': 'ALL DATA', 'errNeg': -0.3043478260869563, 'errPos': 0.35714285714285704, 'predictedYSmooth': 6.0681818181818175, 'RESIDUAL SUGAR': 4.3, 'groupByVarName': 'ALL DATA'}, {'groupByValue': 'ALL DATA', 'errNeg': -0.24499999999999994, 'errPos': 0.26086956521739124, 'predictedYSmooth': 5.8999999999999995, 'RESIDUAL SUGAR': 4.5, 'groupByVarName': 'ALL DATA'}, {'groupByValue': 'ALL DATA', 'errNeg': -0.2521739130434782, 'errPos': 0.33999999999999986, 'predictedYSmooth': 5.98, 'RESIDUAL SUGAR': 4.65, 'groupByVarName': 'ALL DATA'}, {'groupByValue': 'ALL DATA', 'errNeg': -0.26551724137931026, 'errPos': 0.2818181818181818, 'predictedYSmooth': 6.138157894736841, 'RESIDUAL SUGAR': 4.8, 'groupByVarName': 'ALL DATA'}, {'groupByValue': 'ALL DATA', 'errNeg': -0.2727272727272727, 'errPos': 0.2580645161290321, 'predictedYSmooth': 6.100000000000001, 'RESIDUAL SUGAR': 5.0, 'groupByVarName': 'ALL DATA'}, {'groupByValue': 'ALL DATA', 'errNeg': -0.26999999999999996, 'errPos': 0.27272727272727254, 'predictedYSmooth': 5.93529411764706, 'RESIDUAL SUGAR': 5.2, 'groupByVarName': 'ALL DATA'}, {'groupByValue': 'ALL DATA', 'errNeg': -0.3266666666666667, 'errPos': 0.2611111111111109, 'predictedYSmooth': 5.931914893617021, 'RESIDUAL SUGAR': 5.4, 'groupByVarName': 'ALL DATA'}, {'groupByValue': 'ALL DATA', 'errNeg': -0.29599999999999993, 'errPos': 0.4039999999999999, 'predictedYSmooth': 5.892207792207792, 'RESIDUAL SUGAR': 5.7, 'groupByVarName': 'ALL DATA'}, {'groupByValue': 'ALL DATA', 'errNeg': -0.26666666666666666, 'errPos': 0.23571428571428563, 'predictedYSmooth': 5.888235294117647, 'RESIDUAL SUGAR': 5.9, 'groupByVarName': 'ALL DATA'}, {'groupByValue': 'ALL DATA', 'errNeg': -0.325, 'errPos': 0.2624999999999999, 'predictedYSmooth': 6.037931034482759, 'RESIDUAL SUGAR': 6.2, 'groupByVarName': 'ALL DATA'}, {'groupByValue': 'ALL DATA', 'errNeg': -0.16923076923076905, 'errPos': 0.3066666666666666, 'predictedYSmooth': 5.8878048780487795, 'RESIDUAL SUGAR': 6.3, 'groupByVarName': 'ALL DATA'}, {'groupByValue': 'ALL DATA', 'errNeg': -0.24545454545454534, 'errPos': 0.29999999999999993, 'predictedYSmooth': 5.895312500000001, 'RESIDUAL SUGAR': 6.5, 'groupByVarName': 'ALL DATA'}, {'groupByValue': 'ALL DATA', 'errNeg': -0.19130434782608682, 'errPos': 0.20799999999999985, 'predictedYSmooth': 5.766153846153844, 'RESIDUAL SUGAR': 6.7, 'groupByVarName': 'ALL DATA'}, {'groupByValue': 'ALL DATA', 'errNeg': -0.2636363636363636, 'errPos': 0.21538461538461526, 'predictedYSmooth': 5.82840909090909, 'RESIDUAL SUGAR': 7.0, 'groupByVarName': 'ALL DATA'}, {'groupByValue': 'ALL DATA', 'errNeg': -0.28666666666666646, 'errPos': 0.24999999999999986, 'predictedYSmooth': 5.781578947368422, 'RESIDUAL SUGAR': 7.1, 'groupByVarName': 'ALL DATA'}, {'groupByValue': 'ALL DATA', 'errNeg': -0.2885714285714284, 'errPos': 0.12758620689655148, 'predictedYSmooth': 5.846808510638299, 'RESIDUAL SUGAR': 7.4, 'groupByVarName': 'ALL DATA'}, {'groupByValue': 'ALL DATA', 'errNeg': -0.2249999999999998, 'errPos': 0.20909090909090897, 'predictedYSmooth': 5.704918032786885, 'RESIDUAL SUGAR': 7.6, 'groupByVarName': 'ALL DATA'}, {'groupByValue': 'ALL DATA', 'errNeg': -0.2136363636363635, 'errPos': 0.23571428571428563, 'predictedYSmooth': 5.618987341772153, 'RESIDUAL SUGAR': 7.8, 'groupByVarName': 'ALL DATA'}, {'groupByValue': 'ALL DATA', 'errNeg': -0.2499999999999999, 'errPos': 0.18571428571428544, 'predictedYSmooth': 5.619444444444444, 'RESIDUAL SUGAR': 7.9, 'groupByVarName': 'ALL DATA'}, {'groupByValue': 'ALL DATA', 'errNeg': -0.2352941176470587, 'errPos': 0.24615384615384603, 'predictedYSmooth': 5.727536231884059, 'RESIDUAL SUGAR': 8.1, 'groupByVarName': 'ALL DATA'}, {'groupByValue': 'ALL DATA', 'errNeg': -0.22727272727272718, 'errPos': 0.26190476190476175, 'predictedYSmooth': 5.691780821917811, 'RESIDUAL SUGAR': 8.3, 'groupByVarName': 'ALL DATA'}, {'groupByValue': 'ALL DATA', 'errNeg': -0.21538461538461537, 'errPos': 0.37000000000000005, 'predictedYSmooth': 5.894871794871796, 'RESIDUAL SUGAR': 8.55, 'groupByVarName': 'ALL DATA'}, {'groupByValue': 'ALL DATA', 'errNeg': -0.24736842105263163, 'errPos': 0.29642857142857126, 'predictedYSmooth': 5.69315068493151, 'RESIDUAL SUGAR': 8.8, 'groupByVarName': 'ALL DATA'}, {'groupByValue': 'ALL DATA', 'errNeg': -0.2888888888888888, 'errPos': 0.2538461538461536, 'predictedYSmooth': 5.985483870967743, 'RESIDUAL SUGAR': 9.1, 'groupByVarName': 'ALL DATA'}, {'groupByValue': 'ALL DATA', 'errNeg': -0.25499999999999984, 'errPos': 0.27499999999999986, 'predictedYSmooth': 5.8213333333333335, 'RESIDUAL SUGAR': 9.6, 'groupByVarName': 'ALL DATA'}, {'groupByValue': 'ALL DATA', 'errNeg': -0.1652173913043477, 'errPos': 0.26249999999999984, 'predictedYSmooth': 5.784126984126983, 'RESIDUAL SUGAR': 9.9, 'groupByVarName': 'ALL DATA'}, {'groupByValue': 'ALL DATA', 'errNeg': -0.18999999999999986, 'errPos': 0.19999999999999987, 'predictedYSmooth': 5.768965517241378, 'RESIDUAL SUGAR': 10.2, 'groupByVarName': 'ALL DATA'}, {'groupByValue': 'ALL DATA', 'errNeg': -0.22380952380952382, 'errPos': 0.2821428571428571, 'predictedYSmooth': 5.815000000000002, 'RESIDUAL SUGAR': 10.6, 'groupByVarName': 'ALL DATA'}, {'groupByValue': 'ALL DATA', 'errNeg': -0.20769230769230757, 'errPos': 0.19999999999999993, 'predictedYSmooth': 5.802222222222222, 'RESIDUAL SUGAR': 10.8, 'groupByVarName': 'ALL DATA'}, {'groupByValue': 'ALL DATA', 'errNeg': -0.1879999999999999, 'errPos': 0.3153846153846152, 'predictedYSmooth': 5.610294117647061, 'RESIDUAL SUGAR': 11.2, 'groupByVarName': 'ALL DATA'}, {'groupByValue': 'ALL DATA', 'errNeg': -0.30999999999999994, 'errPos': 0.24166666666666656, 'predictedYSmooth': 5.755555555555554, 'RESIDUAL SUGAR': 11.7, 'groupByVarName': 'ALL DATA'}, {'groupByValue': 'ALL DATA', 'errNeg': -0.2130434782608695, 'errPos': 0.2391304347826085, 'predictedYSmooth': 5.508108108108107, 'RESIDUAL SUGAR': 12.0, 'groupByVarName': 'ALL DATA'}, {'groupByValue': 'ALL DATA', 'errNeg': -0.2222222222222222, 'errPos': 0.21111111111111094, 'predictedYSmooth': 5.551851851851853, 'RESIDUAL SUGAR': 12.3, 'groupByVarName': 'ALL DATA'}, {'groupByValue': 'ALL DATA', 'errNeg': -0.23461538461538448, 'errPos': 0.24117647058823521, 'predictedYSmooth': 5.724637681159421, 'RESIDUAL SUGAR': 12.7, 'groupByVarName': 'ALL DATA'}, {'groupByValue': 'ALL DATA', 'errNeg': -0.1842105263157893, 'errPos': 0.2833333333333332, 'predictedYSmooth': 5.861333333333333, 'RESIDUAL SUGAR': 13.0, 'groupByVarName': 'ALL DATA'}, {'groupByValue': 'ALL DATA', 'errNeg': -0.36250000000000004, 'errPos': 0.23684210526315785, 'predictedYSmooth': 5.6716981132075475, 'RESIDUAL SUGAR': 13.3, 'groupByVarName': 'ALL DATA'}, {'groupByValue': 'ALL DATA', 'errNeg': -0.19090909090909067, 'errPos': 0.20454545454545447, 'predictedYSmooth': 5.813235294117646, 'RESIDUAL SUGAR': 13.8, 'groupByVarName': 'ALL DATA'}, {'groupByValue': 'ALL DATA', 'errNeg': -0.3266666666666666, 'errPos': 0.1666666666666666, 'predictedYSmooth': 6.640983606557376, 'RESIDUAL SUGAR': 14.2, 'groupByVarName': 'ALL DATA'}, {'groupByValue': 'ALL DATA', 'errNeg': -0.31428571428571417, 'errPos': 0.16153846153846124, 'predictedYSmooth': 5.913698630136988, 'RESIDUAL SUGAR': 14.6, 'groupByVarName': 'ALL DATA'}, {'groupByValue': 'ALL DATA', 'errNeg': -0.17894736842105255, 'errPos': 0.1866666666666666, 'predictedYSmooth': 5.849122807017545, 'RESIDUAL SUGAR': 15.0, 'groupByVarName': 'ALL DATA'}, {'groupByValue': 'ALL DATA', 'errNeg': -0.2090909090909089, 'errPos': 0.30714285714285694, 'predictedYSmooth': 5.710666666666669, 'RESIDUAL SUGAR': 15.6, 'groupByVarName': 'ALL DATA'}, {'groupByValue': 'ALL DATA', 'errNeg': -0.2166666666666667, 'errPos': 0.2368421052631578, 'predictedYSmooth': 5.380000000000002, 'RESIDUAL SUGAR': 16.4, 'groupByVarName': 'ALL DATA'}, {'groupByValue': 'ALL DATA', 'errNeg': -0.29000000000000004, 'errPos': 0.14999999999999977, 'predictedYSmooth': 5.734375000000002, 'RESIDUAL SUGAR': 17.35, 'groupByVarName': 'ALL DATA'}, {'groupByValue': 'ALL DATA', 'errNeg': -0.17058823529411735, 'errPos': 0.23333333333333325, 'predictedYSmooth': 5.497014925373133, 'RESIDUAL SUGAR': 18.2, 'groupByVarName': 'ALL DATA'}, {'groupByValue': 'ALL DATA', 'errNeg': -0.1933333333333331, 'errPos': 0.23157894736842097, 'predictedYSmooth': 5.531746031746031, 'RESIDUAL SUGAR': 65.8, 'groupByVarName': 'ALL DATA'}]}]\n"
     ]
    },
    {
     "name": "stdout",
     "output_type": "stream",
     "text": [
      "[{'Type': 'Continuous', 'Data': [{'groupByValue': 'ALL DATA', 'errNeg': -0.2717948717948718, 'errPos': 0.3270833333333332, 'FREE SULFUR DIOXIDE': 4.0, 'predictedYSmooth': 5.587068965517243, 'groupByVarName': 'ALL DATA'}, {'groupByValue': 'ALL DATA', 'errNeg': -0.221951219512195, 'errPos': 0.3390624999999999, 'FREE SULFUR DIOXIDE': 5.0, 'predictedYSmooth': 5.446511627906979, 'groupByVarName': 'ALL DATA'}, {'groupByValue': 'ALL DATA', 'errNeg': -0.2422535211267604, 'errPos': 0.2970149253731342, 'FREE SULFUR DIOXIDE': 6.0, 'predictedYSmooth': 5.705847953216372, 'groupByVarName': 'ALL DATA'}, {'groupByValue': 'ALL DATA', 'errNeg': -0.2972972972972972, 'errPos': 0.24736842105263146, 'FREE SULFUR DIOXIDE': 7.0, 'predictedYSmooth': 5.556250000000001, 'groupByVarName': 'ALL DATA'}, {'groupByValue': 'ALL DATA', 'errNeg': -0.21666666666666648, 'errPos': 0.31351351351351353, 'FREE SULFUR DIOXIDE': 8.0, 'predictedYSmooth': 5.50989010989011, 'groupByVarName': 'ALL DATA'}, {'groupByValue': 'ALL DATA', 'errNeg': -0.3531249999999999, 'errPos': 0.26206896551724124, 'FREE SULFUR DIOXIDE': 9.0, 'predictedYSmooth': 5.486813186813188, 'groupByVarName': 'ALL DATA'}, {'groupByValue': 'ALL DATA', 'errNeg': -0.23181818181818165, 'errPos': 0.2874999999999998, 'FREE SULFUR DIOXIDE': 10.0, 'predictedYSmooth': 5.586567164179106, 'groupByVarName': 'ALL DATA'}, {'groupByValue': 'ALL DATA', 'errNeg': -0.2540540540540539, 'errPos': 0.2617647058823529, 'FREE SULFUR DIOXIDE': 11.0, 'predictedYSmooth': 5.495192307692307, 'groupByVarName': 'ALL DATA'}, {'groupByValue': 'ALL DATA', 'errNeg': -0.25111111111111095, 'errPos': 0.30909090909090886, 'FREE SULFUR DIOXIDE': 12.0, 'predictedYSmooth': 5.758267716535433, 'groupByVarName': 'ALL DATA'}, {'groupByValue': 'ALL DATA', 'errNeg': -0.2387096774193547, 'errPos': 0.29130434782608683, 'FREE SULFUR DIOXIDE': 13.0, 'predictedYSmooth': 5.642857142857141, 'groupByVarName': 'ALL DATA'}, {'groupByValue': 'ALL DATA', 'errNeg': -0.31874999999999987, 'errPos': 0.2727272727272726, 'FREE SULFUR DIOXIDE': 14.0, 'predictedYSmooth': 5.7347457627118645, 'groupByVarName': 'ALL DATA'}, {'groupByValue': 'ALL DATA', 'errNeg': -0.32962962962962955, 'errPos': 0.2786885245901638, 'FREE SULFUR DIOXIDE': 15.0, 'predictedYSmooth': 5.663694267515926, 'groupByVarName': 'ALL DATA'}, {'groupByValue': 'ALL DATA', 'errNeg': -0.2886363636363635, 'errPos': 0.3051282051282051, 'FREE SULFUR DIOXIDE': 16.0, 'predictedYSmooth': 5.6599999999999975, 'groupByVarName': 'ALL DATA'}, {'groupByValue': 'ALL DATA', 'errNeg': -0.2823529411764705, 'errPos': 0.27608695652173904, 'FREE SULFUR DIOXIDE': 17.0, 'predictedYSmooth': 5.7536912751677844, 'groupByVarName': 'ALL DATA'}, {'groupByValue': 'ALL DATA', 'errNeg': -0.23658536585365847, 'errPos': 0.3076923076923076, 'FREE SULFUR DIOXIDE': 18.0, 'predictedYSmooth': 5.772222222222222, 'groupByVarName': 'ALL DATA'}, {'groupByValue': 'ALL DATA', 'errNeg': -0.2833333333333333, 'errPos': 0.22978723404255297, 'FREE SULFUR DIOXIDE': 19.0, 'predictedYSmooth': 5.893495934959351, 'groupByVarName': 'ALL DATA'}, {'groupByValue': 'ALL DATA', 'errNeg': -0.25909090909090904, 'errPos': 0.2612244897959181, 'FREE SULFUR DIOXIDE': 20.0, 'predictedYSmooth': 5.775757575757577, 'groupByVarName': 'ALL DATA'}, {'groupByValue': 'ALL DATA', 'errNeg': -0.24318181818181808, 'errPos': 0.21296296296296283, 'FREE SULFUR DIOXIDE': 21.0, 'predictedYSmooth': 5.737313432835823, 'groupByVarName': 'ALL DATA'}, {'groupByValue': 'ALL DATA', 'errNeg': -0.21777777777777768, 'errPos': 0.22244897959183657, 'FREE SULFUR DIOXIDE': 22.0, 'predictedYSmooth': 5.9120967741935475, 'groupByVarName': 'ALL DATA'}, {'groupByValue': 'ALL DATA', 'errNeg': -0.27777777777777757, 'errPos': 0.23214285714285698, 'FREE SULFUR DIOXIDE': 23.0, 'predictedYSmooth': 5.80985915492958, 'groupByVarName': 'ALL DATA'}, {'groupByValue': 'ALL DATA', 'errNeg': -0.21698113207547162, 'errPos': 0.2552631578947368, 'FREE SULFUR DIOXIDE': 24.0, 'predictedYSmooth': 5.831372549019608, 'groupByVarName': 'ALL DATA'}, {'groupByValue': 'ALL DATA', 'errNeg': -0.23255813953488363, 'errPos': 0.24000000000000002, 'FREE SULFUR DIOXIDE': 25.0, 'predictedYSmooth': 5.917037037037034, 'groupByVarName': 'ALL DATA'}, {'groupByValue': 'ALL DATA', 'errNeg': -0.2591836734693876, 'errPos': 0.2516129032258064, 'FREE SULFUR DIOXIDE': 26.0, 'predictedYSmooth': 5.9496894409937875, 'groupByVarName': 'ALL DATA'}, {'groupByValue': 'ALL DATA', 'errNeg': -0.26486486486486477, 'errPos': 0.293181818181818, 'FREE SULFUR DIOXIDE': 27.0, 'predictedYSmooth': 5.828906249999999, 'groupByVarName': 'ALL DATA'}, {'groupByValue': 'ALL DATA', 'errNeg': -0.21428571428571427, 'errPos': 0.2333333333333332, 'FREE SULFUR DIOXIDE': 28.0, 'predictedYSmooth': 5.902962962962964, 'groupByVarName': 'ALL DATA'}, {'groupByValue': 'ALL DATA', 'errNeg': -0.2158730158730157, 'errPos': 0.293877551020408, 'FREE SULFUR DIOXIDE': 29.0, 'predictedYSmooth': 6.17826086956522, 'groupByVarName': 'ALL DATA'}, {'groupByValue': 'ALL DATA', 'errNeg': -0.2518518518518519, 'errPos': 0.25249999999999995, 'FREE SULFUR DIOXIDE': 30.0, 'predictedYSmooth': 6.039130434782609, 'groupByVarName': 'ALL DATA'}, {'groupByValue': 'ALL DATA', 'errNeg': -0.28627450980392144, 'errPos': 0.26904761904761887, 'FREE SULFUR DIOXIDE': 31.0, 'predictedYSmooth': 6.0111842105263165, 'groupByVarName': 'ALL DATA'}, {'groupByValue': 'ALL DATA', 'errNeg': -0.25999999999999995, 'errPos': 0.2404255319148935, 'FREE SULFUR DIOXIDE': 32.0, 'predictedYSmooth': 5.940458015267179, 'groupByVarName': 'ALL DATA'}, {'groupByValue': 'ALL DATA', 'errNeg': -0.2159999999999998, 'errPos': 0.2454545454545453, 'FREE SULFUR DIOXIDE': 33.0, 'predictedYSmooth': 6.034959349593496, 'groupByVarName': 'ALL DATA'}, {'groupByValue': 'ALL DATA', 'errNeg': -0.23877551020408147, 'errPos': 0.26101694915254225, 'FREE SULFUR DIOXIDE': 34.0, 'predictedYSmooth': 5.895205479452055, 'groupByVarName': 'ALL DATA'}, {'groupByValue': 'ALL DATA', 'errNeg': -0.19374999999999987, 'errPos': 0.24090909090909082, 'FREE SULFUR DIOXIDE': 35.0, 'predictedYSmooth': 5.988194444444446, 'groupByVarName': 'ALL DATA'}, {'groupByValue': 'ALL DATA', 'errNeg': -0.23043478260869557, 'errPos': 0.20961538461538445, 'FREE SULFUR DIOXIDE': 36.0, 'predictedYSmooth': 5.930714285714286, 'groupByVarName': 'ALL DATA'}, {'groupByValue': 'ALL DATA', 'errNeg': -0.22903225806451605, 'errPos': 0.2249999999999999, 'FREE SULFUR DIOXIDE': 37.0, 'predictedYSmooth': 6.10701754385965, 'groupByVarName': 'ALL DATA'}, {'groupByValue': 'ALL DATA', 'errNeg': -0.20857142857142846, 'errPos': 0.2088235294117646, 'FREE SULFUR DIOXIDE': 38.0, 'predictedYSmooth': 6.033628318584068, 'groupByVarName': 'ALL DATA'}, {'groupByValue': 'ALL DATA', 'errNeg': -0.2787878787878787, 'errPos': 0.2629629629629629, 'FREE SULFUR DIOXIDE': 39.0, 'predictedYSmooth': 6.062105263157895, 'groupByVarName': 'ALL DATA'}, {'groupByValue': 'ALL DATA', 'errNeg': -0.1999999999999999, 'errPos': 0.20769230769230765, 'FREE SULFUR DIOXIDE': 40.0, 'predictedYSmooth': 6.0063636363636395, 'groupByVarName': 'ALL DATA'}, {'groupByValue': 'ALL DATA', 'errNeg': -0.24146341463414622, 'errPos': 0.2368421052631578, 'FREE SULFUR DIOXIDE': 41.0, 'predictedYSmooth': 6.036283185840709, 'groupByVarName': 'ALL DATA'}, {'groupByValue': 'ALL DATA', 'errNeg': -0.2529411764705881, 'errPos': 0.26176470588235273, 'FREE SULFUR DIOXIDE': 42.0, 'predictedYSmooth': 5.959340659340661, 'groupByVarName': 'ALL DATA'}, {'groupByValue': 'ALL DATA', 'errNeg': -0.21199999999999988, 'errPos': 0.26666666666666666, 'FREE SULFUR DIOXIDE': 43.0, 'predictedYSmooth': 6.108955223880594, 'groupByVarName': 'ALL DATA'}, {'groupByValue': 'ALL DATA', 'errNeg': -0.27307692307692305, 'errPos': 0.1892857142857141, 'FREE SULFUR DIOXIDE': 44.0, 'predictedYSmooth': 5.752631578947368, 'groupByVarName': 'ALL DATA'}, {'groupByValue': 'ALL DATA', 'errNeg': -0.31379310344827577, 'errPos': 0.3000000000000001, 'FREE SULFUR DIOXIDE': 45.0, 'predictedYSmooth': 6.073148148148146, 'groupByVarName': 'ALL DATA'}, {'groupByValue': 'ALL DATA', 'errNeg': -0.3086956521739129, 'errPos': 0.23076923076923067, 'FREE SULFUR DIOXIDE': 46.0, 'predictedYSmooth': 6.013846153846154, 'groupByVarName': 'ALL DATA'}, {'groupByValue': 'ALL DATA', 'errNeg': -0.244, 'errPos': 0.1833333333333332, 'FREE SULFUR DIOXIDE': 47.0, 'predictedYSmooth': 5.785869565217391, 'groupByVarName': 'ALL DATA'}, {'groupByValue': 'ALL DATA', 'errNeg': -0.21764705882352928, 'errPos': 0.2033333333333332, 'FREE SULFUR DIOXIDE': 48.0, 'predictedYSmooth': 5.777142857142856, 'groupByVarName': 'ALL DATA'}, {'groupByValue': 'ALL DATA', 'errNeg': -0.2961538461538461, 'errPos': 0.21599999999999986, 'FREE SULFUR DIOXIDE': 49.0, 'predictedYSmooth': 5.996629213483146, 'groupByVarName': 'ALL DATA'}, {'groupByValue': 'ALL DATA', 'errNeg': -0.23529411764705876, 'errPos': 0.23448275862068943, 'FREE SULFUR DIOXIDE': 50.0, 'predictedYSmooth': 5.830303030303033, 'groupByVarName': 'ALL DATA'}, {'groupByValue': 'ALL DATA', 'errNeg': -0.2304347826086955, 'errPos': 0.2588235294117647, 'FREE SULFUR DIOXIDE': 51.0, 'predictedYSmooth': 5.751666666666666, 'groupByVarName': 'ALL DATA'}, {'groupByValue': 'ALL DATA', 'errNeg': -0.17999999999999977, 'errPos': 0.23157894736842094, 'FREE SULFUR DIOXIDE': 52.0, 'predictedYSmooth': 5.6802631578947365, 'groupByVarName': 'ALL DATA'}, {'groupByValue': 'ALL DATA', 'errNeg': -0.27368421052631586, 'errPos': 0.16315789473684186, 'FREE SULFUR DIOXIDE': 53.0, 'predictedYSmooth': 5.971232876712333, 'groupByVarName': 'ALL DATA'}, {'groupByValue': 'ALL DATA', 'errNeg': -0.29999999999999993, 'errPos': 0.24545454545454526, 'FREE SULFUR DIOXIDE': 54.0, 'predictedYSmooth': 5.66774193548387, 'groupByVarName': 'ALL DATA'}, {'groupByValue': 'ALL DATA', 'errNeg': -0.16666666666666644, 'errPos': 0.20999999999999983, 'FREE SULFUR DIOXIDE': 55.0, 'predictedYSmooth': 5.778333333333333, 'groupByVarName': 'ALL DATA'}, {'groupByValue': 'ALL DATA', 'errNeg': -0.13333333333333308, 'errPos': 0.21666666666666642, 'FREE SULFUR DIOXIDE': 56.0, 'predictedYSmooth': 5.8809523809523805, 'groupByVarName': 'ALL DATA'}, {'groupByValue': 'ALL DATA', 'errNeg': -0.23636363636363625, 'errPos': 0.24137931034482743, 'FREE SULFUR DIOXIDE': 58.0, 'predictedYSmooth': 5.643902439024391, 'groupByVarName': 'ALL DATA'}, {'groupByValue': 'ALL DATA', 'errNeg': -0.2500000000000001, 'errPos': 0.23750000000000004, 'FREE SULFUR DIOXIDE': 59.0, 'predictedYSmooth': 5.635897435897435, 'groupByVarName': 'ALL DATA'}, {'groupByValue': 'ALL DATA', 'errNeg': -0.2617647058823529, 'errPos': 0.26190476190476175, 'FREE SULFUR DIOXIDE': 61.0, 'predictedYSmooth': 5.669662921348315, 'groupByVarName': 'ALL DATA'}, {'groupByValue': 'ALL DATA', 'errNeg': -0.19374999999999987, 'errPos': 0.24516129032258055, 'FREE SULFUR DIOXIDE': 63.0, 'predictedYSmooth': 5.625000000000001, 'groupByVarName': 'ALL DATA'}, {'groupByValue': 'ALL DATA', 'errNeg': -0.24583333333333335, 'errPos': 0.2499999999999999, 'FREE SULFUR DIOXIDE': 66.0, 'predictedYSmooth': 5.591071428571427, 'groupByVarName': 'ALL DATA'}, {'groupByValue': 'ALL DATA', 'errNeg': -0.24117647058823533, 'errPos': 0.1833333333333332, 'FREE SULFUR DIOXIDE': 69.0, 'predictedYSmooth': 5.586153846153847, 'groupByVarName': 'ALL DATA'}, {'groupByValue': 'ALL DATA', 'errNeg': -0.2352941176470587, 'errPos': 0.2294117647058822, 'FREE SULFUR DIOXIDE': 77.0, 'predictedYSmooth': 5.739655172413793, 'groupByVarName': 'ALL DATA'}, {'groupByValue': 'ALL DATA', 'errNeg': -0.18636363636363623, 'errPos': 0.34583333333333316, 'FREE SULFUR DIOXIDE': 289.0, 'predictedYSmooth': 5.761290322580646, 'groupByVarName': 'ALL DATA'}]}]\n"
     ]
    }
   ],
   "source": [
    "# run wbox error\n",
    "WB.run()"
   ]
  },
  {
   "cell_type": "code",
   "execution_count": 31,
   "metadata": {},
   "outputs": [
    {
     "data": {
      "text/plain": [
       "7"
      ]
     },
     "execution_count": 31,
     "metadata": {},
     "output_type": "execute_result"
    }
   ],
   "source": [
    "len(WB.outputs)"
   ]
  },
  {
   "cell_type": "code",
   "execution_count": 32,
   "metadata": {},
   "outputs": [],
   "source": [
    "WB.save('../output/example_winequality_error_nogroup.html')"
   ]
  },
  {
   "cell_type": "markdown",
   "metadata": {},
   "source": [
    "### WhiteBox Sensitivity Analysis <a id=wbox_sensitivity><a>"
   ]
  },
  {
   "cell_type": "code",
   "execution_count": null,
   "metadata": {},
   "outputs": [],
   "source": [
    "# whitebox sensitivity behaves very similarly to WhiteBox Error\n",
    "\n",
    "# specify your dependent variable\n",
    "ydepend = 'quality'\n",
    "\n",
    "\n",
    "# specify groupby variables\n",
    "groupbyVars = ['Type']\n",
    "\n",
    "# we need to create dummy variables to enhance our model further\n",
    "dummydf = df.copy(deep=True)\n",
    "\n",
    "# create dummies example using all categorical columns\n",
    "dummies = pd.concat([pd.get_dummies(dummydf.loc[:, col], prefix = col) for col in dummydf.select_dtypes(include = ['category']).columns], axis = 1)\n",
    "finaldf = pd.concat([dummydf.select_dtypes(include = [np.number]), dummies], axis = 1)\n",
    "\n",
    "\n",
    "\n",
    "# create train dataset for fitting model\n",
    "xtrain = finaldf.loc[:, finaldf.columns != ydepend].copy(deep = True)\n",
    "# create dependent variable dataset\n",
    "ytrain = finaldf.loc[:, ydepend]\n",
    "\n",
    "# fit the model\n",
    "modelobj.fit(xtrain, ytrain)"
   ]
  },
  {
   "cell_type": "code",
   "execution_count": null,
   "metadata": {},
   "outputs": [],
   "source": [
    "\n",
    "# specify featuredict as a subset of columns we want to focus on\n",
    "# specify featuredict as a subset of columns we want to focus on\n",
    "featuredict = {'fixed.acidity': 'FIXED ACIDITY',\n",
    "               'Type': 'TYPE',\n",
    "               'quality': 'SUPERQUALITY',\n",
    "               'AlcoholContent': 'AC',\n",
    "               'sulphates': 'SULPHATES',\n",
    "              'volatile.acidity': 'VOLATILE ACIDITY',\n",
    "              'residual.sugar': 'RESIDUAL SUGAR',\n",
    "              'free.sulfur.dioxide': 'FREE SULFUR DIOXIDE'}\n",
    "\n",
    "# instantiate whitebox sensitivity\n",
    "WB = WhiteBoxSensitivity(modelobj = modelobj,\n",
    "                   model_df = finaldf,\n",
    "                   ydepend= ydepend,\n",
    "                   cat_df = df,\n",
    "                   groupbyvars = groupbyvars,\n",
    "                   featuredict = featuredict,\n",
    "                    verbose=None)\n",
    "# run\n",
    "WB.run()"
   ]
  },
  {
   "cell_type": "code",
   "execution_count": null,
   "metadata": {},
   "outputs": [],
   "source": [
    "# save the final outputs to disk\n",
    "WB.save(fpath = '../output/example_winequality_sensitivity.html')"
   ]
  },
  {
   "cell_type": "code",
   "execution_count": null,
   "metadata": {
    "collapsed": true
   },
   "outputs": [],
   "source": []
  }
 ],
 "metadata": {
  "kernelspec": {
   "display_name": "Python 3",
   "language": "python",
   "name": "python3"
  },
  "language_info": {
   "codemirror_mode": {
    "name": "ipython",
    "version": 3
   },
   "file_extension": ".py",
   "mimetype": "text/x-python",
   "name": "python",
   "nbconvert_exporter": "python",
   "pygments_lexer": "ipython3",
   "version": "3.6.0"
  }
 },
 "nbformat": 4,
 "nbformat_minor": 2
}
