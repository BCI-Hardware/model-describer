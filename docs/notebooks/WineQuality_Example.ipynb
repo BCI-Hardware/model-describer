{
 "cells": [
  {
   "cell_type": "markdown",
   "metadata": {
    "deletable": true,
    "editable": true
   },
   "source": [
    "## model-describer ErrorViz and SensitivityViz Analysis on Wine Quality Data\n",
    "\n",
    "Goals of tutorial include:\n",
    "* [Importing wine quality dataset](#wine_quality)\n",
    "* [Handling categorical features](#categorical)\n",
    "* [Build model](#model)\n",
    "* [Deploying regression ErrorViz graphics](#wbox_error)\n",
    "* [Deploying classification ErrorViz grphics](#error_classification)\n",
    "* [Deploying regression SensitivitiyViz graphics](#wbox_sensitivity)\n",
    "* [SensitivityViz Classification](#sensitivityviz_classification)"
   ]
  },
  {
   "cell_type": "code",
   "execution_count": null,
   "metadata": {
    "collapsed": true,
    "deletable": true,
    "editable": true
   },
   "outputs": [],
   "source": [
    "import pandas as pd\n",
    "import requests\n",
    "import io\n",
    "import numpy as np\n",
    "from sklearn.ensemble import RandomForestRegressor\n",
    "\n",
    "from mdesc.utils import utils as wb_utils\n",
    "from mdesc.eval import ErrorViz, SensitivityViz\n",
    "import mdesc"
   ]
  },
  {
   "cell_type": "code",
   "execution_count": 2,
   "metadata": {
    "collapsed": false,
    "deletable": true,
    "editable": true
   },
   "outputs": [
    {
     "data": {
      "text/plain": [
       "'0.1.2.2'"
      ]
     },
     "execution_count": 2,
     "metadata": {},
     "output_type": "execute_result"
    }
   ],
   "source": [
    "mdesc.__version__"
   ]
  },
  {
   "cell_type": "markdown",
   "metadata": {
    "deletable": true,
    "editable": true
   },
   "source": [
    "### Import wine quality dataset <a id='wine_quality' >\n",
    "Perform basic exploratory data analysis to better understand what types of columns are available"
   ]
  },
  {
   "cell_type": "code",
   "execution_count": 3,
   "metadata": {
    "collapsed": true,
    "deletable": true,
    "editable": true
   },
   "outputs": [],
   "source": [
    "df = pd.read_csv('NotebookData/wine.csv')"
   ]
  },
  {
   "cell_type": "code",
   "execution_count": 4,
   "metadata": {
    "collapsed": false,
    "deletable": true,
    "editable": true
   },
   "outputs": [
    {
     "data": {
      "text/html": [
       "<div>\n",
       "<style scoped>\n",
       "    .dataframe tbody tr th:only-of-type {\n",
       "        vertical-align: middle;\n",
       "    }\n",
       "\n",
       "    .dataframe tbody tr th {\n",
       "        vertical-align: top;\n",
       "    }\n",
       "\n",
       "    .dataframe thead th {\n",
       "        text-align: right;\n",
       "    }\n",
       "</style>\n",
       "<table border=\"1\" class=\"dataframe\">\n",
       "  <thead>\n",
       "    <tr style=\"text-align: right;\">\n",
       "      <th></th>\n",
       "      <th>fixed acidity</th>\n",
       "      <th>volatile acidity</th>\n",
       "      <th>citric acid</th>\n",
       "      <th>residual sugar</th>\n",
       "      <th>chlorides</th>\n",
       "      <th>free sulfur dioxide</th>\n",
       "      <th>total sulfur dioxide</th>\n",
       "      <th>density</th>\n",
       "      <th>pH</th>\n",
       "      <th>sulphates</th>\n",
       "      <th>alcohol</th>\n",
       "      <th>quality</th>\n",
       "      <th>Type</th>\n",
       "    </tr>\n",
       "  </thead>\n",
       "  <tbody>\n",
       "    <tr>\n",
       "      <th>0</th>\n",
       "      <td>low</td>\n",
       "      <td>0.27</td>\n",
       "      <td>0.36</td>\n",
       "      <td>20.7</td>\n",
       "      <td>0.045</td>\n",
       "      <td>45.0</td>\n",
       "      <td>170.0</td>\n",
       "      <td>1.0010</td>\n",
       "      <td>3.00</td>\n",
       "      <td>0.45</td>\n",
       "      <td>low</td>\n",
       "      <td>6</td>\n",
       "      <td>White</td>\n",
       "    </tr>\n",
       "    <tr>\n",
       "      <th>1</th>\n",
       "      <td>low</td>\n",
       "      <td>0.30</td>\n",
       "      <td>0.34</td>\n",
       "      <td>1.6</td>\n",
       "      <td>0.049</td>\n",
       "      <td>14.0</td>\n",
       "      <td>132.0</td>\n",
       "      <td>0.9940</td>\n",
       "      <td>3.30</td>\n",
       "      <td>0.49</td>\n",
       "      <td>low</td>\n",
       "      <td>6</td>\n",
       "      <td>White</td>\n",
       "    </tr>\n",
       "    <tr>\n",
       "      <th>2</th>\n",
       "      <td>medium</td>\n",
       "      <td>0.28</td>\n",
       "      <td>0.40</td>\n",
       "      <td>6.9</td>\n",
       "      <td>0.050</td>\n",
       "      <td>30.0</td>\n",
       "      <td>97.0</td>\n",
       "      <td>0.9951</td>\n",
       "      <td>3.26</td>\n",
       "      <td>0.44</td>\n",
       "      <td>low</td>\n",
       "      <td>6</td>\n",
       "      <td>White</td>\n",
       "    </tr>\n",
       "    <tr>\n",
       "      <th>3</th>\n",
       "      <td>low</td>\n",
       "      <td>0.23</td>\n",
       "      <td>0.32</td>\n",
       "      <td>8.5</td>\n",
       "      <td>0.058</td>\n",
       "      <td>47.0</td>\n",
       "      <td>186.0</td>\n",
       "      <td>0.9956</td>\n",
       "      <td>3.19</td>\n",
       "      <td>0.40</td>\n",
       "      <td>low</td>\n",
       "      <td>6</td>\n",
       "      <td>White</td>\n",
       "    </tr>\n",
       "    <tr>\n",
       "      <th>4</th>\n",
       "      <td>low</td>\n",
       "      <td>0.23</td>\n",
       "      <td>0.32</td>\n",
       "      <td>8.5</td>\n",
       "      <td>0.058</td>\n",
       "      <td>47.0</td>\n",
       "      <td>186.0</td>\n",
       "      <td>0.9956</td>\n",
       "      <td>3.19</td>\n",
       "      <td>0.40</td>\n",
       "      <td>low</td>\n",
       "      <td>6</td>\n",
       "      <td>White</td>\n",
       "    </tr>\n",
       "  </tbody>\n",
       "</table>\n",
       "</div>"
      ],
      "text/plain": [
       "  fixed acidity  volatile acidity  citric acid  residual sugar  chlorides  \\\n",
       "0           low              0.27         0.36            20.7      0.045   \n",
       "1           low              0.30         0.34             1.6      0.049   \n",
       "2        medium              0.28         0.40             6.9      0.050   \n",
       "3           low              0.23         0.32             8.5      0.058   \n",
       "4           low              0.23         0.32             8.5      0.058   \n",
       "\n",
       "   free sulfur dioxide  total sulfur dioxide  density    pH  sulphates  \\\n",
       "0                 45.0                 170.0   1.0010  3.00       0.45   \n",
       "1                 14.0                 132.0   0.9940  3.30       0.49   \n",
       "2                 30.0                  97.0   0.9951  3.26       0.44   \n",
       "3                 47.0                 186.0   0.9956  3.19       0.40   \n",
       "4                 47.0                 186.0   0.9956  3.19       0.40   \n",
       "\n",
       "  alcohol  quality   Type  \n",
       "0     low        6  White  \n",
       "1     low        6  White  \n",
       "2     low        6  White  \n",
       "3     low        6  White  \n",
       "4     low        6  White  "
      ]
     },
     "execution_count": 4,
     "metadata": {},
     "output_type": "execute_result"
    }
   ],
   "source": [
    "df.head()"
   ]
  },
  {
   "cell_type": "code",
   "execution_count": 5,
   "metadata": {
    "collapsed": false,
    "deletable": true,
    "editable": true
   },
   "outputs": [
    {
     "data": {
      "text/plain": [
       "fixed acidity            object\n",
       "volatile acidity        float64\n",
       "citric acid             float64\n",
       "residual sugar          float64\n",
       "chlorides               float64\n",
       "free sulfur dioxide     float64\n",
       "total sulfur dioxide    float64\n",
       "density                 float64\n",
       "pH                      float64\n",
       "sulphates               float64\n",
       "alcohol                  object\n",
       "quality                   int64\n",
       "Type                     object\n",
       "dtype: object"
      ]
     },
     "execution_count": 5,
     "metadata": {},
     "output_type": "execute_result"
    }
   ],
   "source": [
    "df.dtypes # it looks like most of our columns are numeric, with the exception of Type and AlcoholContent"
   ]
  },
  {
   "cell_type": "code",
   "execution_count": 6,
   "metadata": {
    "collapsed": false,
    "deletable": true,
    "editable": true
   },
   "outputs": [
    {
     "data": {
      "text/plain": [
       "alcohol\n",
       "high       356\n",
       "low       3295\n",
       "medium    2846\n",
       "Name: fixed acidity, dtype: int64"
      ]
     },
     "execution_count": 6,
     "metadata": {},
     "output_type": "execute_result"
    }
   ],
   "source": [
    "df.groupby('alcohol')['fixed acidity'].count() # most of our data resides in low/medium alcohol content"
   ]
  },
  {
   "cell_type": "code",
   "execution_count": 7,
   "metadata": {
    "collapsed": false,
    "deletable": true,
    "editable": true
   },
   "outputs": [
    {
     "data": {
      "text/plain": [
       "Type\n",
       "Red      1599\n",
       "White    4898\n",
       "Name: fixed acidity, dtype: int64"
      ]
     },
     "execution_count": 7,
     "metadata": {},
     "output_type": "execute_result"
    }
   ],
   "source": [
    "df.groupby('Type')['fixed acidity'].count() # and most of our data is white wine"
   ]
  },
  {
   "cell_type": "markdown",
   "metadata": {
    "deletable": true,
    "editable": true
   },
   "source": [
    "### Handling categorical data <a id='categorical' >\n",
    "    \n",
    "We can rely on pandas to convert our string/category columns into dummy variables to be used in our models"
   ]
  },
  {
   "cell_type": "code",
   "execution_count": 8,
   "metadata": {
    "collapsed": true,
    "deletable": true,
    "editable": true
   },
   "outputs": [],
   "source": [
    "# dependent variables\n",
    "ydepend = 'quality'\n",
    "\n",
    "# create model data frame which will have categories converted to dummies\n",
    "model_df = pd.get_dummies(df.loc[:, df.columns!=ydepend])"
   ]
  },
  {
   "cell_type": "markdown",
   "metadata": {
    "deletable": true,
    "editable": true
   },
   "source": [
    "### Build model <a id='model' >"
   ]
  },
  {
   "cell_type": "code",
   "execution_count": 9,
   "metadata": {
    "collapsed": false,
    "deletable": true,
    "editable": true
   },
   "outputs": [
    {
     "data": {
      "text/plain": [
       "RandomForestRegressor(bootstrap=True, criterion='mse', max_depth=None,\n",
       "           max_features='auto', max_leaf_nodes=None,\n",
       "           min_impurity_decrease=0.0, min_impurity_split=None,\n",
       "           min_samples_leaf=1, min_samples_split=2,\n",
       "           min_weight_fraction_leaf=0.0, n_estimators=10, n_jobs=1,\n",
       "           oob_score=False, random_state=None, verbose=0, warm_start=False)"
      ]
     },
     "execution_count": 9,
     "metadata": {},
     "output_type": "execute_result"
    }
   ],
   "source": [
    "# build the model\n",
    "modelobj = RandomForestRegressor()\n",
    "\n",
    "modelobj.fit(model_df, df.loc[:, ydepend])"
   ]
  },
  {
   "cell_type": "markdown",
   "metadata": {
    "deletable": true,
    "editable": true
   },
   "source": [
    "### Create ErrorViz Regression <a id='wbox_error' >"
   ]
  },
  {
   "cell_type": "code",
   "execution_count": 10,
   "metadata": {
    "collapsed": false,
    "deletable": true,
    "editable": true
   },
   "outputs": [],
   "source": [
    "# specify keepfeaturelist as a subset of columns we want to focus on\n",
    "\n",
    "keepfeaturelist = ['fixed acidity', \n",
    "                  'quality', \n",
    "                  'alcohol', \n",
    "                  'sulphates', \n",
    "                  'volatile acidity', \n",
    "                  'residual sugar', \n",
    "                  'free sulfur dioxide','Type'\n",
    "                  ]\n",
    "\n",
    "\n",
    "# specify the groupby variables\n",
    "groupbyvars = ['alcohol','Type']\n",
    "\n",
    "# instantiate wbox error\n",
    "EV = ErrorViz(modelobj=modelobj, # sklearn model object\n",
    "                   model_df=model_df, # modelling dataframe\n",
    "                   ydepend=ydepend, # depndent variable\n",
    "                   cat_df=df, # original dataframe\n",
    "                   groupbyvars=groupbyvars, # grouping variables\n",
    "                   keepfeaturelist=keepfeaturelist, # trim final output to these variables\n",
    "                   autoformat_types=True, # auto convert categorical dtypes to objects\n",
    "                   verbose=None, # debug\n",
    "                   round_num=4) # number of digits to round outputs"
   ]
  },
  {
   "cell_type": "code",
   "execution_count": null,
   "metadata": {
    "collapsed": false,
    "deletable": true,
    "editable": true
   },
   "outputs": [],
   "source": [
    "# run wbox error\n",
    "EV.run(output_type='html', output_path='winequality_example.html',\n",
    "      progbar=True,\n",
    "      output_df=False)"
   ]
  },
  {
   "cell_type": "code",
   "execution_count": null,
   "metadata": {
    "collapsed": true,
    "deletable": true,
    "editable": true
   },
   "outputs": [],
   "source": [
    "# if you want to save to an alternative location than what was originally specified\n",
    "EV._save('outputs/winequality_example.html')"
   ]
  },
  {
   "cell_type": "markdown",
   "metadata": {
    "deletable": true,
    "editable": true
   },
   "source": [
    "### ErrorViz Classification <a id='error_classification' >\n",
    "    \n",
    "Basic example of pipeline for ErrorViz in the classification context"
   ]
  },
  {
   "cell_type": "code",
   "execution_count": null,
   "metadata": {
    "collapsed": false,
    "deletable": true,
    "editable": true
   },
   "outputs": [],
   "source": [
    "# lets turn our wine quality dataset into a binary classification task\n",
    "# if the quality rank is greater than 5, convert to 1, otherwise 0\n",
    "\n",
    "classdf = df.copy(deep=True)\n",
    "classdf.loc[:, ydepend] = classdf.loc[:, ydepend].apply(lambda x: 1 if x > 5 else 0)\n",
    "classdf.groupby(ydepend)['citric acid'].count()"
   ]
  },
  {
   "cell_type": "code",
   "execution_count": null,
   "metadata": {
    "collapsed": false,
    "deletable": true,
    "editable": true
   },
   "outputs": [],
   "source": [
    "# import randomforest classification\n",
    "from sklearn.ensemble import RandomForestClassifier\n",
    "\n",
    "clf = RandomForestClassifier(random_state=0)\n",
    "clf.fit(model_df, classdf.loc[:, ydepend])"
   ]
  },
  {
   "cell_type": "code",
   "execution_count": null,
   "metadata": {
    "collapsed": true,
    "deletable": true,
    "editable": true,
    "scrolled": true
   },
   "outputs": [],
   "source": [
    "EV = ErrorViz(clf,\n",
    "              model_df=model_df,\n",
    "              ydepend=ydepend,\n",
    "              cat_df=classdf,\n",
    "              keepfeaturelist=None,\n",
    "              groupbyvars=['Type'],\n",
    "              aggregate_func=np.nanmedian,\n",
    "              verbose=None,\n",
    "              autoformat_types=True\n",
    "              )\n",
    "\n",
    "EV.run(output_path='outputs/error_viz_classification.html',\n",
    "       output_type='html')"
   ]
  },
  {
   "cell_type": "markdown",
   "metadata": {
    "deletable": true,
    "editable": true
   },
   "source": [
    "### SensitivityViz Analysis <a id='wbox_sensitivity' >"
   ]
  },
  {
   "cell_type": "code",
   "execution_count": 11,
   "metadata": {
    "collapsed": false,
    "deletable": true,
    "editable": true
   },
   "outputs": [
    {
     "name": "stdout",
     "output_type": "stream",
     "text": [
      "Percent Complete: 100.0%"
     ]
    }
   ],
   "source": [
    "# instantiate SensitivityViz in much the same way as ErrorViz\n",
    "SV = SensitivityViz(modelobj=modelobj, # model object\n",
    "                    model_df=model_df, # df used to build model\n",
    "                    ydepend=ydepend, # depndent variable\n",
    "                    cat_df=df, # unadjusted dataframe\n",
    "                    groupbyvars=groupbyvars, # grouping variables for detailed analysis\n",
    "                    keepfeaturelist=keepfeaturelist, # variables to keep/render in output\n",
    "                    std_num=1, # how many standard deviations to tweak synthetic data\n",
    "                    verbose=None) # debugging\n",
    "# run\n",
    "SV.run(output_path='outputs/winequality_sensitivity.html',\n",
    "      output_type='html',\n",
    "      progbar=True,\n",
    "      output_df=False)"
   ]
  },
  {
   "cell_type": "markdown",
   "metadata": {
    "deletable": true,
    "editable": true
   },
   "source": [
    "### SensitivityViz Classification <a id='sensitivityviz_classification' >\n",
    "    \n",
    "Same usage as before, just with classification model and dataset"
   ]
  },
  {
   "cell_type": "code",
   "execution_count": null,
   "metadata": {
    "collapsed": false,
    "deletable": true,
    "editable": true
   },
   "outputs": [],
   "source": [
    "WB = SensitivityViz(clf,\n",
    "                    model_df=model_df,\n",
    "                    ydepend=ydepend,\n",
    "                    cat_df=classdf,\n",
    "                    keepfeaturelist=None,\n",
    "                    groupbyvars=['Type'],\n",
    "                    aggregate_func=np.nanmedian,\n",
    "                    verbose=None,\n",
    "                    std_num=2,\n",
    "                    autoformat_types=True,\n",
    "                    )\n",
    "\n",
    "\n",
    "\n",
    "WB.run(output_type='html',\n",
    "       output_path='outputs/sensitivity_classification.html', \n",
    "       progbar=True,\n",
    "      output_df=False)"
   ]
  }
 ],
 "metadata": {
  "kernelspec": {
   "display_name": "Python 2",
   "language": "python",
   "name": "python2"
  },
  "language_info": {
   "codemirror_mode": {
    "name": "ipython",
    "version": 2
   },
   "file_extension": ".py",
   "mimetype": "text/x-python",
   "name": "python",
   "nbconvert_exporter": "python",
   "pygments_lexer": "ipython2",
   "version": "2.7.12"
  }
 },
 "nbformat": 4,
 "nbformat_minor": 2
}
