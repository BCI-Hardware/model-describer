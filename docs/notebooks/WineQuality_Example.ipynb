{
 "cells": [
  {
   "cell_type": "markdown",
   "metadata": {},
   "source": [
    "## WhiteBox Error and Sensitivity Analysis on Wine Quality Data\n",
    "\n",
    "Goals of tutorial include:\n",
    "* [Importing wine quality dataset](#wine_quality)\n",
    "* [Handling categorical features](#categorical)\n",
    "* [Build model](#model)\n",
    "* [Deploying ErrorViz graphics](#wbox_error)\n",
    "* [Deploying SensitivitiyViz graphics](#wbox_sensitivity)"
   ]
  },
  {
   "cell_type": "code",
   "execution_count": 1,
   "metadata": {},
   "outputs": [],
   "source": [
    "import pandas as pd\n",
    "from sklearn.ensemble import RandomForestRegressor\n",
    "\n",
    "from mdesc.utils import utils as wb_utils\n",
    "from mdesc.eval import ErrorViz, SensitivityViz"
   ]
  },
  {
   "cell_type": "markdown",
   "metadata": {},
   "source": [
    "### Import wine quality dataset <a id=wine_quality><a>\n",
    "Perform basic exploratory data analysis to better understand what types of columns are available"
   ]
  },
  {
   "cell_type": "code",
   "execution_count": 2,
   "metadata": {},
   "outputs": [],
   "source": [
    "df = pd.read_csv('./datasets/winequality.csv')"
   ]
  },
  {
   "cell_type": "code",
   "execution_count": 3,
   "metadata": {},
   "outputs": [
    {
     "data": {
      "text/html": [
       "<div>\n",
       "<style scoped>\n",
       "    .dataframe tbody tr th:only-of-type {\n",
       "        vertical-align: middle;\n",
       "    }\n",
       "\n",
       "    .dataframe tbody tr th {\n",
       "        vertical-align: top;\n",
       "    }\n",
       "\n",
       "    .dataframe thead th {\n",
       "        text-align: right;\n",
       "    }\n",
       "</style>\n",
       "<table border=\"1\" class=\"dataframe\">\n",
       "  <thead>\n",
       "    <tr style=\"text-align: right;\">\n",
       "      <th></th>\n",
       "      <th>fixed.acidity</th>\n",
       "      <th>volatile.acidity</th>\n",
       "      <th>citric.acid</th>\n",
       "      <th>residual.sugar</th>\n",
       "      <th>chlorides</th>\n",
       "      <th>free.sulfur.dioxide</th>\n",
       "      <th>total.sulfur.dioxide</th>\n",
       "      <th>density</th>\n",
       "      <th>pH</th>\n",
       "      <th>sulphates</th>\n",
       "      <th>quality</th>\n",
       "      <th>Type</th>\n",
       "      <th>AlcoholContent</th>\n",
       "    </tr>\n",
       "  </thead>\n",
       "  <tbody>\n",
       "    <tr>\n",
       "      <th>0</th>\n",
       "      <td>7.4</td>\n",
       "      <td>0.70</td>\n",
       "      <td>0.00</td>\n",
       "      <td>1.9</td>\n",
       "      <td>0.076</td>\n",
       "      <td>11.0</td>\n",
       "      <td>34.0</td>\n",
       "      <td>0.9978</td>\n",
       "      <td>3.51</td>\n",
       "      <td>0.56</td>\n",
       "      <td>5</td>\n",
       "      <td>Red</td>\n",
       "      <td>Low</td>\n",
       "    </tr>\n",
       "    <tr>\n",
       "      <th>1</th>\n",
       "      <td>7.8</td>\n",
       "      <td>0.88</td>\n",
       "      <td>0.00</td>\n",
       "      <td>2.6</td>\n",
       "      <td>0.098</td>\n",
       "      <td>25.0</td>\n",
       "      <td>67.0</td>\n",
       "      <td>0.9968</td>\n",
       "      <td>3.20</td>\n",
       "      <td>0.68</td>\n",
       "      <td>5</td>\n",
       "      <td>Red</td>\n",
       "      <td>Low</td>\n",
       "    </tr>\n",
       "    <tr>\n",
       "      <th>2</th>\n",
       "      <td>7.8</td>\n",
       "      <td>0.76</td>\n",
       "      <td>0.04</td>\n",
       "      <td>2.3</td>\n",
       "      <td>0.092</td>\n",
       "      <td>15.0</td>\n",
       "      <td>54.0</td>\n",
       "      <td>0.9970</td>\n",
       "      <td>3.26</td>\n",
       "      <td>0.65</td>\n",
       "      <td>5</td>\n",
       "      <td>Red</td>\n",
       "      <td>Low</td>\n",
       "    </tr>\n",
       "    <tr>\n",
       "      <th>3</th>\n",
       "      <td>11.2</td>\n",
       "      <td>0.28</td>\n",
       "      <td>0.56</td>\n",
       "      <td>1.9</td>\n",
       "      <td>0.075</td>\n",
       "      <td>17.0</td>\n",
       "      <td>60.0</td>\n",
       "      <td>0.9980</td>\n",
       "      <td>3.16</td>\n",
       "      <td>0.58</td>\n",
       "      <td>6</td>\n",
       "      <td>Red</td>\n",
       "      <td>Low</td>\n",
       "    </tr>\n",
       "    <tr>\n",
       "      <th>4</th>\n",
       "      <td>7.4</td>\n",
       "      <td>0.70</td>\n",
       "      <td>0.00</td>\n",
       "      <td>1.9</td>\n",
       "      <td>0.076</td>\n",
       "      <td>11.0</td>\n",
       "      <td>34.0</td>\n",
       "      <td>0.9978</td>\n",
       "      <td>3.51</td>\n",
       "      <td>0.56</td>\n",
       "      <td>5</td>\n",
       "      <td>Red</td>\n",
       "      <td>Low</td>\n",
       "    </tr>\n",
       "  </tbody>\n",
       "</table>\n",
       "</div>"
      ],
      "text/plain": [
       "   fixed.acidity  volatile.acidity  citric.acid  residual.sugar  chlorides  \\\n",
       "0            7.4              0.70         0.00             1.9      0.076   \n",
       "1            7.8              0.88         0.00             2.6      0.098   \n",
       "2            7.8              0.76         0.04             2.3      0.092   \n",
       "3           11.2              0.28         0.56             1.9      0.075   \n",
       "4            7.4              0.70         0.00             1.9      0.076   \n",
       "\n",
       "   free.sulfur.dioxide  total.sulfur.dioxide  density    pH  sulphates  \\\n",
       "0                 11.0                  34.0   0.9978  3.51       0.56   \n",
       "1                 25.0                  67.0   0.9968  3.20       0.68   \n",
       "2                 15.0                  54.0   0.9970  3.26       0.65   \n",
       "3                 17.0                  60.0   0.9980  3.16       0.58   \n",
       "4                 11.0                  34.0   0.9978  3.51       0.56   \n",
       "\n",
       "   quality Type AlcoholContent  \n",
       "0        5  Red            Low  \n",
       "1        5  Red            Low  \n",
       "2        5  Red            Low  \n",
       "3        6  Red            Low  \n",
       "4        5  Red            Low  "
      ]
     },
     "execution_count": 3,
     "metadata": {},
     "output_type": "execute_result"
    }
   ],
   "source": [
    "df.head()"
   ]
  },
  {
   "cell_type": "code",
   "execution_count": 4,
   "metadata": {},
   "outputs": [
    {
     "data": {
      "text/plain": [
       "fixed.acidity           float64\n",
       "volatile.acidity        float64\n",
       "citric.acid             float64\n",
       "residual.sugar          float64\n",
       "chlorides               float64\n",
       "free.sulfur.dioxide     float64\n",
       "total.sulfur.dioxide    float64\n",
       "density                 float64\n",
       "pH                      float64\n",
       "sulphates               float64\n",
       "quality                   int64\n",
       "Type                     object\n",
       "AlcoholContent           object\n",
       "dtype: object"
      ]
     },
     "execution_count": 4,
     "metadata": {},
     "output_type": "execute_result"
    }
   ],
   "source": [
    "df.dtypes # it looks like most of our columns are numeric, with the exception of Type and AlcoholContent"
   ]
  },
  {
   "cell_type": "code",
   "execution_count": 5,
   "metadata": {},
   "outputs": [
    {
     "data": {
      "text/plain": [
       "AlcoholContent\n",
       "High       852\n",
       "Low       2832\n",
       "Medium    2813\n",
       "Name: fixed.acidity, dtype: int64"
      ]
     },
     "execution_count": 5,
     "metadata": {},
     "output_type": "execute_result"
    }
   ],
   "source": [
    "df.groupby('AlcoholContent')['fixed.acidity'].count() # most of our data resides in low/medium alcohol content"
   ]
  },
  {
   "cell_type": "code",
   "execution_count": 6,
   "metadata": {},
   "outputs": [
    {
     "data": {
      "text/plain": [
       "Type\n",
       "Red      1599\n",
       "White    4898\n",
       "Name: fixed.acidity, dtype: int64"
      ]
     },
     "execution_count": 6,
     "metadata": {},
     "output_type": "execute_result"
    }
   ],
   "source": [
    "df.groupby('Type')['fixed.acidity'].count() # and most of our data is white wine"
   ]
  },
  {
   "cell_type": "markdown",
   "metadata": {},
   "source": [
    "### Handling categorical data <a id=categorical><a>\n",
    "    \n",
    "We can rely on pandas to convert our string/category columns into dummy variables to be used in our models"
   ]
  },
  {
   "cell_type": "code",
   "execution_count": 7,
   "metadata": {},
   "outputs": [],
   "source": [
    "# dependent variables\n",
    "ydepend = 'quality'\n",
    "\n",
    "# create model data frame which will have categories converted to dummies\n",
    "model_df = pd.get_dummies(df.loc[:, df.columns!=ydepend])"
   ]
  },
  {
   "cell_type": "markdown",
   "metadata": {},
   "source": [
    "### Build model <a id=model><a>"
   ]
  },
  {
   "cell_type": "code",
   "execution_count": 8,
   "metadata": {},
   "outputs": [
    {
     "data": {
      "text/plain": [
       "RandomForestRegressor(bootstrap=True, criterion='mse', max_depth=None,\n",
       "           max_features='auto', max_leaf_nodes=None,\n",
       "           min_impurity_decrease=0.0, min_impurity_split=None,\n",
       "           min_samples_leaf=1, min_samples_split=2,\n",
       "           min_weight_fraction_leaf=0.0, n_estimators=10, n_jobs=1,\n",
       "           oob_score=False, random_state=None, verbose=0, warm_start=False)"
      ]
     },
     "execution_count": 8,
     "metadata": {},
     "output_type": "execute_result"
    }
   ],
   "source": [
    "# build the model\n",
    "modelobj = RandomForestRegressor()\n",
    "\n",
    "modelobj.fit(model_df, df.loc[:, ydepend])"
   ]
  },
  {
   "cell_type": "markdown",
   "metadata": {},
   "source": [
    "### Create WhiteBoxError <a id=wbox_error><a>"
   ]
  },
  {
   "cell_type": "code",
   "execution_count": 12,
   "metadata": {},
   "outputs": [],
   "source": [
    "# specify keepfeaturelist as a subset of columns we want to focus on\n",
    "\n",
    "keepfeaturelist = ['fixed.acidity', \n",
    "                  'quality', \n",
    "                  'AlcoholContent', \n",
    "                  'sulphates', \n",
    "                  'volatile.acidity', \n",
    "                  'residual.sugar', \n",
    "                  'free.sulfur.dioxide',\n",
    "                  'ALL DATA']\n",
    "\n",
    "\n",
    "# hack it for one groupby variable so we can also see how the model is doing across the entire space\n",
    "df['ALL DATA'] = 'ALL DATA'\n",
    "\n",
    "# specify the groupby variables\n",
    "groupbyvars = ['AlcoholContent', 'ALL DATA']\n",
    "\n",
    "# instantiate wbox error\n",
    "EV = ErrorViz(modelobj=modelobj,\n",
    "                   model_df=model_df,\n",
    "                   ydepend=ydepend,\n",
    "                   cat_df=df, \n",
    "                   groupbyvars=groupbyvars,\n",
    "                   keepfeaturelist=keepfeaturelist,\n",
    "                   autoformat_types=True,\n",
    "                   verbose=None,\n",
    "                   round_num=4)"
   ]
  },
  {
   "cell_type": "code",
   "execution_count": 13,
   "metadata": {},
   "outputs": [
    {
     "name": "stderr",
     "output_type": "stream",
     "text": [
      "C:\\Users\\jlewris\\AppData\\Local\\Continuum\\anaconda3\\lib\\site-packages\\numpy\\lib\\nanfunctions.py:1018: RuntimeWarning: Mean of empty slice\n",
      "  return np.nanmean(a, axis, out=out, keepdims=keepdims)\n"
     ]
    },
    {
     "name": "stdout",
     "output_type": "stream",
     "text": [
      "Percent Complete: 100%"
     ]
    }
   ],
   "source": [
    "# run wbox error\n",
    "EV.run(output_type='html', output_path='winequality_example.html')"
   ]
  },
  {
   "cell_type": "code",
   "execution_count": 14,
   "metadata": {},
   "outputs": [],
   "source": [
    "# if you want to save to an alternative location than what was originally specified\n",
    "EV._save('winequality_example.html')"
   ]
  },
  {
   "cell_type": "markdown",
   "metadata": {},
   "source": [
    "### WhiteBox Sensitivity Analysis <a id=wbox_sensitivity><a>"
   ]
  },
  {
   "cell_type": "code",
   "execution_count": null,
   "metadata": {
    "collapsed": true
   },
   "outputs": [],
   "source": [
    "# whitebox sensitivity behaves very similarly to WhiteBox Error\n",
    "\n",
    "# specify your dependent variable\n",
    "ydepend = 'quality'\n",
    "\n",
    "\n",
    "# specify groupby variables\n",
    "groupbyVars = ['Type']\n",
    "\n",
    "# we need to create dummy variables to enhance our model further\n",
    "dummydf = df.copy(deep=True)\n",
    "\n",
    "# create dummies example using all categorical columns\n",
    "dummies = pd.concat([pd.get_dummies(dummydf.loc[:, col], prefix = col) for col in dummydf.select_dtypes(include = ['category']).columns], axis = 1)\n",
    "finaldf = pd.concat([dummydf.select_dtypes(include = [np.number]), dummies], axis = 1)\n",
    "\n",
    "\n",
    "\n",
    "# create train dataset for fitting model\n",
    "xtrain = finaldf.loc[:, finaldf.columns != ydepend].copy(deep = True)\n",
    "# create dependent variable dataset\n",
    "ytrain = finaldf.loc[:, ydepend]\n",
    "\n",
    "# fit the model\n",
    "modelobj.fit(xtrain, ytrain)"
   ]
  },
  {
   "cell_type": "code",
   "execution_count": null,
   "metadata": {
    "collapsed": true
   },
   "outputs": [],
   "source": [
    "\n",
    "# specify featuredict as a subset of columns we want to focus on\n",
    "# specify featuredict as a subset of columns we want to focus on\n",
    "featuredict = {'fixed.acidity': 'FIXED ACIDITY',\n",
    "               'Type': 'TYPE',\n",
    "               'quality': 'SUPERQUALITY',\n",
    "               'AlcoholContent': 'AC',\n",
    "               'sulphates': 'SULPHATES',\n",
    "              'volatile.acidity': 'VOLATILE ACIDITY',\n",
    "              'residual.sugar': 'RESIDUAL SUGAR',\n",
    "              'free.sulfur.dioxide': 'FREE SULFUR DIOXIDE'}\n",
    "\n",
    "# instantiate whitebox sensitivity\n",
    "SV = SensitivityViz(modelobj = modelobj,\n",
    "                   model_df = finaldf,\n",
    "                   ydepend= ydepend,\n",
    "                   cat_df = df,\n",
    "                   groupbyvars = groupbyvars,\n",
    "                   featuredict = featuredict,\n",
    "                    verbose=None)\n",
    "# run\n",
    "SV.run(output_path='../output/example_winequality_sensitivity.html',\n",
    "      output_type='html')"
   ]
  },
  {
   "cell_type": "code",
   "execution_count": null,
   "metadata": {
    "collapsed": true
   },
   "outputs": [],
   "source": [
    "# save the final outputs to disk\n",
    "WB.save(fpath = '../output/example_winequality_sensitivity.html')"
   ]
  },
  {
   "cell_type": "code",
   "execution_count": null,
   "metadata": {
    "collapsed": true
   },
   "outputs": [],
   "source": []
  }
 ],
 "metadata": {
  "kernelspec": {
   "display_name": "Python 3",
   "language": "python",
   "name": "python3"
  },
  "language_info": {
   "codemirror_mode": {
    "name": "ipython",
    "version": 3
   },
   "file_extension": ".py",
   "mimetype": "text/x-python",
   "name": "python",
   "nbconvert_exporter": "python",
   "pygments_lexer": "ipython3",
   "version": "3.6.4"
  }
 },
 "nbformat": 4,
 "nbformat_minor": 2
}
