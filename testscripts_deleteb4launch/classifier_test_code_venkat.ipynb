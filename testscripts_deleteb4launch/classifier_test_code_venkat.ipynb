{
 "cells": [
  {
   "cell_type": "code",
   "execution_count": 19,
   "metadata": {
    "collapsed": false,
    "deletable": true,
    "editable": true
   },
   "outputs": [],
   "source": [
    "from sklearn.ensemble import RandomForestClassifier\n",
    "from sklearn.ensemble import GradientBoostingClassifier\n",
    "from sklearn.linear_model import LogisticRegression\n",
    "from sklearn.linear_model import LassoLars\n",
    "from sklearn.svm import SVC\n",
    "from sklearn.naive_bayes import BernoulliNB\n",
    "from sklearn.naive_bayes import GaussianNB\n",
    "from sklearn.isotonic import IsotonicRegression\n",
    "from sklearn.cross_decomposition import PLSRegression\n",
    "from sklearn.linear_model import PassiveAggressiveClassifier\n",
    "from sklearn import tree\n",
    "import pandas as pd\n",
    "import numpy as np\n",
    "from whitebox.eval import WhiteBoxSensitivity\n",
    "import time\n",
    "import datetime"
   ]
  },
  {
   "cell_type": "code",
   "execution_count": 20,
   "metadata": {
    "collapsed": true,
    "deletable": true,
    "editable": true
   },
   "outputs": [],
   "source": [
    "df = pd.read_csv(\"sample_classifier_data.csv\")"
   ]
  },
  {
   "cell_type": "code",
   "execution_count": 21,
   "metadata": {
    "collapsed": true,
    "deletable": true,
    "editable": true
   },
   "outputs": [],
   "source": [
    "ydepend = 'response'\n",
    "df['column1.bin'] = df['column1'].apply(lambda x: 'bin_0' if x > 0 else 'bin_1')\n",
    "df['column2.bin'] = df['column2'].apply(lambda x: 'bin_0' if x > 0 else 'bin_1')\n",
    "\n",
    "string_categories = df.select_dtypes(include = ['O'])\n",
    "# iterate over string categories\n",
    "for cat in string_categories:\n",
    "    df[cat] = pd.Categorical(df[cat])\n",
    "    \n",
    "df.select_dtypes(include = ['category'])\n",
    "model_df = df.copy(deep = True)\n",
    "\n",
    "\n",
    "dummies = pd.concat([pd.get_dummies(model_df.loc[:, col], prefix = col) for col in model_df.select_dtypes(include = ['category']).columns], axis = 1)\n",
    "finaldf = pd.concat([model_df.select_dtypes(include = [np.number]), dummies], axis = 1)"
   ]
  },
  {
   "cell_type": "code",
   "execution_count": 22,
   "metadata": {
    "collapsed": false,
    "deletable": true,
    "editable": true
   },
   "outputs": [
    {
     "name": "stderr",
     "output_type": "stream",
     "text": [
      "c:\\python27\\lib\\site-packages\\sklearn\\linear_model\\stochastic_gradient.py:84: FutureWarning: max_iter and tol parameters have been added in <class 'sklearn.linear_model.passive_aggressive.PassiveAggressiveClassifier'> in 0.19. If both are left unset, they default to max_iter=5 and tol=None. If tol is not None, max_iter defaults to max_iter=1000. From 0.21, default max_iter will be 1000, and default tol will be 1e-3.\n",
      "  \"and default tol will be 1e-3.\" % type(self), FutureWarning)\n"
     ]
    }
   ],
   "source": [
    "\n",
    "\n",
    "#clf = RandomForestClassifier()\n",
    "#clf = SVC()\n",
    "#clf = BernoulliNB()\n",
    "#clf = GaussianNB()\n",
    "#clf = tree.DecisionTreeClassifier()\n",
    "clf = PassiveAggressiveClassifier()\n",
    "clf.fit(finaldf.loc[:, finaldf.columns != ydepend], df.loc[:, ydepend])\n",
    "\n",
    "\n",
    "WB = WhiteBoxSensitivity(clf,\n",
    "                    model_df=finaldf,\n",
    "                    ydepend=ydepend,\n",
    "                    cat_df=df,\n",
    "                    featuredict=None,\n",
    "                    groupbyvars=['column1.bin','column2.bin'],\n",
    "                    aggregate_func=np.mean,\n",
    "                    verbose=None,\n",
    "                     std_num=2\n",
    "                    )\n",
    "\n",
    "    \n"
   ]
  },
  {
   "cell_type": "code",
   "execution_count": 23,
   "metadata": {
    "collapsed": false,
    "deletable": true,
    "editable": true
   },
   "outputs": [
    {
     "name": "stdout",
     "output_type": "stream",
     "text": [
      "Run Time  0:02:57.358000\n"
     ]
    }
   ],
   "source": [
    "starttime = time.time()\n",
    "WB.run()\n",
    "print \"Run Time \",datetime.timedelta(seconds=time.time() - starttime)"
   ]
  },
  {
   "cell_type": "code",
   "execution_count": 24,
   "metadata": {
    "collapsed": false,
    "deletable": true,
    "editable": true
   },
   "outputs": [],
   "source": [
    "WB.save('./test_lassolars_sensitivity.html')"
   ]
  },
  {
   "cell_type": "code",
   "execution_count": 25,
   "metadata": {
    "collapsed": false,
    "deletable": true,
    "editable": true
   },
   "outputs": [],
   "source": [
    "\n",
    "from whitebox.eval import WhiteBoxError\n",
    "WB = WhiteBoxError(clf,\n",
    "                    model_df=finaldf,\n",
    "                    ydepend=ydepend,\n",
    "                    cat_df=df,\n",
    "                    featuredict=None,\n",
    "                    groupbyvars=['column1.bin','column2.bin'],\n",
    "                    aggregate_func=np.mean,\n",
    "                    verbose=None\n",
    "                    )"
   ]
  },
  {
   "cell_type": "code",
   "execution_count": 26,
   "metadata": {
    "collapsed": false,
    "deletable": true,
    "editable": true
   },
   "outputs": [
    {
     "name": "stdout",
     "output_type": "stream",
     "text": [
      "Run Time  1:03:43.757000\n"
     ]
    }
   ],
   "source": [
    "starttime = time.time()\n",
    "WB.run()\n",
    "print \"Run Time \",datetime.timedelta(seconds=time.time() - starttime)"
   ]
  },
  {
   "cell_type": "code",
   "execution_count": 27,
   "metadata": {
    "collapsed": false,
    "deletable": true,
    "editable": true
   },
   "outputs": [],
   "source": [
    "WB.save('./test_passiveaggresive_error.html') "
   ]
  },
  {
   "cell_type": "code",
   "execution_count": null,
   "metadata": {
    "collapsed": false,
    "deletable": true,
    "editable": true
   },
   "outputs": [],
   "source": [
    "clf.fit(np.array(finaldf['column4']), np.array(finaldf[ydepend]))"
   ]
  },
  {
   "cell_type": "code",
   "execution_count": null,
   "metadata": {
    "collapsed": false,
    "deletable": true,
    "editable": true
   },
   "outputs": [],
   "source": [
    "x"
   ]
  },
  {
   "cell_type": "code",
   "execution_count": null,
   "metadata": {
    "collapsed": true,
    "deletable": true,
    "editable": true
   },
   "outputs": [],
   "source": []
  }
 ],
 "metadata": {
  "kernelspec": {
   "display_name": "Python 2",
   "language": "python",
   "name": "python2"
  },
  "language_info": {
   "codemirror_mode": {
    "name": "ipython",
    "version": 2
   },
   "file_extension": ".py",
   "mimetype": "text/x-python",
   "name": "python",
   "nbconvert_exporter": "python",
   "pygments_lexer": "ipython2",
   "version": "2.7.12"
  }
 },
 "nbformat": 4,
 "nbformat_minor": 2
}
