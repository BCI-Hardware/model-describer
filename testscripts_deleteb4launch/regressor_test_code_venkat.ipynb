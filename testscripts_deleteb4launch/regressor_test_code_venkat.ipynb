{
 "cells": [
  {
   "cell_type": "code",
   "execution_count": 1,
   "metadata": {
    "collapsed": false,
    "deletable": true,
    "editable": true
   },
   "outputs": [],
   "source": [
    "from sklearn.ensemble import RandomForestClassifier\n",
    "from sklearn.svm import SVC\n",
    "from sklearn.naive_bayes import BernoulliNB\n",
    "import pandas as pd\n",
    "import numpy as np\n",
    "from whitebox.eval import WhiteBoxSensitivity\n",
    "import time\n",
    "import datetime"
   ]
  },
  {
   "cell_type": "code",
   "execution_count": 2,
   "metadata": {
    "collapsed": true,
    "deletable": true,
    "editable": true
   },
   "outputs": [],
   "source": [
    "df = pd.read_csv(\"sample_classifier_data.csv\")"
   ]
  },
  {
   "cell_type": "code",
   "execution_count": 3,
   "metadata": {
    "collapsed": true,
    "deletable": true,
    "editable": true
   },
   "outputs": [],
   "source": [
    "ydepend = 'response'\n",
    "df['column1.bin'] = df['column1'].apply(lambda x: 'bin_0' if x > 0 else 'bin_1')\n",
    "df['column2.bin'] = df['column2'].apply(lambda x: 'bin_0' if x > 0 else 'bin_1')\n",
    "\n",
    "string_categories = df.select_dtypes(include = ['O'])\n",
    "# iterate over string categories\n",
    "for cat in string_categories:\n",
    "    df[cat] = pd.Categorical(df[cat])\n",
    "    \n",
    "df.select_dtypes(include = ['category'])\n",
    "model_df = df.copy(deep = True)\n",
    "\n",
    "\n",
    "dummies = pd.concat([pd.get_dummies(model_df.loc[:, col], prefix = col) for col in model_df.select_dtypes(include = ['category']).columns], axis = 1)\n",
    "finaldf = pd.concat([model_df.select_dtypes(include = [np.number]), dummies], axis = 1)"
   ]
  },
  {
   "cell_type": "code",
   "execution_count": 5,
   "metadata": {
    "collapsed": true,
    "deletable": true,
    "editable": true
   },
   "outputs": [],
   "source": [
    "\n",
    "\n",
    "#clf = RandomForestClassifier()\n",
    "#clf = SVC()\n",
    "clf = BernoulliNB()\n",
    "clf.fit(finaldf.loc[:, finaldf.columns != ydepend], df.loc[:, ydepend])\n",
    "\n",
    "\n",
    "WB = WhiteBoxSensitivity(clf,\n",
    "                    model_df=finaldf,\n",
    "                    ydepend=ydepend,\n",
    "                    cat_df=df,\n",
    "                    featuredict=None,\n",
    "                    groupbyvars=['column1.bin','column2.bin'],\n",
    "                    aggregate_func=np.mean,\n",
    "                    verbose=None,\n",
    "                     std_num=2\n",
    "                    )\n",
    "\n",
    "    \n"
   ]
  },
  {
   "cell_type": "code",
   "execution_count": 6,
   "metadata": {
    "collapsed": false,
    "deletable": true,
    "editable": true
   },
   "outputs": [
    {
     "name": "stdout",
     "output_type": "stream",
     "text": [
      "Run Time  0:02:48.522000\n"
     ]
    }
   ],
   "source": [
    "starttime = time.time()\n",
    "WB.run()\n",
    "print \"Run Time \",datetime.timedelta(seconds=time.time() - starttime)"
   ]
  },
  {
   "cell_type": "code",
   "execution_count": 7,
   "metadata": {
    "collapsed": false,
    "deletable": true,
    "editable": true
   },
   "outputs": [],
   "source": [
    "WB.save('./test_svm_sensitivity.html')"
   ]
  },
  {
   "cell_type": "code",
   "execution_count": 8,
   "metadata": {
    "collapsed": false,
    "deletable": true,
    "editable": true
   },
   "outputs": [],
   "source": [
    "\n",
    "from whitebox.eval import WhiteBoxError\n",
    "WB = WhiteBoxError(clf,\n",
    "                    model_df=finaldf,\n",
    "                    ydepend=ydepend,\n",
    "                    cat_df=df,\n",
    "                    featuredict=None,\n",
    "                    groupbyvars=['column1.bin','column2.bin'],\n",
    "                    aggregate_func=np.mean,\n",
    "                    verbose=None\n",
    "                    )"
   ]
  },
  {
   "cell_type": "code",
   "execution_count": null,
   "metadata": {
    "collapsed": false,
    "deletable": true,
    "editable": true
   },
   "outputs": [],
   "source": [
    "starttime = time.time()\n",
    "WB.run()\n",
    "print \"Run Time \",datetime.timedelta(seconds=time.time() - starttime)"
   ]
  },
  {
   "cell_type": "code",
   "execution_count": null,
   "metadata": {
    "collapsed": false,
    "deletable": true,
    "editable": true
   },
   "outputs": [],
   "source": [
    "WB.save('./test_bernoullinb_error.html') "
   ]
  },
  {
   "cell_type": "code",
   "execution_count": 6,
   "metadata": {
    "collapsed": false,
    "deletable": true,
    "editable": true
   },
   "outputs": [
    {
     "data": {
      "text/plain": [
       "u'0.19.2'"
      ]
     },
     "execution_count": 6,
     "metadata": {},
     "output_type": "execute_result"
    }
   ],
   "source": [
    "pd.__version__"
   ]
  },
  {
   "cell_type": "code",
   "execution_count": null,
   "metadata": {
    "collapsed": true,
    "deletable": true,
    "editable": true
   },
   "outputs": [],
   "source": []
  }
 ],
 "metadata": {
  "kernelspec": {
   "display_name": "Python 2",
   "language": "python",
   "name": "python2"
  },
  "language_info": {
   "codemirror_mode": {
    "name": "ipython",
    "version": 2
   },
   "file_extension": ".py",
   "mimetype": "text/x-python",
   "name": "python",
   "nbconvert_exporter": "python",
   "pygments_lexer": "ipython2",
   "version": "2.7.12"
  }
 },
 "nbformat": 4,
 "nbformat_minor": 2
}
