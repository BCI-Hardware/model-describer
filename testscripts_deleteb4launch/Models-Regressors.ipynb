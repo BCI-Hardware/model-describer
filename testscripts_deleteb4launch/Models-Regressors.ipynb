{
 "cells": [
  {
   "cell_type": "code",
   "execution_count": 1,
   "metadata": {},
   "outputs": [],
   "source": [
    "import pandas as pd\n",
    "import numpy as np\n",
    "from datetime import datetime\n",
    "\n",
    "from whitebox.eval import WhiteBoxSensitivity\n",
    "from whitebox.eval import WhiteBoxError\n"
   ]
  },
  {
   "cell_type": "code",
   "execution_count": 3,
   "metadata": {},
   "outputs": [],
   "source": [
    "df = pd.read_csv(\"./Test_data.csv\")"
   ]
  },
  {
   "cell_type": "code",
   "execution_count": 4,
   "metadata": {},
   "outputs": [],
   "source": [
    "\n",
    "# set up y var\n",
    "# set up some params\n",
    "ydepend = 'response'\n",
    "\n",
    "\n",
    "df['column1bin'] = df['column1'].apply(lambda x: 'bin_0' if x > 0 else 'bin_1')\n",
    "df['column5bin'] = df['column5'].apply(lambda x: 'bin_0' if x > 0 else 'bin_1') \n",
    "\n",
    "string_categories = df.select_dtypes(include = ['O'])\n",
    "# iterate over string categories\n",
    "for cat in string_categories:\n",
    "    df[cat] = pd.Categorical(df[cat]) \n",
    "    \n",
    "df.select_dtypes(include = ['category'])\n",
    "model_df = df.copy(deep = True)\n",
    "\n",
    "# create dummies example using all categorical columns\n",
    "dummies = pd.concat([pd.get_dummies(model_df.loc[:, col], prefix = col) for col in model_df.select_dtypes(include = ['category']).columns], axis = 1)\n",
    "finaldf = pd.concat([model_df.select_dtypes(include = [np.number]), dummies], axis = 1)\n"
   ]
  },
  {
   "cell_type": "code",
   "execution_count": 6,
   "metadata": {},
   "outputs": [
    {
     "name": "stdout",
     "output_type": "stream",
     "text": [
      "2018-02-16 14:16:09.512000\n",
      "C:\\Users\\shrupanda\\AnacondaProjects\\Whitebox\n",
      "C:\\Users\\shrupanda\\AnacondaProjects\\Whitebox\n",
      "RUN TIME-----> 0:55:26.372000\n"
     ]
    }
   ],
   "source": [
    "#from sklearn.linear_model import Lasso\n",
    "#clf = Lasso(alpha = 0.1)\n",
    "\n",
    "#from sklearn.linear_model import Lars\n",
    "#clf = Lars()\n",
    "\n",
    "from sklearn.linear_model import MultiTaskLasso\n",
    "clf = MultiTaskLasso()\n",
    "\n",
    "# fit the model using the dummy dataframe\n",
    "clf.fit(finaldf.loc[:, finaldf.columns != ydepend], df.loc[:, ydepend])\n",
    "\n",
    "start=datetime.now()\n",
    "print start\n",
    "WB = WhiteBoxError(clf,\n",
    "                    model_df=finaldf,\n",
    "                    ydepend=ydepend,\n",
    "                    cat_df=df,\n",
    "                    featuredict=None,\n",
    "                    groupbyvars=['column1bin','column5bin'],\n",
    "                    aggregate_func=np.mean,\n",
    "                    verbose=None\n",
    "                    )\n",
    "WB.run()\n",
    "\n",
    "WB.save('./multiTaskLasso-Error.html')\n",
    "\n",
    "print \"RUN TIME----->\", datetime.now()-start"
   ]
  },
  {
   "cell_type": "code",
   "execution_count": 7,
   "metadata": {},
   "outputs": [
    {
     "ename": "ValueError",
     "evalue": "For mono-task outputs, use ElasticNet",
     "output_type": "error",
     "traceback": [
      "\u001b[1;31m---------------------------------------------------------------------------\u001b[0m",
      "\u001b[1;31mValueError\u001b[0m                                Traceback (most recent call last)",
      "\u001b[1;32m<ipython-input-7-7123b47fb913>\u001b[0m in \u001b[0;36m<module>\u001b[1;34m()\u001b[0m\n\u001b[0;32m     10\u001b[0m \u001b[1;33m\u001b[0m\u001b[0m\n\u001b[0;32m     11\u001b[0m \u001b[1;31m# fit the model using the dummy dataframe\u001b[0m\u001b[1;33m\u001b[0m\u001b[1;33m\u001b[0m\u001b[0m\n\u001b[1;32m---> 12\u001b[1;33m \u001b[0mclf\u001b[0m\u001b[1;33m.\u001b[0m\u001b[0mfit\u001b[0m\u001b[1;33m(\u001b[0m\u001b[0mfinaldf\u001b[0m\u001b[1;33m.\u001b[0m\u001b[0mloc\u001b[0m\u001b[1;33m[\u001b[0m\u001b[1;33m:\u001b[0m\u001b[1;33m,\u001b[0m \u001b[0mfinaldf\u001b[0m\u001b[1;33m.\u001b[0m\u001b[0mcolumns\u001b[0m \u001b[1;33m!=\u001b[0m \u001b[0mydepend\u001b[0m\u001b[1;33m]\u001b[0m\u001b[1;33m,\u001b[0m \u001b[0mdf\u001b[0m\u001b[1;33m.\u001b[0m\u001b[0mloc\u001b[0m\u001b[1;33m[\u001b[0m\u001b[1;33m:\u001b[0m\u001b[1;33m,\u001b[0m \u001b[0mydepend\u001b[0m\u001b[1;33m]\u001b[0m\u001b[1;33m)\u001b[0m\u001b[1;33m\u001b[0m\u001b[0m\n\u001b[0m\u001b[0;32m     13\u001b[0m \u001b[1;33m\u001b[0m\u001b[0m\n\u001b[0;32m     14\u001b[0m \u001b[0mstart\u001b[0m\u001b[1;33m=\u001b[0m\u001b[0mdatetime\u001b[0m\u001b[1;33m.\u001b[0m\u001b[0mnow\u001b[0m\u001b[1;33m(\u001b[0m\u001b[1;33m)\u001b[0m\u001b[1;33m\u001b[0m\u001b[0m\n",
      "\u001b[1;32mc:\\python27\\lib\\site-packages\\sklearn\\linear_model\\coordinate_descent.pyc\u001b[0m in \u001b[0;36mfit\u001b[1;34m(self, X, y)\u001b[0m\n\u001b[0;32m   1741\u001b[0m             \u001b[0mmodel_str\u001b[0m \u001b[1;33m=\u001b[0m \u001b[1;34m'Lasso'\u001b[0m\u001b[1;33m\u001b[0m\u001b[0m\n\u001b[0;32m   1742\u001b[0m         \u001b[1;32mif\u001b[0m \u001b[0my\u001b[0m\u001b[1;33m.\u001b[0m\u001b[0mndim\u001b[0m \u001b[1;33m==\u001b[0m \u001b[1;36m1\u001b[0m\u001b[1;33m:\u001b[0m\u001b[1;33m\u001b[0m\u001b[0m\n\u001b[1;32m-> 1743\u001b[1;33m             \u001b[1;32mraise\u001b[0m \u001b[0mValueError\u001b[0m\u001b[1;33m(\u001b[0m\u001b[1;34m\"For mono-task outputs, use %s\"\u001b[0m \u001b[1;33m%\u001b[0m \u001b[0mmodel_str\u001b[0m\u001b[1;33m)\u001b[0m\u001b[1;33m\u001b[0m\u001b[0m\n\u001b[0m\u001b[0;32m   1744\u001b[0m \u001b[1;33m\u001b[0m\u001b[0m\n\u001b[0;32m   1745\u001b[0m         \u001b[0mn_samples\u001b[0m\u001b[1;33m,\u001b[0m \u001b[0mn_features\u001b[0m \u001b[1;33m=\u001b[0m \u001b[0mX\u001b[0m\u001b[1;33m.\u001b[0m\u001b[0mshape\u001b[0m\u001b[1;33m\u001b[0m\u001b[0m\n",
      "\u001b[1;31mValueError\u001b[0m: For mono-task outputs, use ElasticNet"
     ]
    }
   ],
   "source": [
    "\n",
    "#from sklearn.linear_model import Lasso\n",
    "#clf = Lasso(alpha = 0.1)\n",
    "\n",
    "#from sklearn.linear_model import Lars\n",
    "#clf = Lars()\n",
    "\n",
    "from sklearn.linear_model import MultiTaskLasso\n",
    "clf = MultiTaskLasso()\n",
    "\n",
    "# fit the model using the dummy dataframe\n",
    "clf.fit(finaldf.loc[:, finaldf.columns != ydepend], df.loc[:, ydepend])\n",
    "\n",
    "start=datetime.now()\n",
    "print start\n",
    "WB = WhiteBoxSensitivity(clf,\n",
    "                    model_df=finaldf,\n",
    "                    ydepend=ydepend,\n",
    "                    cat_df=df,\n",
    "                    featuredict=None,\n",
    "                    groupbyvars=['column1bin','column5bin'],\n",
    "                    aggregate_func=np.mean,\n",
    "                    verbose=None,\n",
    "                     std_num=2\n",
    "                    )\n",
    "WB.run()\n",
    "\n",
    "WB.save('./multiTaskLasso-Sensitivity.html')\n",
    "\n",
    "print \"RUN TIME----->\", datetime.now()-start"
   ]
  },
  {
   "cell_type": "code",
   "execution_count": null,
   "metadata": {},
   "outputs": [],
   "source": []
  }
 ],
 "metadata": {
  "kernelspec": {
   "display_name": "Python 2",
   "language": "python",
   "name": "python2"
  },
  "language_info": {
   "codemirror_mode": {
    "name": "ipython",
    "version": 2
   },
   "file_extension": ".py",
   "mimetype": "text/x-python",
   "name": "python",
   "nbconvert_exporter": "python",
   "pygments_lexer": "ipython2",
   "version": "2.7.14"
  }
 },
 "nbformat": 4,
 "nbformat_minor": 2
}
